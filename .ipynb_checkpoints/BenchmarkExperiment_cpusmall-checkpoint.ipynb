{
 "cells": [
  {
   "cell_type": "code",
   "execution_count": 1,
   "metadata": {},
   "outputs": [
    {
     "name": "stderr",
     "output_type": "stream",
     "text": [
      "/usr/local/lib/python3.7/site-packages/lightgbm/__init__.py:46: UserWarning: Starting from version 2.2.1, the library file in distribution wheels for macOS is built by the Apple Clang (Xcode_8.3.3) compiler.\n",
      "This means that in case of installing LightGBM from PyPI via the ``pip install lightgbm`` command, you don't need to install the gcc compiler anymore.\n",
      "Instead of that, you need to install the OpenMP library, which is required for running LightGBM on the system with the Apple Clang compiler.\n",
      "You can install the OpenMP library by the following command: ``brew install libomp``.\n",
      "  \"You can install the OpenMP library by the following command: ``brew install libomp``.\", UserWarning)\n"
     ]
    }
   ],
   "source": [
    "#使用几个benchmark数据集进行实验评估\n",
    "import xgboost as xgb\n",
    "import lightgbm as lgb\n",
    "import numpy as np\n",
    "import pandas as pd\n",
    "import time\n",
    "import matplotlib.pyplot as plt\n",
    "import seaborn as sns\n",
    "import warnings\n",
    "import tarfile\n",
    "import bz2\n",
    "\n",
    "from catboost import CatBoostRegressor\n",
    "from pandas import DataFrame, Series\n",
    "from sklearn import linear_model\n",
    "from sklearn.ensemble import RandomForestRegressor\n",
    "from sklearn.metrics import mean_squared_error\n",
    "from sklearn.model_selection import KFold, train_test_split,GridSearchCV\n",
    "from bz2 import BZ2File as b2f\n",
    "from libsvm.commonutil import svm_read_problem\n",
    "from sklearn.svm import SVR\n",
    "#屏蔽warning\n",
    "warnings.filterwarnings(\"ignore\")"
   ]
  },
  {
   "cell_type": "code",
   "execution_count": 2,
   "metadata": {},
   "outputs": [],
   "source": [
    "#读取相关数据库数据\n",
    "def read_libsvm_data(dataset_name):\n",
    "    y,x = svm_read_problem('./dataset/'+dataset_name+'/'+dataset_name+'.txt')\n",
    "    #print(y)\n",
    "    #print(x)\n",
    "    #从字典中提取出来\n",
    "    X = []\n",
    "    for i in range(len(x)):\n",
    "        xx =[]\n",
    "        for key,value in x[i].items():\n",
    "            xx.append(value)\n",
    "        X.append(xx)\n",
    "    \n",
    "    X = DataFrame(X)\n",
    "    y = Series(y)\n",
    "    return y,X\n",
    "    "
   ]
  },
  {
   "cell_type": "code",
   "execution_count": 3,
   "metadata": {},
   "outputs": [],
   "source": [
    "\"\"\"\n",
    "    A method which can be used for sklearn library training and xgboost, lightgbm and catboost \n",
    "\"\"\"\n",
    "n_fold = 10 #10折交叉验证\n",
    "folds = KFold(n_splits = n_fold,shuffle = True,random_state = 42)\n",
    "def train_model(X,  y, params=None, folds=folds,\n",
    "                model_type='lgb', plot_feature_importance=False, model=None):\n",
    "    \"\"\"\n",
    "\n",
    "    :param X: 训练集输入 数据类型：dataframe\n",
    "    :param X_test: 测试集输入 数据类型：dataframe\n",
    "    :param y: 训练集y 数据类型：Series\n",
    "    :param params: 相关参数\n",
    "    :param folds: 交叉验证折数\n",
    "    :param model_type: lgb、xgb、cat、rfr或者sklearn\n",
    "    :param plot_feature_importance: 是否plot feature importance\n",
    "    :param model:\n",
    "    :return:\n",
    "    \"\"\"\n",
    "    oof = np.zeros(X.shape[0])  # 生成一个跟X行数一样长的零矩阵\n",
    "    #prediction = np.zeros(X_test.shape[0])\n",
    "    scores = []\n",
    "    feature_importance = pd.DataFrame()  # 生成空矩阵\n",
    "    for fold_n, (train_index, valid_index) in enumerate(folds.split(X)):\n",
    "        print('Fold', fold_n, 'started at', time.ctime())\n",
    "        #print(train_index)\n",
    "        if model_type == 'sklearn':\n",
    "            X_train, X_valid = X[train_index], X[valid_index]\n",
    "        else:\n",
    "            X_train, X_valid = X.values[train_index], X.values[valid_index]\n",
    "        y_train, y_valid = y[train_index], y[valid_index]\n",
    "        \n",
    "        if model_type == 'svr':\n",
    "            \n",
    "            model = model\n",
    "            model.fit(X_train, y_train)\n",
    "            \n",
    "            #y_pred_valid = model.best_estimator_.predict(X_valid).reshape(-1, )\n",
    "            y_pred_valid = model.predict(X_valid).reshape(-1, )\n",
    "            score = mean_squared_error(y_valid, y_pred_valid)\n",
    "        \n",
    "        if model_type == 'rfr':\n",
    "            \"\"\"\n",
    "                注意randomforest对nan敏感 需要做处理\n",
    "            \"\"\"\n",
    "            model = model\n",
    "            model.fit(X_train, y_train)\n",
    "            y_pred_valid = model.predict(X_valid).reshape(-1, )\n",
    "            score = mean_squared_error(y_valid, y_pred_valid)\n",
    "\n",
    "            #y_pred = model.predict(X_test)\n",
    "\n",
    "        if model_type == 'lgb':\n",
    "            \"\"\"\n",
    "                #**动态参数 \n",
    "                n_estimators=100: 要拟合的树的棵树，可以认为是训练轮数 \n",
    "                n_jobs=1: 并行运行的多线程数 \n",
    "                nthread [默认为未设置的最大线程数]并行线程数\n",
    "                \"\"\"\n",
    "            model = lgb.LGBMRegressor(**params, n_estimators=20000, nthread=4, n_jobs=-1)\n",
    "            \"\"\"\n",
    "                #eval_metric: 评价指标 rmse - 均方根误差 \n",
    "                early_stopping_rounds: 提前结束轮数 \n",
    "                eval_set:训练集与测试集 \n",
    "                verbose=1000使用详细日志记录级别并将日志记录周期设置为此参数的值\n",
    "                \"\"\"\n",
    "            model.fit(X_train, y_train,\n",
    "                      eval_set=[(X_train, y_train), (X_valid, y_valid)], eval_metric='rmse',\n",
    "                      verbose=1000, early_stopping_rounds=200)\n",
    "\n",
    "            y_pred_valid = model.predict(X_valid)\n",
    "            #y_pred = model.predict(X_test, num_iteration=model.best_iteration_)\n",
    "\n",
    "        if model_type == 'xgb':\n",
    "            train_data = xgb.DMatrix(data=X_train, label=y_train)  # 使用XGBoost的原生版本需要对数据进行转化\n",
    "            valid_data = xgb.DMatrix(data=X_valid, label=y_valid)\n",
    "\n",
    "            watchlist = [(train_data, 'train'), (valid_data, 'valid_data')]\n",
    "            model = xgb.train(dtrain=train_data, num_boost_round=20000, evals=watchlist, early_stopping_rounds=200,\n",
    "                              verbose_eval=500, params=params)\n",
    "            y_pred_valid = model.predict(xgb.DMatrix(X_valid), ntree_limit=model.best_ntree_limit)\n",
    "            \n",
    "            #y_pred = model.predict(xgb.DMatrix(X_test.values), ntree_limit=model.best_ntree_limit)\n",
    "\n",
    "        if model_type == 'sklearn':\n",
    "            model = model\n",
    "            model.fit(X_train, y_train)\n",
    "            y_pred_valid = model.predict(X_valid).reshape(-1, )\n",
    "            score = mean_squared_error(y_valid, y_pred_valid)\n",
    "\n",
    "            #y_pred = model.predict(X_test)\n",
    "\n",
    "        if model_type == 'cat':\n",
    "            model = CatBoostRegressor(iterations=20000, eval_metric='RMSE',\n",
    "                                      **params)\n",
    "            model.fit(X_train, y_train, eval_set=(X_valid, y_valid), cat_features=[], use_best_model=True,\n",
    "                      verbose=False)\n",
    "\n",
    "            y_pred_valid = model.predict(X_valid)\n",
    "            #y_pred = model.predict(X_test)\n",
    "\n",
    "        oof[valid_index] = y_pred_valid.reshape(-1, )  # reshape(-1,)转换成一行 将对valid的预测结果存成矩阵\n",
    "        scores.append(mean_squared_error(y_valid, y_pred_valid) ** 0.5)  # 每交叉验证一次得到一个loss分数，一共有n_fold个值\n",
    "\n",
    "        #prediction += y_pred  # 每次预测的结果累加 可能需要.reshape(-1,)\n",
    "\n",
    "        if model_type == 'lgb':\n",
    "            # feature importance\n",
    "            fold_importance = pd.DataFrame()\n",
    "            fold_importance[\"feature\"] = X.columns\n",
    "            fold_importance[\"importance\"] = model.feature_importances_\n",
    "            fold_importance[\"fold\"] = fold_n + 1  # 第几次交叉验证的标志\n",
    "            feature_importance = pd.concat([feature_importance, fold_importance], axis=0)  # 将每次交叉验证的结果得到的变量importance保存\n",
    "\n",
    "    #prediction /= n_fold\n",
    "\n",
    "    print('CV mean score: {0:.4f}, std: {1:.4f}.'.format(np.mean(scores), np.std(scores)))\n",
    "\n",
    "    if model_type == 'lgb':\n",
    "        feature_importance[\"importance\"] /= n_fold\n",
    "        if plot_feature_importance:\n",
    "            cols = feature_importance[[\"feature\", \"importance\"]].groupby(\"feature\").mean().sort_values(\n",
    "                by=\"importance\", ascending=False)[:50].index\n",
    "\n",
    "            best_features = feature_importance.loc[feature_importance.feature.isin(cols)]\n",
    "\n",
    "            plt.figure(figsize=(16, 12));\n",
    "            sns.barplot(x=\"importance\", y=\"feature\", data=best_features.sort_values(by=\"importance\", ascending=False));\n",
    "            plt.title('LGB Features (avg over folds)')\n",
    "            \n",
    "            return oof,feature_importance\n",
    "            #return oof, prediction, feature_importance\n",
    "        return oof\n",
    "        #return oof, prediction\n",
    "\n",
    "    else:\n",
    "        return oof\n",
    "        #return oof, prediction"
   ]
  },
  {
   "cell_type": "markdown",
   "metadata": {},
   "source": [
    "## cpusmall数据集实验"
   ]
  },
  {
   "cell_type": "code",
   "execution_count": 4,
   "metadata": {},
   "outputs": [],
   "source": [
    "#file = read_bz2_file('./dataset/E2006-tfidf/E2006.test.bz2')\n",
    "y,X = read_libsvm_data('cpusmall')"
   ]
  },
  {
   "cell_type": "markdown",
   "metadata": {},
   "source": [
    "### 基学习器的训练\n",
    "\n",
    "#### support vector regression"
   ]
  },
  {
   "cell_type": "code",
   "execution_count": 5,
   "metadata": {},
   "outputs": [
    {
     "name": "stdout",
     "output_type": "stream",
     "text": [
      "Fold 0 started at Tue Dec 17 00:19:09 2019\n",
      "Fold 1 started at Tue Dec 17 00:19:11 2019\n",
      "Fold 2 started at Tue Dec 17 00:19:14 2019\n",
      "Fold 3 started at Tue Dec 17 00:19:16 2019\n",
      "Fold 4 started at Tue Dec 17 00:19:18 2019\n",
      "Fold 5 started at Tue Dec 17 00:19:21 2019\n",
      "Fold 6 started at Tue Dec 17 00:19:23 2019\n",
      "Fold 7 started at Tue Dec 17 00:19:25 2019\n",
      "Fold 8 started at Tue Dec 17 00:19:28 2019\n",
      "Fold 9 started at Tue Dec 17 00:19:30 2019\n",
      "CV mean score: 18.9234, std: 1.9493.\n"
     ]
    }
   ],
   "source": [
    "#support vector regression\n",
    "param_grid = {\n",
    "    \"kernel\": (\"linear\", 'rbf'), \n",
    "    \"C\": np.logspace(-3, 3, 7), \n",
    "    \"gamma\": np.logspace(-3, 3, 7)}\n",
    "\n",
    "svr = GridSearchCV(SVR(), param_grid=param_grid,n_jobs = -1,scoring='neg_mean_squared_error')\n",
    "svr = SVR()\n",
    "oof_svr = train_model(X, y, params=None,model_type='svr',model = svr)"
   ]
  },
  {
   "cell_type": "markdown",
   "metadata": {},
   "source": [
    "#### lightgbm"
   ]
  },
  {
   "cell_type": "code",
   "execution_count": 6,
   "metadata": {},
   "outputs": [
    {
     "name": "stdout",
     "output_type": "stream",
     "text": [
      "Fold 0 started at Tue Dec 17 00:19:32 2019\n",
      "Training until validation scores don't improve for 200 rounds.\n",
      "[1000]\ttraining's rmse: 1.89017\tvalid_1's rmse: 2.71173\n",
      "[2000]\ttraining's rmse: 1.53675\tvalid_1's rmse: 2.6731\n",
      "[3000]\ttraining's rmse: 1.29343\tvalid_1's rmse: 2.65922\n",
      "[4000]\ttraining's rmse: 1.10586\tvalid_1's rmse: 2.65443\n",
      "Early stopping, best iteration is:\n",
      "[3875]\ttraining's rmse: 1.12725\tvalid_1's rmse: 2.65374\n",
      "Fold 1 started at Tue Dec 17 00:20:47 2019\n",
      "Training until validation scores don't improve for 200 rounds.\n",
      "[1000]\ttraining's rmse: 1.88471\tvalid_1's rmse: 2.63362\n",
      "[2000]\ttraining's rmse: 1.53792\tvalid_1's rmse: 2.58991\n",
      "Early stopping, best iteration is:\n",
      "[2587]\ttraining's rmse: 1.38681\tvalid_1's rmse: 2.58029\n",
      "Fold 2 started at Tue Dec 17 00:21:49 2019\n",
      "Training until validation scores don't improve for 200 rounds.\n",
      "[1000]\ttraining's rmse: 1.89636\tvalid_1's rmse: 2.55048\n",
      "[2000]\ttraining's rmse: 1.54178\tvalid_1's rmse: 2.50103\n",
      "[3000]\ttraining's rmse: 1.29631\tvalid_1's rmse: 2.48076\n",
      "[4000]\ttraining's rmse: 1.10799\tvalid_1's rmse: 2.47536\n",
      "Early stopping, best iteration is:\n",
      "[3831]\ttraining's rmse: 1.13721\tvalid_1's rmse: 2.47465\n",
      "Fold 3 started at Tue Dec 17 00:22:39 2019\n",
      "Training until validation scores don't improve for 200 rounds.\n",
      "[1000]\ttraining's rmse: 1.89794\tvalid_1's rmse: 2.49123\n",
      "[2000]\ttraining's rmse: 1.54359\tvalid_1's rmse: 2.45985\n",
      "Early stopping, best iteration is:\n",
      "[2586]\ttraining's rmse: 1.39045\tvalid_1's rmse: 2.45423\n",
      "Fold 4 started at Tue Dec 17 00:23:14 2019\n",
      "Training until validation scores don't improve for 200 rounds.\n",
      "[1000]\ttraining's rmse: 1.8902\tvalid_1's rmse: 2.58743\n",
      "[2000]\ttraining's rmse: 1.54113\tvalid_1's rmse: 2.5407\n",
      "Early stopping, best iteration is:\n",
      "[1941]\ttraining's rmse: 1.55711\tvalid_1's rmse: 2.53965\n",
      "Fold 5 started at Tue Dec 17 00:23:27 2019\n",
      "Training until validation scores don't improve for 200 rounds.\n",
      "[1000]\ttraining's rmse: 1.89767\tvalid_1's rmse: 2.52633\n",
      "[2000]\ttraining's rmse: 1.54179\tvalid_1's rmse: 2.49853\n",
      "Early stopping, best iteration is:\n",
      "[2412]\ttraining's rmse: 1.43191\tvalid_1's rmse: 2.49408\n",
      "Fold 6 started at Tue Dec 17 00:23:34 2019\n",
      "Training until validation scores don't improve for 200 rounds.\n",
      "[1000]\ttraining's rmse: 1.90036\tvalid_1's rmse: 3.32161\n",
      "[2000]\ttraining's rmse: 1.54914\tvalid_1's rmse: 3.29844\n",
      "Early stopping, best iteration is:\n",
      "[1866]\ttraining's rmse: 1.58888\tvalid_1's rmse: 3.29766\n",
      "Fold 7 started at Tue Dec 17 00:23:46 2019\n",
      "Training until validation scores don't improve for 200 rounds.\n",
      "[1000]\ttraining's rmse: 1.9005\tvalid_1's rmse: 2.45085\n",
      "[2000]\ttraining's rmse: 1.54622\tvalid_1's rmse: 2.40148\n",
      "[3000]\ttraining's rmse: 1.29852\tvalid_1's rmse: 2.38513\n",
      "Early stopping, best iteration is:\n",
      "[3517]\ttraining's rmse: 1.19485\tvalid_1's rmse: 2.3819\n",
      "Fold 8 started at Tue Dec 17 00:24:08 2019\n",
      "Training until validation scores don't improve for 200 rounds.\n",
      "[1000]\ttraining's rmse: 1.90243\tvalid_1's rmse: 2.48807\n",
      "[2000]\ttraining's rmse: 1.54732\tvalid_1's rmse: 2.43865\n",
      "[3000]\ttraining's rmse: 1.30015\tvalid_1's rmse: 2.42559\n",
      "[4000]\ttraining's rmse: 1.11286\tvalid_1's rmse: 2.42152\n",
      "Early stopping, best iteration is:\n",
      "[4048]\ttraining's rmse: 1.10484\tvalid_1's rmse: 2.42051\n",
      "Fold 9 started at Tue Dec 17 00:24:19 2019\n",
      "Training until validation scores don't improve for 200 rounds.\n",
      "[1000]\ttraining's rmse: 1.88162\tvalid_1's rmse: 2.75161\n",
      "[2000]\ttraining's rmse: 1.53199\tvalid_1's rmse: 2.70209\n",
      "[3000]\ttraining's rmse: 1.28677\tvalid_1's rmse: 2.68647\n",
      "Early stopping, best iteration is:\n",
      "[3285]\ttraining's rmse: 1.22942\tvalid_1's rmse: 2.68356\n",
      "CV mean score: 2.5980, std: 0.2507.\n"
     ]
    },
    {
     "data": {
      "image/png": "[encoded data removed]",
      "text/plain": [
       "<Figure size 1152x864 with 1 Axes>"
      ]
     },
     "metadata": {
      "needs_background": "light"
     },
     "output_type": "display_data"
    }
   ],
   "source": [
    "#lgb训练\n",
    "params = {'num_leaves': 30,\n",
    "         'min_data_in_leaf': 20,\n",
    "         'objective': 'regression',\n",
    "         'max_depth': 9,\n",
    "         'learning_rate': 0.01,\n",
    "         \"boosting\": \"gbdt\",\n",
    "         \"feature_fraction\": 0.9,\n",
    "         \"bagging_freq\": 1,\n",
    "         \"bagging_fraction\": 0.9,\n",
    "         \"bagging_seed\": 11,\n",
    "         \"metric\": 'rmse',\n",
    "         \"lambda_l1\": 0.2,\n",
    "         \"verbosity\": -1}\n",
    "oof_lgb, _ = train_model(X, y, params=params, model_type='lgb', plot_feature_importance=True)"
   ]
  },
  {
   "cell_type": "code",
   "execution_count": 7,
   "metadata": {},
   "outputs": [
    {
     "name": "stdout",
     "output_type": "stream",
     "text": [
      "Fold 0 started at Tue Dec 17 00:24:34 2019\n",
      "Training until validation scores don't improve for 200 rounds.\n",
      "[1000]\ttraining's rmse: 2.22794\tvalid_1's rmse: 2.8142\n",
      "[2000]\ttraining's rmse: 1.92409\tvalid_1's rmse: 2.73061\n",
      "[3000]\ttraining's rmse: 1.71744\tvalid_1's rmse: 2.7113\n",
      "[4000]\ttraining's rmse: 1.55084\tvalid_1's rmse: 2.69994\n",
      "Early stopping, best iteration is:\n",
      "[4372]\ttraining's rmse: 1.49774\tvalid_1's rmse: 2.69512\n",
      "Fold 1 started at Tue Dec 17 00:25:19 2019\n",
      "Training until validation scores don't improve for 200 rounds.\n",
      "[1000]\ttraining's rmse: 2.21531\tvalid_1's rmse: 2.72863\n",
      "[2000]\ttraining's rmse: 1.9049\tvalid_1's rmse: 2.64\n",
      "[3000]\ttraining's rmse: 1.70332\tvalid_1's rmse: 2.61274\n",
      "Early stopping, best iteration is:\n",
      "[2986]\ttraining's rmse: 1.70533\tvalid_1's rmse: 2.61251\n",
      "Fold 2 started at Tue Dec 17 00:25:28 2019\n",
      "Training until validation scores don't improve for 200 rounds.\n",
      "[1000]\ttraining's rmse: 2.23223\tvalid_1's rmse: 2.6554\n",
      "[2000]\ttraining's rmse: 1.91533\tvalid_1's rmse: 2.56116\n",
      "[3000]\ttraining's rmse: 1.7067\tvalid_1's rmse: 2.52562\n",
      "[4000]\ttraining's rmse: 1.54452\tvalid_1's rmse: 2.50957\n",
      "Early stopping, best iteration is:\n",
      "[4334]\ttraining's rmse: 1.49399\tvalid_1's rmse: 2.50629\n",
      "Fold 3 started at Tue Dec 17 00:25:38 2019\n",
      "Training until validation scores don't improve for 200 rounds.\n",
      "[1000]\ttraining's rmse: 2.24466\tvalid_1's rmse: 2.55065\n",
      "[2000]\ttraining's rmse: 1.93133\tvalid_1's rmse: 2.47056\n",
      "[3000]\ttraining's rmse: 1.71851\tvalid_1's rmse: 2.44953\n",
      "Early stopping, best iteration is:\n",
      "[3634]\ttraining's rmse: 1.60668\tvalid_1's rmse: 2.44071\n",
      "Fold 4 started at Tue Dec 17 00:25:46 2019\n",
      "Training until validation scores don't improve for 200 rounds.\n",
      "[1000]\ttraining's rmse: 2.22424\tvalid_1's rmse: 2.66834\n",
      "[2000]\ttraining's rmse: 1.91721\tvalid_1's rmse: 2.59385\n",
      "[3000]\ttraining's rmse: 1.70439\tvalid_1's rmse: 2.56705\n",
      "[4000]\ttraining's rmse: 1.53864\tvalid_1's rmse: 2.55995\n",
      "Early stopping, best iteration is:\n",
      "[4519]\ttraining's rmse: 1.46529\tvalid_1's rmse: 2.55488\n",
      "Fold 5 started at Tue Dec 17 00:25:56 2019\n",
      "Training until validation scores don't improve for 200 rounds.\n",
      "[1000]\ttraining's rmse: 2.22908\tvalid_1's rmse: 2.60746\n",
      "[2000]\ttraining's rmse: 1.92612\tvalid_1's rmse: 2.52918\n",
      "[3000]\ttraining's rmse: 1.71774\tvalid_1's rmse: 2.50614\n",
      "Early stopping, best iteration is:\n",
      "[3274]\ttraining's rmse: 1.66832\tvalid_1's rmse: 2.50424\n",
      "Fold 6 started at Tue Dec 17 00:26:04 2019\n",
      "Training until validation scores don't improve for 200 rounds.\n",
      "[1000]\ttraining's rmse: 2.24427\tvalid_1's rmse: 3.39404\n",
      "[2000]\ttraining's rmse: 1.93731\tvalid_1's rmse: 3.34044\n",
      "[3000]\ttraining's rmse: 1.7238\tvalid_1's rmse: 3.32956\n",
      "Early stopping, best iteration is:\n",
      "[2845]\ttraining's rmse: 1.75362\tvalid_1's rmse: 3.32845\n",
      "Fold 7 started at Tue Dec 17 00:26:11 2019\n",
      "Training until validation scores don't improve for 200 rounds.\n",
      "[1000]\ttraining's rmse: 2.24315\tvalid_1's rmse: 2.57076\n",
      "[2000]\ttraining's rmse: 1.93731\tvalid_1's rmse: 2.46609\n",
      "[3000]\ttraining's rmse: 1.72711\tvalid_1's rmse: 2.44219\n",
      "[4000]\ttraining's rmse: 1.56069\tvalid_1's rmse: 2.42936\n",
      "Early stopping, best iteration is:\n",
      "[4545]\ttraining's rmse: 1.48323\tvalid_1's rmse: 2.42728\n",
      "Fold 8 started at Tue Dec 17 00:26:20 2019\n",
      "Training until validation scores don't improve for 200 rounds.\n",
      "[1000]\ttraining's rmse: 2.23557\tvalid_1's rmse: 2.55702\n",
      "[2000]\ttraining's rmse: 1.9243\tvalid_1's rmse: 2.47017\n",
      "[3000]\ttraining's rmse: 1.71573\tvalid_1's rmse: 2.43768\n",
      "[4000]\ttraining's rmse: 1.55253\tvalid_1's rmse: 2.42518\n",
      "[5000]\ttraining's rmse: 1.41822\tvalid_1's rmse: 2.42183\n",
      "Early stopping, best iteration is:\n",
      "[4927]\ttraining's rmse: 1.42786\tvalid_1's rmse: 2.42117\n",
      "Fold 9 started at Tue Dec 17 00:26:52 2019\n",
      "Training until validation scores don't improve for 200 rounds.\n",
      "[1000]\ttraining's rmse: 2.22331\tvalid_1's rmse: 2.83709\n",
      "[2000]\ttraining's rmse: 1.92002\tvalid_1's rmse: 2.74144\n",
      "[3000]\ttraining's rmse: 1.70608\tvalid_1's rmse: 2.70248\n",
      "[4000]\ttraining's rmse: 1.54259\tvalid_1's rmse: 2.68572\n",
      "[5000]\ttraining's rmse: 1.40506\tvalid_1's rmse: 2.68113\n",
      "[6000]\ttraining's rmse: 1.28811\tvalid_1's rmse: 2.67348\n",
      "Early stopping, best iteration is:\n",
      "[6216]\ttraining's rmse: 1.2652\tvalid_1's rmse: 2.67217\n",
      "CV mean score: 2.6163, std: 0.2549.\n"
     ]
    },
    {
     "data": {
      "image/png": "[encoded data removed]",
      "text/plain": [
       "<Figure size 1152x864 with 1 Axes>"
      ]
     },
     "metadata": {
      "needs_background": "light"
     },
     "output_type": "display_data"
    }
   ],
   "source": [
    "#交叉验证\n",
    "#训练一个lgb\n",
    "params = {'num_leaves': 30,\n",
    "         'min_data_in_leaf': 20,\n",
    "         'objective': 'regression',\n",
    "         'max_depth': 5,\n",
    "         'learning_rate': 0.01,\n",
    "         \"boosting\": \"gbdt\",\n",
    "         \"feature_fraction\": 0.9,\n",
    "         \"bagging_freq\": 1,\n",
    "         \"bagging_fraction\": 0.9,\n",
    "         \"bagging_seed\": 11,\n",
    "         \"metric\": 'rmse',\n",
    "         \"lambda_l1\": 0.2,\n",
    "         \"verbosity\": -1}\n",
    "oof_lgb_1, _ = train_model(X, y, params=params, model_type='lgb', plot_feature_importance=True)"
   ]
  },
  {
   "cell_type": "code",
   "execution_count": 8,
   "metadata": {},
   "outputs": [
    {
     "name": "stdout",
     "output_type": "stream",
     "text": [
      "Fold 0 started at Tue Dec 17 00:27:53 2019\n",
      "Training until validation scores don't improve for 200 rounds.\n",
      "[1000]\ttraining's rmse: 2.22794\tvalid_1's rmse: 2.8142\n",
      "[2000]\ttraining's rmse: 1.92409\tvalid_1's rmse: 2.73061\n",
      "[3000]\ttraining's rmse: 1.71744\tvalid_1's rmse: 2.7113\n",
      "[4000]\ttraining's rmse: 1.55084\tvalid_1's rmse: 2.69994\n",
      "Early stopping, best iteration is:\n",
      "[4372]\ttraining's rmse: 1.49774\tvalid_1's rmse: 2.69512\n",
      "Fold 1 started at Tue Dec 17 00:28:38 2019\n",
      "Training until validation scores don't improve for 200 rounds.\n",
      "[1000]\ttraining's rmse: 2.21531\tvalid_1's rmse: 2.72863\n",
      "[2000]\ttraining's rmse: 1.9049\tvalid_1's rmse: 2.64\n",
      "[3000]\ttraining's rmse: 1.70332\tvalid_1's rmse: 2.61274\n",
      "Early stopping, best iteration is:\n",
      "[2986]\ttraining's rmse: 1.70533\tvalid_1's rmse: 2.61251\n",
      "Fold 2 started at Tue Dec 17 00:29:13 2019\n",
      "Training until validation scores don't improve for 200 rounds.\n",
      "[1000]\ttraining's rmse: 2.23223\tvalid_1's rmse: 2.6554\n",
      "[2000]\ttraining's rmse: 1.91533\tvalid_1's rmse: 2.56116\n",
      "[3000]\ttraining's rmse: 1.7067\tvalid_1's rmse: 2.52562\n",
      "[4000]\ttraining's rmse: 1.54452\tvalid_1's rmse: 2.50957\n",
      "Early stopping, best iteration is:\n",
      "[4334]\ttraining's rmse: 1.49399\tvalid_1's rmse: 2.50629\n",
      "Fold 3 started at Tue Dec 17 00:29:34 2019\n",
      "Training until validation scores don't improve for 200 rounds.\n",
      "[1000]\ttraining's rmse: 2.24466\tvalid_1's rmse: 2.55065\n",
      "[2000]\ttraining's rmse: 1.93133\tvalid_1's rmse: 2.47056\n",
      "[3000]\ttraining's rmse: 1.71851\tvalid_1's rmse: 2.44953\n",
      "Early stopping, best iteration is:\n",
      "[3634]\ttraining's rmse: 1.60668\tvalid_1's rmse: 2.44071\n",
      "Fold 4 started at Tue Dec 17 00:29:43 2019\n",
      "Training until validation scores don't improve for 200 rounds.\n",
      "[1000]\ttraining's rmse: 2.22424\tvalid_1's rmse: 2.66834\n",
      "[2000]\ttraining's rmse: 1.91721\tvalid_1's rmse: 2.59385\n",
      "[3000]\ttraining's rmse: 1.70439\tvalid_1's rmse: 2.56705\n",
      "[4000]\ttraining's rmse: 1.53864\tvalid_1's rmse: 2.55995\n",
      "Early stopping, best iteration is:\n",
      "[4519]\ttraining's rmse: 1.46529\tvalid_1's rmse: 2.55488\n",
      "Fold 5 started at Tue Dec 17 00:29:53 2019\n",
      "Training until validation scores don't improve for 200 rounds.\n",
      "[1000]\ttraining's rmse: 2.22908\tvalid_1's rmse: 2.60746\n",
      "[2000]\ttraining's rmse: 1.92612\tvalid_1's rmse: 2.52918\n",
      "[3000]\ttraining's rmse: 1.71774\tvalid_1's rmse: 2.50614\n",
      "Early stopping, best iteration is:\n",
      "[3274]\ttraining's rmse: 1.66832\tvalid_1's rmse: 2.50424\n",
      "Fold 6 started at Tue Dec 17 00:30:01 2019\n",
      "Training until validation scores don't improve for 200 rounds.\n",
      "[1000]\ttraining's rmse: 2.24427\tvalid_1's rmse: 3.39404\n",
      "[2000]\ttraining's rmse: 1.93731\tvalid_1's rmse: 3.34044\n",
      "[3000]\ttraining's rmse: 1.7238\tvalid_1's rmse: 3.32956\n",
      "Early stopping, best iteration is:\n",
      "[2845]\ttraining's rmse: 1.75362\tvalid_1's rmse: 3.32845\n",
      "Fold 7 started at Tue Dec 17 00:30:07 2019\n",
      "Training until validation scores don't improve for 200 rounds.\n",
      "[1000]\ttraining's rmse: 2.24315\tvalid_1's rmse: 2.57076\n",
      "[2000]\ttraining's rmse: 1.93731\tvalid_1's rmse: 2.46609\n",
      "[3000]\ttraining's rmse: 1.72711\tvalid_1's rmse: 2.44219\n",
      "[4000]\ttraining's rmse: 1.56069\tvalid_1's rmse: 2.42936\n",
      "Early stopping, best iteration is:\n",
      "[4545]\ttraining's rmse: 1.48323\tvalid_1's rmse: 2.42728\n",
      "Fold 8 started at Tue Dec 17 00:30:18 2019\n",
      "Training until validation scores don't improve for 200 rounds.\n",
      "[1000]\ttraining's rmse: 2.23557\tvalid_1's rmse: 2.55702\n",
      "[2000]\ttraining's rmse: 1.9243\tvalid_1's rmse: 2.47017\n",
      "[3000]\ttraining's rmse: 1.71573\tvalid_1's rmse: 2.43768\n",
      "[4000]\ttraining's rmse: 1.55253\tvalid_1's rmse: 2.42518\n",
      "[5000]\ttraining's rmse: 1.41822\tvalid_1's rmse: 2.42183\n",
      "Early stopping, best iteration is:\n",
      "[4927]\ttraining's rmse: 1.42786\tvalid_1's rmse: 2.42117\n",
      "Fold 9 started at Tue Dec 17 00:30:29 2019\n",
      "Training until validation scores don't improve for 200 rounds.\n",
      "[1000]\ttraining's rmse: 2.22331\tvalid_1's rmse: 2.83709\n",
      "[2000]\ttraining's rmse: 1.92002\tvalid_1's rmse: 2.74144\n",
      "[3000]\ttraining's rmse: 1.70608\tvalid_1's rmse: 2.70248\n",
      "[4000]\ttraining's rmse: 1.54259\tvalid_1's rmse: 2.68572\n",
      "[5000]\ttraining's rmse: 1.40506\tvalid_1's rmse: 2.68113\n",
      "[6000]\ttraining's rmse: 1.28811\tvalid_1's rmse: 2.67348\n",
      "Early stopping, best iteration is:\n",
      "[6216]\ttraining's rmse: 1.2652\tvalid_1's rmse: 2.67217\n",
      "CV mean score: 2.6163, std: 0.2549.\n"
     ]
    },
    {
     "data": {
      "image/png": "[encoded data removed]",
      "text/plain": [
       "<Figure size 1152x864 with 1 Axes>"
      ]
     },
     "metadata": {
      "needs_background": "light"
     },
     "output_type": "display_data"
    }
   ],
   "source": [
    "#另一组lgb的训练\n",
    "pparams = {'num_leaves': 30,\n",
    "         'min_data_in_leaf': 20,\n",
    "         'objective': 'regression',\n",
    "         'max_depth': 7,\n",
    "         'learning_rate': 0.02,\n",
    "         \"boosting\": \"gbdt\",\n",
    "         \"feature_fraction\": 0.7,\n",
    "         \"bagging_freq\": 5,\n",
    "         \"bagging_fraction\": 0.7,\n",
    "         \"bagging_seed\": 11,\n",
    "         \"metric\": 'rmse',\n",
    "         \"lambda_l1\": 0.2,\n",
    "         \"verbosity\": -1}\n",
    "oof_lgb_2,  _ = train_model(X, y, params=params, model_type='lgb', plot_feature_importance=True)"
   ]
  },
  {
   "cell_type": "markdown",
   "metadata": {},
   "source": [
    "#### random forest regression"
   ]
  },
  {
   "cell_type": "code",
   "execution_count": 9,
   "metadata": {},
   "outputs": [
    {
     "name": "stdout",
     "output_type": "stream",
     "text": [
      "Fold 0 started at Tue Dec 17 00:30:45 2019\n",
      "Fold 1 started at Tue Dec 17 00:30:45 2019\n",
      "Fold 2 started at Tue Dec 17 00:30:46 2019\n",
      "Fold 3 started at Tue Dec 17 00:30:46 2019\n",
      "Fold 4 started at Tue Dec 17 00:30:46 2019\n",
      "Fold 5 started at Tue Dec 17 00:30:46 2019\n",
      "Fold 6 started at Tue Dec 17 00:30:47 2019\n",
      "Fold 7 started at Tue Dec 17 00:30:47 2019\n",
      "Fold 8 started at Tue Dec 17 00:30:47 2019\n",
      "Fold 9 started at Tue Dec 17 00:30:47 2019\n",
      "CV mean score: 2.9276, std: 0.1419.\n"
     ]
    }
   ],
   "source": [
    "#随机森林的训练\n",
    "#训练rfr\n",
    "rfrmodel = RandomForestRegressor(\n",
    "    n_estimators = 20, \n",
    "    min_samples_leaf = 4, \n",
    "    max_features = 0.3, \n",
    "    n_jobs = -1,\n",
    "    oob_score = True, \n",
    "    random_state = 42\n",
    ")\n",
    "\n",
    "oof_rfr = train_model(X,y,model_type = 'rfr',params = None,model = rfrmodel)"
   ]
  },
  {
   "cell_type": "markdown",
   "metadata": {},
   "source": [
    "#### xgboost"
   ]
  },
  {
   "cell_type": "code",
   "execution_count": 10,
   "metadata": {},
   "outputs": [
    {
     "name": "stdout",
     "output_type": "stream",
     "text": [
      "Fold 0 started at Tue Dec 17 00:30:48 2019\n",
      "[0]\ttrain-rmse:84.5858\tvalid_data-rmse:84.944\n",
      "Multiple eval metrics have been passed: 'valid_data-rmse' will be used for early stopping.\n",
      "\n",
      "Will train until valid_data-rmse hasn't improved in 200 rounds.\n",
      "[500]\ttrain-rmse:2.16287\tvalid_data-rmse:2.90078\n",
      "[1000]\ttrain-rmse:1.59573\tvalid_data-rmse:2.68249\n",
      "[1500]\ttrain-rmse:1.29927\tvalid_data-rmse:2.64924\n",
      "[2000]\ttrain-rmse:1.08007\tvalid_data-rmse:2.63816\n",
      "[2500]\ttrain-rmse:0.911232\tvalid_data-rmse:2.63295\n",
      "[3000]\ttrain-rmse:0.776576\tvalid_data-rmse:2.63041\n",
      "Stopping. Best iteration:\n",
      "[3163]\ttrain-rmse:0.73852\tvalid_data-rmse:2.62888\n",
      "\n",
      "Fold 1 started at Tue Dec 17 00:31:32 2019\n",
      "[0]\ttrain-rmse:84.5452\tvalid_data-rmse:85.3074\n",
      "Multiple eval metrics have been passed: 'valid_data-rmse' will be used for early stopping.\n",
      "\n",
      "Will train until valid_data-rmse hasn't improved in 200 rounds.\n",
      "[500]\ttrain-rmse:2.16006\tvalid_data-rmse:2.80551\n",
      "[1000]\ttrain-rmse:1.5827\tvalid_data-rmse:2.61041\n",
      "[1500]\ttrain-rmse:1.29139\tvalid_data-rmse:2.58449\n",
      "[2000]\ttrain-rmse:1.0768\tvalid_data-rmse:2.57779\n",
      "[2500]\ttrain-rmse:0.910872\tvalid_data-rmse:2.57111\n",
      "[3000]\ttrain-rmse:0.773605\tvalid_data-rmse:2.56888\n",
      "[3500]\ttrain-rmse:0.661621\tvalid_data-rmse:2.56615\n",
      "Stopping. Best iteration:\n",
      "[3638]\ttrain-rmse:0.633008\tvalid_data-rmse:2.56568\n",
      "\n",
      "Fold 2 started at Tue Dec 17 00:32:23 2019\n",
      "[0]\ttrain-rmse:84.5276\tvalid_data-rmse:85.4634\n",
      "Multiple eval metrics have been passed: 'valid_data-rmse' will be used for early stopping.\n",
      "\n",
      "Will train until valid_data-rmse hasn't improved in 200 rounds.\n",
      "[500]\ttrain-rmse:2.17345\tvalid_data-rmse:2.69347\n",
      "[1000]\ttrain-rmse:1.59765\tvalid_data-rmse:2.51538\n",
      "[1500]\ttrain-rmse:1.30016\tvalid_data-rmse:2.48999\n",
      "[2000]\ttrain-rmse:1.08218\tvalid_data-rmse:2.47621\n",
      "[2500]\ttrain-rmse:0.913729\tvalid_data-rmse:2.4707\n",
      "[3000]\ttrain-rmse:0.778773\tvalid_data-rmse:2.46706\n",
      "[3500]\ttrain-rmse:0.667459\tvalid_data-rmse:2.46523\n",
      "Stopping. Best iteration:\n",
      "[3377]\ttrain-rmse:0.693511\tvalid_data-rmse:2.46493\n",
      "\n",
      "Fold 3 started at Tue Dec 17 00:33:09 2019\n",
      "[0]\ttrain-rmse:84.6734\tvalid_data-rmse:84.1484\n",
      "Multiple eval metrics have been passed: 'valid_data-rmse' will be used for early stopping.\n",
      "\n",
      "Will train until valid_data-rmse hasn't improved in 200 rounds.\n",
      "[500]\ttrain-rmse:2.18896\tvalid_data-rmse:2.64558\n",
      "[1000]\ttrain-rmse:1.6028\tvalid_data-rmse:2.46198\n",
      "[1500]\ttrain-rmse:1.29712\tvalid_data-rmse:2.42683\n",
      "[2000]\ttrain-rmse:1.07587\tvalid_data-rmse:2.41384\n",
      "[2500]\ttrain-rmse:0.905548\tvalid_data-rmse:2.40879\n",
      "[3000]\ttrain-rmse:0.769519\tvalid_data-rmse:2.40574\n",
      "Stopping. Best iteration:\n",
      "[2983]\ttrain-rmse:0.773601\tvalid_data-rmse:2.40541\n",
      "\n",
      "Fold 4 started at Tue Dec 17 00:33:50 2019\n",
      "[0]\ttrain-rmse:84.6583\tvalid_data-rmse:84.2933\n",
      "Multiple eval metrics have been passed: 'valid_data-rmse' will be used for early stopping.\n",
      "\n",
      "Will train until valid_data-rmse hasn't improved in 200 rounds.\n",
      "[500]\ttrain-rmse:2.18257\tvalid_data-rmse:2.74428\n",
      "[1000]\ttrain-rmse:1.60138\tvalid_data-rmse:2.53883\n",
      "[1500]\ttrain-rmse:1.29738\tvalid_data-rmse:2.50784\n",
      "[2000]\ttrain-rmse:1.0743\tvalid_data-rmse:2.49554\n",
      "Stopping. Best iteration:\n",
      "[1988]\ttrain-rmse:1.07879\tvalid_data-rmse:2.49522\n",
      "\n",
      "Fold 5 started at Tue Dec 17 00:34:19 2019\n",
      "[0]\ttrain-rmse:84.5716\tvalid_data-rmse:85.0682\n",
      "Multiple eval metrics have been passed: 'valid_data-rmse' will be used for early stopping.\n",
      "\n",
      "Will train until valid_data-rmse hasn't improved in 200 rounds.\n",
      "[500]\ttrain-rmse:2.17068\tvalid_data-rmse:2.74488\n",
      "[1000]\ttrain-rmse:1.59371\tvalid_data-rmse:2.53767\n",
      "[1500]\ttrain-rmse:1.28799\tvalid_data-rmse:2.50692\n",
      "[2000]\ttrain-rmse:1.07197\tvalid_data-rmse:2.49889\n",
      "Stopping. Best iteration:\n",
      "[1952]\ttrain-rmse:1.08928\tvalid_data-rmse:2.49771\n",
      "\n",
      "Fold 6 started at Tue Dec 17 00:34:47 2019\n",
      "[0]\ttrain-rmse:84.6493\tvalid_data-rmse:84.3693\n",
      "Multiple eval metrics have been passed: 'valid_data-rmse' will be used for early stopping.\n",
      "\n",
      "Will train until valid_data-rmse hasn't improved in 200 rounds.\n",
      "[500]\ttrain-rmse:2.172\tvalid_data-rmse:3.20565\n",
      "[1000]\ttrain-rmse:1.59819\tvalid_data-rmse:3.05297\n",
      "[1500]\ttrain-rmse:1.29981\tvalid_data-rmse:3.03742\n",
      "[2000]\ttrain-rmse:1.08264\tvalid_data-rmse:3.03123\n",
      "Stopping. Best iteration:\n",
      "[2104]\ttrain-rmse:1.04419\tvalid_data-rmse:3.02976\n",
      "\n",
      "Fold 7 started at Tue Dec 17 00:35:18 2019\n",
      "[0]\ttrain-rmse:84.62\tvalid_data-rmse:84.6358\n",
      "Multiple eval metrics have been passed: 'valid_data-rmse' will be used for early stopping.\n",
      "\n",
      "Will train until valid_data-rmse hasn't improved in 200 rounds.\n",
      "[500]\ttrain-rmse:2.17068\tvalid_data-rmse:2.62395\n",
      "[1000]\ttrain-rmse:1.60685\tvalid_data-rmse:2.45383\n",
      "[1500]\ttrain-rmse:1.30463\tvalid_data-rmse:2.41652\n",
      "[2000]\ttrain-rmse:1.0829\tvalid_data-rmse:2.39955\n",
      "[2500]\ttrain-rmse:0.911962\tvalid_data-rmse:2.39287\n",
      "Stopping. Best iteration:\n",
      "[2787]\ttrain-rmse:0.831088\tvalid_data-rmse:2.38971\n",
      "\n",
      "Fold 8 started at Tue Dec 17 00:35:58 2019\n",
      "[0]\ttrain-rmse:84.7216\tvalid_data-rmse:83.7163\n",
      "Multiple eval metrics have been passed: 'valid_data-rmse' will be used for early stopping.\n",
      "\n",
      "Will train until valid_data-rmse hasn't improved in 200 rounds.\n",
      "[500]\ttrain-rmse:2.17945\tvalid_data-rmse:2.60376\n",
      "[1000]\ttrain-rmse:1.59455\tvalid_data-rmse:2.41864\n",
      "[1500]\ttrain-rmse:1.29426\tvalid_data-rmse:2.39235\n",
      "[2000]\ttrain-rmse:1.07716\tvalid_data-rmse:2.3825\n",
      "[2500]\ttrain-rmse:0.91365\tvalid_data-rmse:2.37824\n",
      "Stopping. Best iteration:\n",
      "[2703]\ttrain-rmse:0.854851\tvalid_data-rmse:2.37581\n",
      "\n",
      "Fold 9 started at Tue Dec 17 00:36:35 2019\n",
      "[0]\ttrain-rmse:84.6622\tvalid_data-rmse:84.2532\n",
      "Multiple eval metrics have been passed: 'valid_data-rmse' will be used for early stopping.\n",
      "\n",
      "Will train until valid_data-rmse hasn't improved in 200 rounds.\n",
      "[500]\ttrain-rmse:2.15998\tvalid_data-rmse:2.89141\n",
      "[1000]\ttrain-rmse:1.58176\tvalid_data-rmse:2.74294\n",
      "[1500]\ttrain-rmse:1.28925\tvalid_data-rmse:2.69853\n",
      "[2000]\ttrain-rmse:1.07265\tvalid_data-rmse:2.68328\n",
      "[2500]\ttrain-rmse:0.902624\tvalid_data-rmse:2.6719\n",
      "[3000]\ttrain-rmse:0.767526\tvalid_data-rmse:2.66608\n",
      "[3500]\ttrain-rmse:0.657314\tvalid_data-rmse:2.66369\n",
      "[4000]\ttrain-rmse:0.566902\tvalid_data-rmse:2.6607\n",
      "[4500]\ttrain-rmse:0.490397\tvalid_data-rmse:2.65997\n",
      "Stopping. Best iteration:\n",
      "[4715]\ttrain-rmse:0.461727\tvalid_data-rmse:2.65877\n",
      "\n",
      "CV mean score: 2.5512, std: 0.1839.\n"
     ]
    }
   ],
   "source": [
    "#xgboost\n",
    "#训练xgboost\n",
    "xgb_params = {'eta': 0.01,\n",
    "              'objective': 'reg:linear',\n",
    "              'max_depth': 7,\n",
    "              'subsample': 0.8,\n",
    "              'colsample_bytree': 0.8,\n",
    "              'eval_metric': 'rmse',\n",
    "              'seed': 11,\n",
    "              'silent': True}\n",
    "oof_xgb = train_model(X,  y, params=xgb_params, model_type='xgb', plot_feature_importance=False)"
   ]
  },
  {
   "cell_type": "markdown",
   "metadata": {},
   "source": [
    "#### catboost"
   ]
  },
  {
   "cell_type": "code",
   "execution_count": 11,
   "metadata": {},
   "outputs": [
    {
     "name": "stdout",
     "output_type": "stream",
     "text": [
      "Fold 0 started at Tue Dec 17 00:37:38 2019\n",
      "Fold 1 started at Tue Dec 17 00:40:14 2019\n",
      "Fold 2 started at Tue Dec 17 00:43:06 2019\n",
      "Fold 3 started at Tue Dec 17 00:44:45 2019\n",
      "Fold 4 started at Tue Dec 17 00:45:20 2019\n",
      "Fold 5 started at Tue Dec 17 00:45:53 2019\n",
      "Fold 6 started at Tue Dec 17 00:46:25 2019\n",
      "Fold 7 started at Tue Dec 17 00:46:57 2019\n",
      "Fold 8 started at Tue Dec 17 00:47:29 2019\n",
      "Fold 9 started at Tue Dec 17 00:48:00 2019\n",
      "CV mean score: 2.6259, std: 0.1009.\n"
     ]
    }
   ],
   "source": [
    "#catboost\n",
    "#catboost训练\n",
    "cat_params = {'learning_rate': 0.002,\n",
    "              'depth': 5,\n",
    "              'l2_leaf_reg': 10,\n",
    "              # 'bootstrap_type': 'Bernoulli',\n",
    "              'colsample_bylevel': 0.8,\n",
    "              'bagging_temperature': 0.2,\n",
    "              #'metric_period': 500,\n",
    "              'od_type': 'Iter',\n",
    "              'od_wait': 100,\n",
    "              'random_seed': 11,\n",
    "              'allow_writing_files': False}\n",
    "oof_cat = train_model(X, y, params=cat_params, model_type='cat')"
   ]
  },
  {
   "cell_type": "markdown",
   "metadata": {},
   "source": [
    "### stacking\n",
    "\n",
    "#### 所有结果均用于做stacking"
   ]
  },
  {
   "cell_type": "code",
   "execution_count": 12,
   "metadata": {},
   "outputs": [],
   "source": [
    "#构建第二层训练矩阵\n",
    "train_stack = np.vstack([oof_lgb, oof_xgb, oof_cat, oof_lgb_1, oof_lgb_2,oof_svr,oof_rfr]).transpose()\n",
    "train_stack = pd.DataFrame(train_stack, columns=['lgb', 'xgb', 'cat', 'lgb_1', 'lgb_2','svr','rfr'])"
   ]
  },
  {
   "cell_type": "markdown",
   "metadata": {},
   "source": [
    "##### lgb作为第二层融合模型"
   ]
  },
  {
   "cell_type": "code",
   "execution_count": 13,
   "metadata": {},
   "outputs": [
    {
     "name": "stdout",
     "output_type": "stream",
     "text": [
      "Fold 0 started at Tue Dec 17 00:48:32 2019\n",
      "Training until validation scores don't improve for 200 rounds.\n",
      "Early stopping, best iteration is:\n",
      "[513]\ttraining's rmse: 2.41586\tvalid_1's rmse: 2.66009\n",
      "Fold 1 started at Tue Dec 17 00:48:33 2019\n",
      "Training until validation scores don't improve for 200 rounds.\n",
      "Early stopping, best iteration is:\n",
      "[540]\ttraining's rmse: 2.42765\tvalid_1's rmse: 2.61197\n",
      "Fold 2 started at Tue Dec 17 00:48:33 2019\n",
      "Training until validation scores don't improve for 200 rounds.\n",
      "Early stopping, best iteration is:\n",
      "[537]\ttraining's rmse: 2.38717\tvalid_1's rmse: 2.51568\n",
      "Fold 3 started at Tue Dec 17 00:48:34 2019\n",
      "Training until validation scores don't improve for 200 rounds.\n",
      "Early stopping, best iteration is:\n",
      "[507]\ttraining's rmse: 2.29109\tvalid_1's rmse: 2.46751\n",
      "Fold 4 started at Tue Dec 17 00:48:35 2019\n",
      "Training until validation scores don't improve for 200 rounds.\n",
      "Early stopping, best iteration is:\n",
      "[563]\ttraining's rmse: 2.4001\tvalid_1's rmse: 2.57866\n",
      "Fold 5 started at Tue Dec 17 00:48:35 2019\n",
      "Training until validation scores don't improve for 200 rounds.\n",
      "Early stopping, best iteration is:\n",
      "[583]\ttraining's rmse: 2.32445\tvalid_1's rmse: 2.56567\n",
      "Fold 6 started at Tue Dec 17 00:48:36 2019\n",
      "Training until validation scores don't improve for 200 rounds.\n",
      "Early stopping, best iteration is:\n",
      "[615]\ttraining's rmse: 2.26698\tvalid_1's rmse: 3.10199\n",
      "Fold 7 started at Tue Dec 17 00:48:36 2019\n",
      "Training until validation scores don't improve for 200 rounds.\n",
      "Early stopping, best iteration is:\n",
      "[552]\ttraining's rmse: 2.47552\tvalid_1's rmse: 2.43344\n",
      "Fold 8 started at Tue Dec 17 00:48:37 2019\n",
      "Training until validation scores don't improve for 200 rounds.\n",
      "Early stopping, best iteration is:\n",
      "[525]\ttraining's rmse: 2.2871\tvalid_1's rmse: 2.40953\n",
      "Fold 9 started at Tue Dec 17 00:48:38 2019\n",
      "Training until validation scores don't improve for 200 rounds.\n",
      "[1000]\ttraining's rmse: 2.30431\tvalid_1's rmse: 2.75047\n",
      "Early stopping, best iteration is:\n",
      "[1046]\ttraining's rmse: 2.29411\tvalid_1's rmse: 2.74938\n",
      "CV mean score: 2.6094, std: 0.1917.\n"
     ]
    },
    {
     "data": {
      "image/png": "[encoded data removed]",
      "text/plain": [
       "<Figure size 1152x864 with 1 Axes>"
      ]
     },
     "metadata": {
      "needs_background": "light"
     },
     "output_type": "display_data"
    }
   ],
   "source": [
    "params = {'num_leaves': 30,\n",
    "         'min_data_in_leaf': 20,\n",
    "         'objective': 'regression',\n",
    "         'max_depth': 9,\n",
    "         'learning_rate': 0.01,\n",
    "         \"boosting\": \"gbdt\",\n",
    "         \"feature_fraction\": 0.9,\n",
    "         \"bagging_freq\": 1,\n",
    "         \"bagging_fraction\": 0.9,\n",
    "         \"bagging_seed\": 11,\n",
    "         \"metric\": 'rmse',\n",
    "         \"lambda_l1\": 0.2,\n",
    "         \"verbosity\": -1}\n",
    "oof_lgb_stack,  _ = train_model(train_stack, y, params=params, model_type='lgb', plot_feature_importance=True)"
   ]
  },
  {
   "cell_type": "code",
   "execution_count": 14,
   "metadata": {},
   "outputs": [
    {
     "name": "stdout",
     "output_type": "stream",
     "text": [
      "Fold 0 started at Tue Dec 17 00:48:39 2019\n",
      "Training until validation scores don't improve for 200 rounds.\n",
      "Early stopping, best iteration is:\n",
      "[569]\ttraining's rmse: 2.53196\tvalid_1's rmse: 2.66621\n",
      "Fold 1 started at Tue Dec 17 00:48:40 2019\n",
      "Training until validation scores don't improve for 200 rounds.\n",
      "Early stopping, best iteration is:\n",
      "[756]\ttraining's rmse: 2.53944\tvalid_1's rmse: 2.61173\n",
      "Fold 2 started at Tue Dec 17 00:48:40 2019\n",
      "Training until validation scores don't improve for 200 rounds.\n",
      "Early stopping, best iteration is:\n",
      "[664]\ttraining's rmse: 2.51914\tvalid_1's rmse: 2.49515\n",
      "Fold 3 started at Tue Dec 17 00:48:40 2019\n",
      "Training until validation scores don't improve for 200 rounds.\n",
      "Early stopping, best iteration is:\n",
      "[503]\ttraining's rmse: 2.43595\tvalid_1's rmse: 2.42853\n",
      "Fold 4 started at Tue Dec 17 00:48:40 2019\n",
      "Training until validation scores don't improve for 200 rounds.\n",
      "Early stopping, best iteration is:\n",
      "[649]\ttraining's rmse: 2.53766\tvalid_1's rmse: 2.56451\n",
      "Fold 5 started at Tue Dec 17 00:48:41 2019\n",
      "Training until validation scores don't improve for 200 rounds.\n",
      "Early stopping, best iteration is:\n",
      "[582]\ttraining's rmse: 2.48093\tvalid_1's rmse: 2.54592\n",
      "Fold 6 started at Tue Dec 17 00:48:41 2019\n",
      "Training until validation scores don't improve for 200 rounds.\n",
      "Early stopping, best iteration is:\n",
      "[655]\ttraining's rmse: 2.42111\tvalid_1's rmse: 3.08868\n",
      "Fold 7 started at Tue Dec 17 00:48:41 2019\n",
      "Training until validation scores don't improve for 200 rounds.\n",
      "[1000]\ttraining's rmse: 2.58339\tvalid_1's rmse: 2.41712\n",
      "Early stopping, best iteration is:\n",
      "[1044]\ttraining's rmse: 2.58051\tvalid_1's rmse: 2.41471\n",
      "Fold 8 started at Tue Dec 17 00:48:42 2019\n",
      "Training until validation scores don't improve for 200 rounds.\n",
      "Early stopping, best iteration is:\n",
      "[513]\ttraining's rmse: 2.43384\tvalid_1's rmse: 2.38864\n",
      "Fold 9 started at Tue Dec 17 00:48:42 2019\n",
      "Training until validation scores don't improve for 200 rounds.\n",
      "[1000]\ttraining's rmse: 2.5196\tvalid_1's rmse: 2.75805\n",
      "Early stopping, best iteration is:\n",
      "[832]\ttraining's rmse: 2.53249\tvalid_1's rmse: 2.75041\n",
      "CV mean score: 2.5954, std: 0.1973.\n"
     ]
    },
    {
     "data": {
      "image/png": "[encoded data removed]",
      "text/plain": [
       "<Figure size 1152x864 with 1 Axes>"
      ]
     },
     "metadata": {
      "needs_background": "light"
     },
     "output_type": "display_data"
    }
   ],
   "source": [
    "#lgb 作为meta\n",
    "params = {'num_leaves': 8,\n",
    "         'min_data_in_leaf': 20,\n",
    "         'objective': 'regression',\n",
    "         'max_depth': 3,\n",
    "         'learning_rate': 0.01,\n",
    "         \"boosting\": \"gbdt\",\n",
    "         \"bagging_seed\": 11,\n",
    "         \"metric\": 'rmse',\n",
    "         \"lambda_l1\": 0.2,\n",
    "         \"verbosity\": -1}\n",
    "oof_lgb_stack,  _ = train_model(train_stack, y, params=params, model_type='lgb', plot_feature_importance=True)"
   ]
  },
  {
   "cell_type": "markdown",
   "metadata": {},
   "source": [
    "##### catboost作为第二层融合模型"
   ]
  },
  {
   "cell_type": "code",
   "execution_count": 15,
   "metadata": {},
   "outputs": [
    {
     "name": "stdout",
     "output_type": "stream",
     "text": [
      "Fold 0 started at Tue Dec 17 00:48:43 2019\n",
      "Fold 1 started at Tue Dec 17 00:49:06 2019\n",
      "Fold 2 started at Tue Dec 17 00:49:18 2019\n",
      "Fold 3 started at Tue Dec 17 00:49:28 2019\n",
      "Fold 4 started at Tue Dec 17 00:49:36 2019\n",
      "Fold 5 started at Tue Dec 17 00:49:44 2019\n",
      "Fold 6 started at Tue Dec 17 00:50:11 2019\n",
      "Fold 7 started at Tue Dec 17 00:50:23 2019\n",
      "Fold 8 started at Tue Dec 17 00:50:40 2019\n",
      "Fold 9 started at Tue Dec 17 00:50:48 2019\n",
      "CV mean score: 2.5881, std: 0.2094.\n"
     ]
    }
   ],
   "source": [
    "cat_params = {'learning_rate': 0.002,\n",
    "              'depth': 5,\n",
    "              'l2_leaf_reg': 10,\n",
    "              # 'bootstrap_type': 'Bernoulli',\n",
    "              'colsample_bylevel': 0.8,\n",
    "              'bagging_temperature': 0.2,\n",
    "              #'metric_period': 500,\n",
    "              'od_type': 'Iter',\n",
    "              'od_wait': 100,\n",
    "              'random_seed': 11,\n",
    "              'allow_writing_files': False}\n",
    "oof_cat_stack = train_model(train_stack,y,params = cat_params,model_type = 'cat')"
   ]
  },
  {
   "cell_type": "markdown",
   "metadata": {},
   "source": [
    "##### randomforest作为第二层融合模型"
   ]
  },
  {
   "cell_type": "code",
   "execution_count": 16,
   "metadata": {},
   "outputs": [
    {
     "name": "stdout",
     "output_type": "stream",
     "text": [
      "Fold 0 started at Tue Dec 17 00:51:09 2019\n",
      "Fold 1 started at Tue Dec 17 00:51:09 2019\n",
      "Fold 2 started at Tue Dec 17 00:51:10 2019\n",
      "Fold 3 started at Tue Dec 17 00:51:10 2019\n",
      "Fold 4 started at Tue Dec 17 00:51:10 2019\n",
      "Fold 5 started at Tue Dec 17 00:51:10 2019\n",
      "Fold 6 started at Tue Dec 17 00:51:11 2019\n",
      "Fold 7 started at Tue Dec 17 00:51:11 2019\n",
      "Fold 8 started at Tue Dec 17 00:51:11 2019\n",
      "Fold 9 started at Tue Dec 17 00:51:11 2019\n",
      "CV mean score: 2.6104, std: 0.1362.\n"
     ]
    }
   ],
   "source": [
    "rfrmodel = RandomForestRegressor(\n",
    "    n_estimators = 20, \n",
    "    min_samples_leaf = 4, \n",
    "    max_features = 0.3, \n",
    "    n_jobs = -1,\n",
    "    oob_score = True, \n",
    "    random_state = 42\n",
    ")\n",
    "\n",
    "oof_rfr_stack = train_model(train_stack,y,model_type = 'rfr',params = None,model = rfrmodel)"
   ]
  },
  {
   "cell_type": "markdown",
   "metadata": {},
   "source": [
    "##### xgboost作为第二层融合模型"
   ]
  },
  {
   "cell_type": "code",
   "execution_count": 17,
   "metadata": {},
   "outputs": [
    {
     "name": "stdout",
     "output_type": "stream",
     "text": [
      "Fold 0 started at Tue Dec 17 00:51:12 2019\n",
      "[0]\ttrain-rmse:84.5847\tvalid_data-rmse:84.9418\n",
      "Multiple eval metrics have been passed: 'valid_data-rmse' will be used for early stopping.\n",
      "\n",
      "Will train until valid_data-rmse hasn't improved in 200 rounds.\n",
      "[500]\ttrain-rmse:2.29595\tvalid_data-rmse:2.70122\n",
      "Stopping. Best iteration:\n",
      "[716]\ttrain-rmse:2.11014\tvalid_data-rmse:2.62714\n",
      "\n",
      "Fold 1 started at Tue Dec 17 00:51:16 2019\n",
      "[0]\ttrain-rmse:84.5436\tvalid_data-rmse:85.3075\n",
      "Multiple eval metrics have been passed: 'valid_data-rmse' will be used for early stopping.\n",
      "\n",
      "Will train until valid_data-rmse hasn't improved in 200 rounds.\n",
      "[500]\ttrain-rmse:2.2944\tvalid_data-rmse:2.64962\n",
      "Stopping. Best iteration:\n",
      "[732]\ttrain-rmse:2.102\tvalid_data-rmse:2.57976\n",
      "\n",
      "Fold 2 started at Tue Dec 17 00:51:21 2019\n",
      "[0]\ttrain-rmse:84.5267\tvalid_data-rmse:85.4586\n",
      "Multiple eval metrics have been passed: 'valid_data-rmse' will be used for early stopping.\n",
      "\n",
      "Will train until valid_data-rmse hasn't improved in 200 rounds.\n",
      "[500]\ttrain-rmse:2.30439\tvalid_data-rmse:2.5278\n",
      "Stopping. Best iteration:\n",
      "[634]\ttrain-rmse:2.17196\tvalid_data-rmse:2.4826\n",
      "\n",
      "Fold 3 started at Tue Dec 17 00:51:25 2019\n",
      "[0]\ttrain-rmse:84.6725\tvalid_data-rmse:84.1485\n",
      "Multiple eval metrics have been passed: 'valid_data-rmse' will be used for early stopping.\n",
      "\n",
      "Will train until valid_data-rmse hasn't improved in 200 rounds.\n",
      "[500]\ttrain-rmse:2.30571\tvalid_data-rmse:2.49911\n",
      "Stopping. Best iteration:\n",
      "[677]\ttrain-rmse:2.14278\tvalid_data-rmse:2.4596\n",
      "\n",
      "Fold 4 started at Tue Dec 17 00:51:30 2019\n",
      "[0]\ttrain-rmse:84.657\tvalid_data-rmse:84.292\n",
      "Multiple eval metrics have been passed: 'valid_data-rmse' will be used for early stopping.\n",
      "\n",
      "Will train until valid_data-rmse hasn't improved in 200 rounds.\n",
      "[500]\ttrain-rmse:2.29995\tvalid_data-rmse:2.60453\n",
      "Stopping. Best iteration:\n",
      "[632]\ttrain-rmse:2.16499\tvalid_data-rmse:2.55254\n",
      "\n",
      "Fold 5 started at Tue Dec 17 00:51:35 2019\n",
      "[0]\ttrain-rmse:84.5708\tvalid_data-rmse:85.0677\n",
      "Multiple eval metrics have been passed: 'valid_data-rmse' will be used for early stopping.\n",
      "\n",
      "Will train until valid_data-rmse hasn't improved in 200 rounds.\n",
      "[500]\ttrain-rmse:2.30076\tvalid_data-rmse:2.59525\n",
      "Stopping. Best iteration:\n",
      "[698]\ttrain-rmse:2.12201\tvalid_data-rmse:2.5301\n",
      "\n",
      "Fold 6 started at Tue Dec 17 00:51:40 2019\n",
      "[0]\ttrain-rmse:84.6481\tvalid_data-rmse:84.3693\n",
      "Multiple eval metrics have been passed: 'valid_data-rmse' will be used for early stopping.\n",
      "\n",
      "Will train until valid_data-rmse hasn't improved in 200 rounds.\n",
      "[500]\ttrain-rmse:2.30905\tvalid_data-rmse:3.09559\n",
      "Stopping. Best iteration:\n",
      "[691]\ttrain-rmse:2.13561\tvalid_data-rmse:3.05167\n",
      "\n",
      "Fold 7 started at Tue Dec 17 00:51:45 2019\n",
      "[0]\ttrain-rmse:84.6183\tvalid_data-rmse:84.6328\n",
      "Multiple eval metrics have been passed: 'valid_data-rmse' will be used for early stopping.\n",
      "\n",
      "Will train until valid_data-rmse hasn't improved in 200 rounds.\n",
      "[500]\ttrain-rmse:2.30937\tvalid_data-rmse:2.43312\n",
      "Stopping. Best iteration:\n",
      "[652]\ttrain-rmse:2.1628\tvalid_data-rmse:2.39355\n",
      "\n",
      "Fold 8 started at Tue Dec 17 00:51:49 2019\n",
      "[0]\ttrain-rmse:84.7206\tvalid_data-rmse:83.7149\n",
      "Multiple eval metrics have been passed: 'valid_data-rmse' will be used for early stopping.\n",
      "\n",
      "Will train until valid_data-rmse hasn't improved in 200 rounds.\n",
      "[500]\ttrain-rmse:2.30655\tvalid_data-rmse:2.51605\n",
      "Stopping. Best iteration:\n",
      "[740]\ttrain-rmse:2.10632\tvalid_data-rmse:2.43858\n",
      "\n",
      "Fold 9 started at Tue Dec 17 00:51:54 2019\n",
      "[0]\ttrain-rmse:84.661\tvalid_data-rmse:84.2525\n",
      "Multiple eval metrics have been passed: 'valid_data-rmse' will be used for early stopping.\n",
      "\n",
      "Will train until valid_data-rmse hasn't improved in 200 rounds.\n",
      "[500]\ttrain-rmse:2.28647\tvalid_data-rmse:2.67505\n",
      "Stopping. Best iteration:\n",
      "[571]\ttrain-rmse:2.1963\tvalid_data-rmse:2.65497\n",
      "\n",
      "CV mean score: 2.5771, std: 0.1767.\n"
     ]
    }
   ],
   "source": [
    "xgb_params = {'eta': 0.01,\n",
    "              'objective': 'reg:linear',\n",
    "              'max_depth': 7,\n",
    "              'subsample': 0.8,\n",
    "              'colsample_bytree': 0.8,\n",
    "              'eval_metric': 'rmse',\n",
    "              'seed': 11,\n",
    "              'silent': True}\n",
    "oof_xgb_stack = train_model(train_stack,  y, params=xgb_params, model_type='xgb', plot_feature_importance=False)"
   ]
  },
  {
   "cell_type": "markdown",
   "metadata": {},
   "source": [
    "##### svr 作为第二层融合模型"
   ]
  },
  {
   "cell_type": "code",
   "execution_count": 18,
   "metadata": {},
   "outputs": [
    {
     "name": "stdout",
     "output_type": "stream",
     "text": [
      "Fold 0 started at Tue Dec 17 00:51:58 2019\n",
      "Fold 1 started at Tue Dec 17 00:52:00 2019\n",
      "Fold 2 started at Tue Dec 17 00:52:02 2019\n",
      "Fold 3 started at Tue Dec 17 00:52:04 2019\n",
      "Fold 4 started at Tue Dec 17 00:52:06 2019\n",
      "Fold 5 started at Tue Dec 17 00:52:08 2019\n",
      "Fold 6 started at Tue Dec 17 00:52:10 2019\n",
      "Fold 7 started at Tue Dec 17 00:52:12 2019\n",
      "Fold 8 started at Tue Dec 17 00:52:13 2019\n",
      "Fold 9 started at Tue Dec 17 00:52:15 2019\n",
      "CV mean score: 6.3624, std: 0.8172.\n"
     ]
    }
   ],
   "source": [
    "param_grid = {\n",
    "    \"kernel\": (\"linear\", 'rbf'), \n",
    "    \"C\": np.logspace(-3, 3, 7), \n",
    "    \"gamma\": np.logspace(-3, 3, 7)}\n",
    "\n",
    "svr = GridSearchCV(SVR(), param_grid=param_grid,n_jobs = -1,scoring='neg_mean_squared_error')\n",
    "svr = SVR()\n",
    "oof_svr_stack = train_model(train_stack, y, params=None,model_type='svr',model = svr)"
   ]
  },
  {
   "cell_type": "markdown",
   "metadata": {},
   "source": [
    "##### 岭回归做第二层融合模型"
   ]
  },
  {
   "cell_type": "code",
   "execution_count": 19,
   "metadata": {},
   "outputs": [
    {
     "name": "stdout",
     "output_type": "stream",
     "text": [
      "Fold 0 started at Tue Dec 17 00:52:17 2019\n",
      "Fold 1 started at Tue Dec 17 00:52:17 2019\n",
      "Fold 2 started at Tue Dec 17 00:52:17 2019\n",
      "Fold 3 started at Tue Dec 17 00:52:17 2019\n",
      "Fold 4 started at Tue Dec 17 00:52:18 2019\n",
      "Fold 5 started at Tue Dec 17 00:52:18 2019\n",
      "Fold 6 started at Tue Dec 17 00:52:18 2019\n",
      "Fold 7 started at Tue Dec 17 00:52:18 2019\n",
      "Fold 8 started at Tue Dec 17 00:52:18 2019\n",
      "Fold 9 started at Tue Dec 17 00:52:18 2019\n",
      "CV mean score: 2.5521, std: 0.1749.\n"
     ]
    }
   ],
   "source": [
    "model = linear_model.RidgeCV(alphas=(0.01, 0.1, 1.0, 10.0, 100.0), scoring='neg_mean_squared_error', cv=folds)\n",
    "oof_rcv_stack  = train_model(train_stack.values, y, params=None, model_type='sklearn', model=model)"
   ]
  },
  {
   "cell_type": "markdown",
   "metadata": {},
   "source": [
    "#### 去掉lgb的结果"
   ]
  },
  {
   "cell_type": "code",
   "execution_count": 20,
   "metadata": {},
   "outputs": [],
   "source": [
    "#构建第二层训练矩阵\n",
    "train_stack = np.vstack([ oof_xgb, oof_cat, oof_svr,oof_rfr]).transpose()\n",
    "train_stack = pd.DataFrame(train_stack, columns=[ 'xgb', 'cat', 'svr','rfr'])"
   ]
  },
  {
   "cell_type": "markdown",
   "metadata": {},
   "source": [
    "##### lgb作为第二层融合模型"
   ]
  },
  {
   "cell_type": "code",
   "execution_count": 21,
   "metadata": {},
   "outputs": [
    {
     "name": "stdout",
     "output_type": "stream",
     "text": [
      "Fold 0 started at Tue Dec 17 00:52:18 2019\n",
      "Training until validation scores don't improve for 200 rounds.\n",
      "Early stopping, best iteration is:\n",
      "[632]\ttraining's rmse: 2.46863\tvalid_1's rmse: 2.75514\n",
      "Fold 1 started at Tue Dec 17 00:52:19 2019\n",
      "Training until validation scores don't improve for 200 rounds.\n",
      "Early stopping, best iteration is:\n",
      "[625]\ttraining's rmse: 2.46977\tvalid_1's rmse: 2.71877\n",
      "Fold 2 started at Tue Dec 17 00:52:19 2019\n",
      "Training until validation scores don't improve for 200 rounds.\n",
      "Early stopping, best iteration is:\n",
      "[767]\ttraining's rmse: 2.4453\tvalid_1's rmse: 2.60777\n",
      "Fold 3 started at Tue Dec 17 00:52:20 2019\n",
      "Training until validation scores don't improve for 200 rounds.\n",
      "Early stopping, best iteration is:\n",
      "[528]\ttraining's rmse: 2.33589\tvalid_1's rmse: 2.43877\n",
      "Fold 4 started at Tue Dec 17 00:52:20 2019\n",
      "Training until validation scores don't improve for 200 rounds.\n",
      "Early stopping, best iteration is:\n",
      "[559]\ttraining's rmse: 2.45839\tvalid_1's rmse: 2.56163\n",
      "Fold 5 started at Tue Dec 17 00:52:21 2019\n",
      "Training until validation scores don't improve for 200 rounds.\n",
      "Early stopping, best iteration is:\n",
      "[706]\ttraining's rmse: 2.47472\tvalid_1's rmse: 2.98036\n",
      "Fold 6 started at Tue Dec 17 00:52:22 2019\n",
      "Training until validation scores don't improve for 200 rounds.\n",
      "Early stopping, best iteration is:\n",
      "[494]\ttraining's rmse: 2.48415\tvalid_1's rmse: 2.98658\n",
      "Fold 7 started at Tue Dec 17 00:52:22 2019\n",
      "Training until validation scores don't improve for 200 rounds.\n",
      "Early stopping, best iteration is:\n",
      "[546]\ttraining's rmse: 2.54448\tvalid_1's rmse: 2.47516\n",
      "Fold 8 started at Tue Dec 17 00:52:23 2019\n",
      "Training until validation scores don't improve for 200 rounds.\n",
      "Early stopping, best iteration is:\n",
      "[573]\ttraining's rmse: 2.3244\tvalid_1's rmse: 2.40107\n",
      "Fold 9 started at Tue Dec 17 00:52:23 2019\n",
      "Training until validation scores don't improve for 200 rounds.\n",
      "Early stopping, best iteration is:\n",
      "[446]\ttraining's rmse: 2.51156\tvalid_1's rmse: 2.85194\n",
      "CV mean score: 2.6777, std: 0.2045.\n"
     ]
    },
    {
     "data": {
      "image/png": "[encoded data removed]",
      "text/plain": [
       "<Figure size 1152x864 with 1 Axes>"
      ]
     },
     "metadata": {
      "needs_background": "light"
     },
     "output_type": "display_data"
    }
   ],
   "source": [
    "params = {'num_leaves': 30,\n",
    "         'min_data_in_leaf': 20,\n",
    "         'objective': 'regression',\n",
    "         'max_depth': 9,\n",
    "         'learning_rate': 0.01,\n",
    "         \"boosting\": \"gbdt\",\n",
    "         \"feature_fraction\": 0.9,\n",
    "         \"bagging_freq\": 1,\n",
    "         \"bagging_fraction\": 0.9,\n",
    "         \"bagging_seed\": 11,\n",
    "         \"metric\": 'rmse',\n",
    "         \"lambda_l1\": 0.2,\n",
    "         \"verbosity\": -1}\n",
    "oof_lgb_stack,  _ = train_model(train_stack, y, params=params, model_type='lgb', plot_feature_importance=True)"
   ]
  },
  {
   "cell_type": "code",
   "execution_count": 22,
   "metadata": {},
   "outputs": [
    {
     "name": "stdout",
     "output_type": "stream",
     "text": [
      "Fold 0 started at Tue Dec 17 00:52:24 2019\n",
      "Training until validation scores don't improve for 200 rounds.\n",
      "[1000]\ttraining's rmse: 2.58448\tvalid_1's rmse: 2.7426\n",
      "Early stopping, best iteration is:\n",
      "[1281]\ttraining's rmse: 2.57075\tvalid_1's rmse: 2.7386\n",
      "Fold 1 started at Tue Dec 17 00:52:25 2019\n",
      "Training until validation scores don't improve for 200 rounds.\n",
      "[1000]\ttraining's rmse: 2.58233\tvalid_1's rmse: 2.69369\n",
      "Early stopping, best iteration is:\n",
      "[979]\ttraining's rmse: 2.58343\tvalid_1's rmse: 2.69338\n",
      "Fold 2 started at Tue Dec 17 00:52:25 2019\n",
      "Training until validation scores don't improve for 200 rounds.\n",
      "Early stopping, best iteration is:\n",
      "[648]\ttraining's rmse: 2.61321\tvalid_1's rmse: 2.6057\n",
      "Fold 3 started at Tue Dec 17 00:52:25 2019\n",
      "Training until validation scores don't improve for 200 rounds.\n",
      "Early stopping, best iteration is:\n",
      "[539]\ttraining's rmse: 2.44874\tvalid_1's rmse: 2.42332\n",
      "Fold 4 started at Tue Dec 17 00:52:25 2019\n",
      "Training until validation scores don't improve for 200 rounds.\n",
      "Early stopping, best iteration is:\n",
      "[710]\ttraining's rmse: 2.57128\tvalid_1's rmse: 2.53863\n",
      "Fold 5 started at Tue Dec 17 00:52:26 2019\n",
      "Training until validation scores don't improve for 200 rounds.\n",
      "[1000]\ttraining's rmse: 2.60484\tvalid_1's rmse: 2.97545\n",
      "[2000]\ttraining's rmse: 2.55601\tvalid_1's rmse: 2.95494\n",
      "Early stopping, best iteration is:\n",
      "[2261]\ttraining's rmse: 2.54581\tvalid_1's rmse: 2.95191\n",
      "Fold 6 started at Tue Dec 17 00:52:27 2019\n",
      "Training until validation scores don't improve for 200 rounds.\n",
      "Early stopping, best iteration is:\n",
      "[540]\ttraining's rmse: 2.59691\tvalid_1's rmse: 2.97518\n",
      "Fold 7 started at Tue Dec 17 00:52:27 2019\n",
      "Training until validation scores don't improve for 200 rounds.\n",
      "Early stopping, best iteration is:\n",
      "[558]\ttraining's rmse: 2.66991\tvalid_1's rmse: 2.45026\n",
      "Fold 8 started at Tue Dec 17 00:52:27 2019\n",
      "Training until validation scores don't improve for 200 rounds.\n",
      "Early stopping, best iteration is:\n",
      "[533]\ttraining's rmse: 2.44558\tvalid_1's rmse: 2.40064\n",
      "Fold 9 started at Tue Dec 17 00:52:27 2019\n",
      "Training until validation scores don't improve for 200 rounds.\n",
      "Early stopping, best iteration is:\n",
      "[533]\ttraining's rmse: 2.59803\tvalid_1's rmse: 2.86545\n",
      "CV mean score: 2.6643, std: 0.2047.\n"
     ]
    },
    {
     "data": {
      "image/png": "[encoded data removed]",
      "text/plain": [
       "<Figure size 1152x864 with 1 Axes>"
      ]
     },
     "metadata": {
      "needs_background": "light"
     },
     "output_type": "display_data"
    }
   ],
   "source": [
    "#lgb 作为meta\n",
    "params = {'num_leaves': 8,\n",
    "         'min_data_in_leaf': 20,\n",
    "         'objective': 'regression',\n",
    "         'max_depth': 3,\n",
    "         'learning_rate': 0.01,\n",
    "         \"boosting\": \"gbdt\",\n",
    "         \"bagging_seed\": 11,\n",
    "         \"metric\": 'rmse',\n",
    "         \"lambda_l1\": 0.2,\n",
    "         \"verbosity\": -1}\n",
    "oof_lgb_stack,  _ = train_model(train_stack, y, params=params, model_type='lgb', plot_feature_importance=True)"
   ]
  },
  {
   "cell_type": "markdown",
   "metadata": {},
   "source": [
    "##### catboost作为第二层融合模型"
   ]
  },
  {
   "cell_type": "code",
   "execution_count": 23,
   "metadata": {},
   "outputs": [
    {
     "name": "stdout",
     "output_type": "stream",
     "text": [
      "Fold 0 started at Tue Dec 17 00:52:28 2019\n",
      "Fold 1 started at Tue Dec 17 00:52:49 2019\n",
      "Fold 2 started at Tue Dec 17 00:53:01 2019\n",
      "Fold 3 started at Tue Dec 17 00:53:13 2019\n",
      "Fold 4 started at Tue Dec 17 00:53:24 2019\n",
      "Fold 5 started at Tue Dec 17 00:53:34 2019\n",
      "Fold 6 started at Tue Dec 17 00:53:49 2019\n",
      "Fold 7 started at Tue Dec 17 00:53:58 2019\n",
      "Fold 8 started at Tue Dec 17 00:54:15 2019\n",
      "Fold 9 started at Tue Dec 17 00:54:29 2019\n",
      "CV mean score: 2.6071, std: 0.1876.\n"
     ]
    }
   ],
   "source": [
    "cat_params = {'learning_rate': 0.002,\n",
    "              'depth': 5,\n",
    "              'l2_leaf_reg': 10,\n",
    "              # 'bootstrap_type': 'Bernoulli',\n",
    "              'colsample_bylevel': 0.8,\n",
    "              'bagging_temperature': 0.2,\n",
    "              #'metric_period': 500,\n",
    "              'od_type': 'Iter',\n",
    "              'od_wait': 100,\n",
    "              'random_seed': 11,\n",
    "              'allow_writing_files': False}\n",
    "oof_cat_stack = train_model(train_stack,y,params = cat_params,model_type = 'cat')"
   ]
  },
  {
   "cell_type": "markdown",
   "metadata": {},
   "source": [
    "##### randomforest作为第二层融合模型"
   ]
  },
  {
   "cell_type": "code",
   "execution_count": 24,
   "metadata": {},
   "outputs": [
    {
     "name": "stdout",
     "output_type": "stream",
     "text": [
      "Fold 0 started at Tue Dec 17 00:54:51 2019\n",
      "Fold 1 started at Tue Dec 17 00:54:51 2019\n",
      "Fold 2 started at Tue Dec 17 00:54:51 2019\n",
      "Fold 3 started at Tue Dec 17 00:54:52 2019\n",
      "Fold 4 started at Tue Dec 17 00:54:52 2019\n",
      "Fold 5 started at Tue Dec 17 00:54:52 2019\n",
      "Fold 6 started at Tue Dec 17 00:54:53 2019\n",
      "Fold 7 started at Tue Dec 17 00:54:53 2019\n",
      "Fold 8 started at Tue Dec 17 00:54:53 2019\n",
      "Fold 9 started at Tue Dec 17 00:54:53 2019\n",
      "CV mean score: 2.5666, std: 0.0978.\n"
     ]
    }
   ],
   "source": [
    "rfrmodel = RandomForestRegressor(\n",
    "    n_estimators = 20, \n",
    "    min_samples_leaf = 4, \n",
    "    max_features = 0.3, \n",
    "    n_jobs = -1,\n",
    "    oob_score = True, \n",
    "    random_state = 42\n",
    ")\n",
    "\n",
    "oof_rfr_stack = train_model(train_stack,y,model_type = 'rfr',params = None,model = rfrmodel)"
   ]
  },
  {
   "cell_type": "markdown",
   "metadata": {},
   "source": [
    "##### xgboost作为第二层融合模型"
   ]
  },
  {
   "cell_type": "code",
   "execution_count": 25,
   "metadata": {},
   "outputs": [
    {
     "name": "stdout",
     "output_type": "stream",
     "text": [
      "Fold 0 started at Tue Dec 17 00:54:54 2019\n",
      "[0]\ttrain-rmse:84.5845\tvalid_data-rmse:84.9425\n",
      "Multiple eval metrics have been passed: 'valid_data-rmse' will be used for early stopping.\n",
      "\n",
      "Will train until valid_data-rmse hasn't improved in 200 rounds.\n",
      "[500]\ttrain-rmse:2.32202\tvalid_data-rmse:2.68045\n",
      "Stopping. Best iteration:\n",
      "[789]\ttrain-rmse:2.10573\tvalid_data-rmse:2.61341\n",
      "\n",
      "Fold 1 started at Tue Dec 17 00:54:57 2019\n",
      "[0]\ttrain-rmse:84.5437\tvalid_data-rmse:85.3065\n",
      "Multiple eval metrics have been passed: 'valid_data-rmse' will be used for early stopping.\n",
      "\n",
      "Will train until valid_data-rmse hasn't improved in 200 rounds.\n",
      "[500]\ttrain-rmse:2.32073\tvalid_data-rmse:2.64751\n",
      "Stopping. Best iteration:\n",
      "[715]\ttrain-rmse:2.14626\tvalid_data-rmse:2.57625\n",
      "\n",
      "Fold 2 started at Tue Dec 17 00:55:00 2019\n",
      "[0]\ttrain-rmse:84.5267\tvalid_data-rmse:85.4584\n",
      "Multiple eval metrics have been passed: 'valid_data-rmse' will be used for early stopping.\n",
      "\n",
      "Will train until valid_data-rmse hasn't improved in 200 rounds.\n",
      "[500]\ttrain-rmse:2.33352\tvalid_data-rmse:2.52125\n",
      "Stopping. Best iteration:\n",
      "[627]\ttrain-rmse:2.20863\tvalid_data-rmse:2.4755\n",
      "\n",
      "Fold 3 started at Tue Dec 17 00:55:03 2019\n",
      "[0]\ttrain-rmse:84.6728\tvalid_data-rmse:84.1471\n",
      "Multiple eval metrics have been passed: 'valid_data-rmse' will be used for early stopping.\n",
      "\n",
      "Will train until valid_data-rmse hasn't improved in 200 rounds.\n",
      "[500]\ttrain-rmse:2.33951\tvalid_data-rmse:2.47186\n",
      "Stopping. Best iteration:\n",
      "[639]\ttrain-rmse:2.20945\tvalid_data-rmse:2.42824\n",
      "\n",
      "Fold 4 started at Tue Dec 17 00:55:06 2019\n",
      "[0]\ttrain-rmse:84.657\tvalid_data-rmse:84.2913\n",
      "Multiple eval metrics have been passed: 'valid_data-rmse' will be used for early stopping.\n",
      "\n",
      "Will train until valid_data-rmse hasn't improved in 200 rounds.\n",
      "[500]\ttrain-rmse:2.33054\tvalid_data-rmse:2.61206\n",
      "Stopping. Best iteration:\n",
      "[629]\ttrain-rmse:2.20375\tvalid_data-rmse:2.5616\n",
      "\n",
      "Fold 5 started at Tue Dec 17 00:55:09 2019\n",
      "[0]\ttrain-rmse:84.5704\tvalid_data-rmse:85.0683\n",
      "Multiple eval metrics have been passed: 'valid_data-rmse' will be used for early stopping.\n",
      "\n",
      "Will train until valid_data-rmse hasn't improved in 200 rounds.\n",
      "[500]\ttrain-rmse:2.3261\tvalid_data-rmse:2.60803\n",
      "Stopping. Best iteration:\n",
      "[652]\ttrain-rmse:2.1842\tvalid_data-rmse:2.54481\n",
      "\n",
      "Fold 6 started at Tue Dec 17 00:55:12 2019\n",
      "[0]\ttrain-rmse:84.6483\tvalid_data-rmse:84.3697\n",
      "Multiple eval metrics have been passed: 'valid_data-rmse' will be used for early stopping.\n",
      "\n",
      "Will train until valid_data-rmse hasn't improved in 200 rounds.\n",
      "[500]\ttrain-rmse:2.33755\tvalid_data-rmse:2.85245\n",
      "[1000]\ttrain-rmse:2.01897\tvalid_data-rmse:2.79921\n",
      "Stopping. Best iteration:\n",
      "[801]\ttrain-rmse:2.11614\tvalid_data-rmse:2.7961\n",
      "\n",
      "Fold 7 started at Tue Dec 17 00:55:16 2019\n",
      "[0]\ttrain-rmse:84.6187\tvalid_data-rmse:84.6329\n",
      "Multiple eval metrics have been passed: 'valid_data-rmse' will be used for early stopping.\n",
      "\n",
      "Will train until valid_data-rmse hasn't improved in 200 rounds.\n",
      "[500]\ttrain-rmse:2.33796\tvalid_data-rmse:2.44823\n",
      "Stopping. Best iteration:\n",
      "[648]\ttrain-rmse:2.20137\tvalid_data-rmse:2.40351\n",
      "\n",
      "Fold 8 started at Tue Dec 17 00:55:19 2019\n",
      "[0]\ttrain-rmse:84.7204\tvalid_data-rmse:83.7155\n",
      "Multiple eval metrics have been passed: 'valid_data-rmse' will be used for early stopping.\n",
      "\n",
      "Will train until valid_data-rmse hasn't improved in 200 rounds.\n",
      "[500]\ttrain-rmse:2.33993\tvalid_data-rmse:2.51052\n",
      "Stopping. Best iteration:\n",
      "[721]\ttrain-rmse:2.16145\tvalid_data-rmse:2.42386\n",
      "\n",
      "Fold 9 started at Tue Dec 17 00:55:22 2019\n",
      "[0]\ttrain-rmse:84.661\tvalid_data-rmse:84.2522\n",
      "Multiple eval metrics have been passed: 'valid_data-rmse' will be used for early stopping.\n",
      "\n",
      "Will train until valid_data-rmse hasn't improved in 200 rounds.\n",
      "[500]\ttrain-rmse:2.31398\tvalid_data-rmse:2.68255\n",
      "Stopping. Best iteration:\n",
      "[612]\ttrain-rmse:2.19994\tvalid_data-rmse:2.65962\n",
      "\n",
      "CV mean score: 2.5483, std: 0.1163.\n"
     ]
    }
   ],
   "source": [
    "xgb_params = {'eta': 0.01,\n",
    "              'objective': 'reg:linear',\n",
    "              'max_depth': 7,\n",
    "              'subsample': 0.8,\n",
    "              'colsample_bytree': 0.8,\n",
    "              'eval_metric': 'rmse',\n",
    "              'seed': 11,\n",
    "              'silent': True}\n",
    "oof_xgb_stack = train_model(train_stack,  y, params=xgb_params, model_type='xgb', plot_feature_importance=False)"
   ]
  },
  {
   "cell_type": "markdown",
   "metadata": {},
   "source": [
    "##### svr 作为第二层融合模型"
   ]
  },
  {
   "cell_type": "code",
   "execution_count": 26,
   "metadata": {},
   "outputs": [
    {
     "name": "stdout",
     "output_type": "stream",
     "text": [
      "Fold 0 started at Tue Dec 17 00:55:25 2019\n",
      "Fold 1 started at Tue Dec 17 00:55:26 2019\n",
      "Fold 2 started at Tue Dec 17 00:55:28 2019\n",
      "Fold 3 started at Tue Dec 17 00:55:30 2019\n",
      "Fold 4 started at Tue Dec 17 00:55:32 2019\n",
      "Fold 5 started at Tue Dec 17 00:55:33 2019\n",
      "Fold 6 started at Tue Dec 17 00:55:35 2019\n",
      "Fold 7 started at Tue Dec 17 00:55:37 2019\n",
      "Fold 8 started at Tue Dec 17 00:55:39 2019\n",
      "Fold 9 started at Tue Dec 17 00:55:41 2019\n",
      "CV mean score: 6.1173, std: 0.7148.\n"
     ]
    }
   ],
   "source": [
    "param_grid = {\n",
    "    \"kernel\": (\"linear\", 'rbf'), \n",
    "    \"C\": np.logspace(-3, 3, 7), \n",
    "    \"gamma\": np.logspace(-3, 3, 7)}\n",
    "\n",
    "svr = GridSearchCV(SVR(), param_grid=param_grid,n_jobs = -1,scoring='neg_mean_squared_error')\n",
    "svr = SVR()\n",
    "oof_svr_stack = train_model(train_stack, y, params=None,model_type='svr',model = svr)"
   ]
  },
  {
   "cell_type": "markdown",
   "metadata": {},
   "source": [
    "##### 岭回归做第二层融合模型"
   ]
  },
  {
   "cell_type": "code",
   "execution_count": 27,
   "metadata": {},
   "outputs": [
    {
     "name": "stdout",
     "output_type": "stream",
     "text": [
      "Fold 0 started at Tue Dec 17 00:55:42 2019\n",
      "Fold 1 started at Tue Dec 17 00:55:42 2019\n",
      "Fold 2 started at Tue Dec 17 00:55:42 2019\n",
      "Fold 3 started at Tue Dec 17 00:55:43 2019\n",
      "Fold 4 started at Tue Dec 17 00:55:43 2019\n",
      "Fold 5 started at Tue Dec 17 00:55:43 2019\n",
      "Fold 6 started at Tue Dec 17 00:55:43 2019\n",
      "Fold 7 started at Tue Dec 17 00:55:43 2019\n",
      "Fold 8 started at Tue Dec 17 00:55:43 2019\n",
      "Fold 9 started at Tue Dec 17 00:55:43 2019\n",
      "CV mean score: 2.5465, std: 0.1581.\n"
     ]
    }
   ],
   "source": [
    "model = linear_model.RidgeCV(alphas=(0.01, 0.1, 1.0, 10.0, 100.0), scoring='neg_mean_squared_error', cv=folds)\n",
    "oof_rcv_stack  = train_model(train_stack.values, y, params=None, model_type='sklearn', model=model)"
   ]
  },
  {
   "cell_type": "markdown",
   "metadata": {},
   "source": [
    "#### 去掉xgboost的结果"
   ]
  },
  {
   "cell_type": "code",
   "execution_count": 28,
   "metadata": {},
   "outputs": [],
   "source": [
    "#构建第二层训练矩阵\n",
    "train_stack = np.vstack([oof_lgb,  oof_cat, oof_lgb_1, oof_lgb_2,oof_svr,oof_rfr]).transpose()\n",
    "train_stack = pd.DataFrame(train_stack, columns=['lgb',  'cat', 'lgb_1', 'lgb_2','svr','rfr'])"
   ]
  },
  {
   "cell_type": "markdown",
   "metadata": {},
   "source": [
    "##### lgb作为第二层融合模型"
   ]
  },
  {
   "cell_type": "code",
   "execution_count": 29,
   "metadata": {},
   "outputs": [
    {
     "name": "stdout",
     "output_type": "stream",
     "text": [
      "Fold 0 started at Tue Dec 17 00:55:43 2019\n",
      "Training until validation scores don't improve for 200 rounds.\n",
      "Early stopping, best iteration is:\n",
      "[514]\ttraining's rmse: 2.45617\tvalid_1's rmse: 2.68872\n",
      "Fold 1 started at Tue Dec 17 00:55:44 2019\n",
      "Training until validation scores don't improve for 200 rounds.\n",
      "Early stopping, best iteration is:\n",
      "[524]\ttraining's rmse: 2.48468\tvalid_1's rmse: 2.62001\n",
      "Fold 2 started at Tue Dec 17 00:55:44 2019\n",
      "Training until validation scores don't improve for 200 rounds.\n",
      "Early stopping, best iteration is:\n",
      "[469]\ttraining's rmse: 2.45342\tvalid_1's rmse: 2.52771\n",
      "Fold 3 started at Tue Dec 17 00:55:45 2019\n",
      "Training until validation scores don't improve for 200 rounds.\n",
      "Early stopping, best iteration is:\n",
      "[481]\ttraining's rmse: 2.33466\tvalid_1's rmse: 2.4961\n",
      "Fold 4 started at Tue Dec 17 00:55:45 2019\n",
      "Training until validation scores don't improve for 200 rounds.\n",
      "Early stopping, best iteration is:\n",
      "[752]\ttraining's rmse: 2.39085\tvalid_1's rmse: 2.60023\n",
      "Fold 5 started at Tue Dec 17 00:55:46 2019\n",
      "Training until validation scores don't improve for 200 rounds.\n",
      "Early stopping, best iteration is:\n",
      "[439]\ttraining's rmse: 2.41009\tvalid_1's rmse: 2.60916\n",
      "Fold 6 started at Tue Dec 17 00:55:46 2019\n",
      "Training until validation scores don't improve for 200 rounds.\n",
      "Early stopping, best iteration is:\n",
      "[586]\ttraining's rmse: 2.3102\tvalid_1's rmse: 3.15296\n",
      "Fold 7 started at Tue Dec 17 00:55:47 2019\n",
      "Training until validation scores don't improve for 200 rounds.\n",
      "Early stopping, best iteration is:\n",
      "[604]\ttraining's rmse: 2.50258\tvalid_1's rmse: 2.45816\n",
      "Fold 8 started at Tue Dec 17 00:55:47 2019\n",
      "Training until validation scores don't improve for 200 rounds.\n",
      "Early stopping, best iteration is:\n",
      "[525]\ttraining's rmse: 2.32458\tvalid_1's rmse: 2.4444\n",
      "Fold 9 started at Tue Dec 17 00:55:48 2019\n",
      "Training until validation scores don't improve for 200 rounds.\n",
      "[1000]\ttraining's rmse: 2.34919\tvalid_1's rmse: 2.71902\n",
      "Early stopping, best iteration is:\n",
      "[818]\ttraining's rmse: 2.39073\tvalid_1's rmse: 2.71754\n",
      "CV mean score: 2.6315, std: 0.1945.\n"
     ]
    },
    {
     "data": {
      "image/png": "[encoded data removed]",
      "text/plain": [
       "<Figure size 1152x864 with 1 Axes>"
      ]
     },
     "metadata": {
      "needs_background": "light"
     },
     "output_type": "display_data"
    }
   ],
   "source": [
    "params = {'num_leaves': 30,\n",
    "         'min_data_in_leaf': 20,\n",
    "         'objective': 'regression',\n",
    "         'max_depth': 9,\n",
    "         'learning_rate': 0.01,\n",
    "         \"boosting\": \"gbdt\",\n",
    "         \"feature_fraction\": 0.9,\n",
    "         \"bagging_freq\": 1,\n",
    "         \"bagging_fraction\": 0.9,\n",
    "         \"bagging_seed\": 11,\n",
    "         \"metric\": 'rmse',\n",
    "         \"lambda_l1\": 0.2,\n",
    "         \"verbosity\": -1}\n",
    "oof_lgb_stack,  _ = train_model(train_stack, y, params=params, model_type='lgb', plot_feature_importance=True)"
   ]
  },
  {
   "cell_type": "code",
   "execution_count": 30,
   "metadata": {},
   "outputs": [
    {
     "name": "stdout",
     "output_type": "stream",
     "text": [
      "Fold 0 started at Tue Dec 17 00:55:49 2019\n",
      "Training until validation scores don't improve for 200 rounds.\n",
      "[1000]\ttraining's rmse: 2.53811\tvalid_1's rmse: 2.70219\n",
      "Early stopping, best iteration is:\n",
      "[1015]\ttraining's rmse: 2.5372\tvalid_1's rmse: 2.70196\n",
      "Fold 1 started at Tue Dec 17 00:55:50 2019\n",
      "Training until validation scores don't improve for 200 rounds.\n",
      "Early stopping, best iteration is:\n",
      "[741]\ttraining's rmse: 2.58079\tvalid_1's rmse: 2.62325\n",
      "Fold 2 started at Tue Dec 17 00:55:50 2019\n",
      "Training until validation scores don't improve for 200 rounds.\n",
      "Early stopping, best iteration is:\n",
      "[619]\ttraining's rmse: 2.55515\tvalid_1's rmse: 2.50963\n",
      "Fold 3 started at Tue Dec 17 00:55:50 2019\n",
      "Training until validation scores don't improve for 200 rounds.\n",
      "Early stopping, best iteration is:\n",
      "[491]\ttraining's rmse: 2.46026\tvalid_1's rmse: 2.45749\n",
      "Fold 4 started at Tue Dec 17 00:55:50 2019\n",
      "Training until validation scores don't improve for 200 rounds.\n",
      "Early stopping, best iteration is:\n",
      "[583]\ttraining's rmse: 2.57166\tvalid_1's rmse: 2.59053\n",
      "Fold 5 started at Tue Dec 17 00:55:51 2019\n",
      "Training until validation scores don't improve for 200 rounds.\n",
      "Early stopping, best iteration is:\n",
      "[559]\ttraining's rmse: 2.51051\tvalid_1's rmse: 2.5734\n",
      "Fold 6 started at Tue Dec 17 00:55:51 2019\n",
      "Training until validation scores don't improve for 200 rounds.\n",
      "Early stopping, best iteration is:\n",
      "[713]\ttraining's rmse: 2.44141\tvalid_1's rmse: 3.13626\n",
      "Fold 7 started at Tue Dec 17 00:55:51 2019\n",
      "Training until validation scores don't improve for 200 rounds.\n",
      "[1000]\ttraining's rmse: 2.61023\tvalid_1's rmse: 2.44215\n",
      "Early stopping, best iteration is:\n",
      "[1006]\ttraining's rmse: 2.60988\tvalid_1's rmse: 2.44202\n",
      "Fold 8 started at Tue Dec 17 00:55:52 2019\n",
      "Training until validation scores don't improve for 200 rounds.\n",
      "Early stopping, best iteration is:\n",
      "[479]\ttraining's rmse: 2.46454\tvalid_1's rmse: 2.41323\n",
      "Fold 9 started at Tue Dec 17 00:55:52 2019\n",
      "Training until validation scores don't improve for 200 rounds.\n",
      "[1000]\ttraining's rmse: 2.55864\tvalid_1's rmse: 2.71715\n",
      "[2000]\ttraining's rmse: 2.51473\tvalid_1's rmse: 2.70847\n",
      "Early stopping, best iteration is:\n",
      "[1986]\ttraining's rmse: 2.51542\tvalid_1's rmse: 2.70833\n",
      "CV mean score: 2.6156, std: 0.1992.\n"
     ]
    },
    {
     "data": {
      "image/png": "[encoded data removed]",
      "text/plain": [
       "<Figure size 1152x864 with 1 Axes>"
      ]
     },
     "metadata": {
      "needs_background": "light"
     },
     "output_type": "display_data"
    }
   ],
   "source": [
    "#lgb 作为meta\n",
    "params = {'num_leaves': 8,\n",
    "         'min_data_in_leaf': 20,\n",
    "         'objective': 'regression',\n",
    "         'max_depth': 3,\n",
    "         'learning_rate': 0.01,\n",
    "         \"boosting\": \"gbdt\",\n",
    "         \"bagging_seed\": 11,\n",
    "         \"metric\": 'rmse',\n",
    "         \"lambda_l1\": 0.2,\n",
    "         \"verbosity\": -1}\n",
    "oof_lgb_stack,  _ = train_model(train_stack, y, params=params, model_type='lgb', plot_feature_importance=True)"
   ]
  },
  {
   "cell_type": "markdown",
   "metadata": {},
   "source": [
    "##### catboost作为第二层融合模型"
   ]
  },
  {
   "cell_type": "code",
   "execution_count": 31,
   "metadata": {},
   "outputs": [
    {
     "name": "stdout",
     "output_type": "stream",
     "text": [
      "Fold 0 started at Tue Dec 17 00:55:53 2019\n",
      "Fold 1 started at Tue Dec 17 00:56:18 2019\n",
      "Fold 2 started at Tue Dec 17 00:56:27 2019\n",
      "Fold 3 started at Tue Dec 17 00:56:38 2019\n",
      "Fold 4 started at Tue Dec 17 00:56:46 2019\n",
      "Fold 5 started at Tue Dec 17 00:56:54 2019\n",
      "Fold 6 started at Tue Dec 17 00:57:11 2019\n",
      "Fold 7 started at Tue Dec 17 00:57:18 2019\n",
      "Fold 8 started at Tue Dec 17 00:57:36 2019\n",
      "Fold 9 started at Tue Dec 17 00:57:45 2019\n",
      "CV mean score: 2.6114, std: 0.2236.\n"
     ]
    }
   ],
   "source": [
    "cat_params = {'learning_rate': 0.002,\n",
    "              'depth': 5,\n",
    "              'l2_leaf_reg': 10,\n",
    "              # 'bootstrap_type': 'Bernoulli',\n",
    "              'colsample_bylevel': 0.8,\n",
    "              'bagging_temperature': 0.2,\n",
    "              #'metric_period': 500,\n",
    "              'od_type': 'Iter',\n",
    "              'od_wait': 100,\n",
    "              'random_seed': 11,\n",
    "              'allow_writing_files': False}\n",
    "oof_cat_stack = train_model(train_stack,y,params = cat_params,model_type = 'cat')"
   ]
  },
  {
   "cell_type": "markdown",
   "metadata": {},
   "source": [
    "##### randomforest作为第二层融合模型"
   ]
  },
  {
   "cell_type": "code",
   "execution_count": 32,
   "metadata": {},
   "outputs": [
    {
     "name": "stdout",
     "output_type": "stream",
     "text": [
      "Fold 0 started at Tue Dec 17 00:58:06 2019\n",
      "Fold 1 started at Tue Dec 17 00:58:06 2019\n",
      "Fold 2 started at Tue Dec 17 00:58:06 2019\n",
      "Fold 3 started at Tue Dec 17 00:58:07 2019\n",
      "Fold 4 started at Tue Dec 17 00:58:07 2019\n",
      "Fold 5 started at Tue Dec 17 00:58:07 2019\n",
      "Fold 6 started at Tue Dec 17 00:58:07 2019\n",
      "Fold 7 started at Tue Dec 17 00:58:08 2019\n",
      "Fold 8 started at Tue Dec 17 00:58:08 2019\n",
      "Fold 9 started at Tue Dec 17 00:58:08 2019\n",
      "CV mean score: 2.6022, std: 0.1229.\n"
     ]
    }
   ],
   "source": [
    "rfrmodel = RandomForestRegressor(\n",
    "    n_estimators = 20, \n",
    "    min_samples_leaf = 4, \n",
    "    max_features = 0.3, \n",
    "    n_jobs = -1,\n",
    "    oob_score = True, \n",
    "    random_state = 42\n",
    ")\n",
    "\n",
    "oof_rfr_stack = train_model(train_stack,y,model_type = 'rfr',params = None,model = rfrmodel)"
   ]
  },
  {
   "cell_type": "markdown",
   "metadata": {},
   "source": [
    "##### xgboost作为第二层融合模型"
   ]
  },
  {
   "cell_type": "code",
   "execution_count": 33,
   "metadata": {},
   "outputs": [
    {
     "name": "stdout",
     "output_type": "stream",
     "text": [
      "Fold 0 started at Tue Dec 17 00:58:08 2019\n",
      "[0]\ttrain-rmse:84.585\tvalid_data-rmse:84.9429\n",
      "Multiple eval metrics have been passed: 'valid_data-rmse' will be used for early stopping.\n",
      "\n",
      "Will train until valid_data-rmse hasn't improved in 200 rounds.\n",
      "[500]\ttrain-rmse:2.32797\tvalid_data-rmse:2.7252\n",
      "Stopping. Best iteration:\n",
      "[682]\ttrain-rmse:2.17139\tvalid_data-rmse:2.64808\n",
      "\n",
      "Fold 1 started at Tue Dec 17 00:58:12 2019\n",
      "[0]\ttrain-rmse:84.5434\tvalid_data-rmse:85.3068\n",
      "Multiple eval metrics have been passed: 'valid_data-rmse' will be used for early stopping.\n",
      "\n",
      "Will train until valid_data-rmse hasn't improved in 200 rounds.\n",
      "[500]\ttrain-rmse:2.32884\tvalid_data-rmse:2.66735\n",
      "Stopping. Best iteration:\n",
      "[680]\ttrain-rmse:2.17091\tvalid_data-rmse:2.6027\n",
      "\n",
      "Fold 2 started at Tue Dec 17 00:58:16 2019\n",
      "[0]\ttrain-rmse:84.5271\tvalid_data-rmse:85.4601\n",
      "Multiple eval metrics have been passed: 'valid_data-rmse' will be used for early stopping.\n",
      "\n",
      "Will train until valid_data-rmse hasn't improved in 200 rounds.\n",
      "[500]\ttrain-rmse:2.34056\tvalid_data-rmse:2.5473\n",
      "Stopping. Best iteration:\n",
      "[641]\ttrain-rmse:2.20714\tvalid_data-rmse:2.50279\n",
      "\n",
      "Fold 3 started at Tue Dec 17 00:58:20 2019\n",
      "[0]\ttrain-rmse:84.6725\tvalid_data-rmse:84.1482\n",
      "Multiple eval metrics have been passed: 'valid_data-rmse' will be used for early stopping.\n",
      "\n",
      "Will train until valid_data-rmse hasn't improved in 200 rounds.\n",
      "[500]\ttrain-rmse:2.33973\tvalid_data-rmse:2.52935\n",
      "Stopping. Best iteration:\n",
      "[617]\ttrain-rmse:2.22047\tvalid_data-rmse:2.49114\n",
      "\n",
      "Fold 4 started at Tue Dec 17 00:58:23 2019\n",
      "[0]\ttrain-rmse:84.6568\tvalid_data-rmse:84.2921\n",
      "Multiple eval metrics have been passed: 'valid_data-rmse' will be used for early stopping.\n",
      "\n",
      "Will train until valid_data-rmse hasn't improved in 200 rounds.\n",
      "[500]\ttrain-rmse:2.33739\tvalid_data-rmse:2.6207\n",
      "Stopping. Best iteration:\n",
      "[695]\ttrain-rmse:2.16921\tvalid_data-rmse:2.56906\n",
      "\n",
      "Fold 5 started at Tue Dec 17 00:58:27 2019\n",
      "[0]\ttrain-rmse:84.5702\tvalid_data-rmse:85.0682\n",
      "Multiple eval metrics have been passed: 'valid_data-rmse' will be used for early stopping.\n",
      "\n",
      "Will train until valid_data-rmse hasn't improved in 200 rounds.\n",
      "[500]\ttrain-rmse:2.33577\tvalid_data-rmse:2.60738\n",
      "Stopping. Best iteration:\n",
      "[689]\ttrain-rmse:2.17307\tvalid_data-rmse:2.54039\n",
      "\n",
      "Fold 6 started at Tue Dec 17 00:58:31 2019\n",
      "[0]\ttrain-rmse:84.6481\tvalid_data-rmse:84.3696\n",
      "Multiple eval metrics have been passed: 'valid_data-rmse' will be used for early stopping.\n",
      "\n",
      "Will train until valid_data-rmse hasn't improved in 200 rounds.\n",
      "[500]\ttrain-rmse:2.34445\tvalid_data-rmse:3.00302\n",
      "Stopping. Best iteration:\n",
      "[678]\ttrain-rmse:2.1805\tvalid_data-rmse:2.95005\n",
      "\n",
      "Fold 7 started at Tue Dec 17 00:58:35 2019\n",
      "[0]\ttrain-rmse:84.6183\tvalid_data-rmse:84.6326\n",
      "Multiple eval metrics have been passed: 'valid_data-rmse' will be used for early stopping.\n",
      "\n",
      "Will train until valid_data-rmse hasn't improved in 200 rounds.\n",
      "[500]\ttrain-rmse:2.34419\tvalid_data-rmse:2.44135\n",
      "Stopping. Best iteration:\n",
      "[653]\ttrain-rmse:2.2052\tvalid_data-rmse:2.40221\n",
      "\n",
      "Fold 8 started at Tue Dec 17 00:58:39 2019\n",
      "[0]\ttrain-rmse:84.72\tvalid_data-rmse:83.7151\n",
      "Multiple eval metrics have been passed: 'valid_data-rmse' will be used for early stopping.\n",
      "\n",
      "Will train until valid_data-rmse hasn't improved in 200 rounds.\n",
      "[500]\ttrain-rmse:2.34598\tvalid_data-rmse:2.55424\n",
      "Stopping. Best iteration:\n",
      "[700]\ttrain-rmse:2.17737\tvalid_data-rmse:2.47632\n",
      "\n",
      "Fold 9 started at Tue Dec 17 00:58:43 2019\n",
      "[0]\ttrain-rmse:84.6608\tvalid_data-rmse:84.2521\n",
      "Multiple eval metrics have been passed: 'valid_data-rmse' will be used for early stopping.\n",
      "\n",
      "Will train until valid_data-rmse hasn't improved in 200 rounds.\n",
      "[500]\ttrain-rmse:2.31996\tvalid_data-rmse:2.69683\n",
      "Stopping. Best iteration:\n",
      "[571]\ttrain-rmse:2.23351\tvalid_data-rmse:2.67988\n",
      "\n",
      "CV mean score: 2.5863, std: 0.1448.\n"
     ]
    }
   ],
   "source": [
    "xgb_params = {'eta': 0.01,\n",
    "              'objective': 'reg:linear',\n",
    "              'max_depth': 7,\n",
    "              'subsample': 0.8,\n",
    "              'colsample_bytree': 0.8,\n",
    "              'eval_metric': 'rmse',\n",
    "              'seed': 11,\n",
    "              'silent': True}\n",
    "oof_xgb_stack = train_model(train_stack,  y, params=xgb_params, model_type='xgb', plot_feature_importance=False)"
   ]
  },
  {
   "cell_type": "markdown",
   "metadata": {},
   "source": [
    "##### svr 作为第二层融合模型"
   ]
  },
  {
   "cell_type": "code",
   "execution_count": 34,
   "metadata": {},
   "outputs": [
    {
     "name": "stdout",
     "output_type": "stream",
     "text": [
      "Fold 0 started at Tue Dec 17 00:58:46 2019\n",
      "Fold 1 started at Tue Dec 17 00:58:48 2019\n",
      "Fold 2 started at Tue Dec 17 00:58:50 2019\n",
      "Fold 3 started at Tue Dec 17 00:58:51 2019\n",
      "Fold 4 started at Tue Dec 17 00:58:53 2019\n",
      "Fold 5 started at Tue Dec 17 00:58:55 2019\n",
      "Fold 6 started at Tue Dec 17 00:58:57 2019\n",
      "Fold 7 started at Tue Dec 17 00:58:59 2019\n",
      "Fold 8 started at Tue Dec 17 00:59:00 2019\n",
      "Fold 9 started at Tue Dec 17 00:59:02 2019\n",
      "CV mean score: 6.5117, std: 0.8575.\n"
     ]
    }
   ],
   "source": [
    "param_grid = {\n",
    "    \"kernel\": (\"linear\", 'rbf'), \n",
    "    \"C\": np.logspace(-3, 3, 7), \n",
    "    \"gamma\": np.logspace(-3, 3, 7)}\n",
    "\n",
    "svr = GridSearchCV(SVR(), param_grid=param_grid,n_jobs = -1,scoring='neg_mean_squared_error')\n",
    "svr = SVR()\n",
    "oof_svr_stack = train_model(train_stack, y, params=None,model_type='svr',model = svr)"
   ]
  },
  {
   "cell_type": "markdown",
   "metadata": {},
   "source": [
    "##### 岭回归做第二层融合模型"
   ]
  },
  {
   "cell_type": "code",
   "execution_count": 35,
   "metadata": {},
   "outputs": [
    {
     "name": "stdout",
     "output_type": "stream",
     "text": [
      "Fold 0 started at Tue Dec 17 00:59:04 2019\n",
      "Fold 1 started at Tue Dec 17 00:59:04 2019\n",
      "Fold 2 started at Tue Dec 17 00:59:04 2019\n",
      "Fold 3 started at Tue Dec 17 00:59:04 2019\n",
      "Fold 4 started at Tue Dec 17 00:59:04 2019\n",
      "Fold 5 started at Tue Dec 17 00:59:04 2019\n",
      "Fold 6 started at Tue Dec 17 00:59:05 2019\n",
      "Fold 7 started at Tue Dec 17 00:59:05 2019\n",
      "Fold 8 started at Tue Dec 17 00:59:05 2019\n",
      "Fold 9 started at Tue Dec 17 00:59:05 2019\n",
      "CV mean score: 2.5757, std: 0.1819.\n"
     ]
    }
   ],
   "source": [
    "model = linear_model.RidgeCV(alphas=(0.01, 0.1, 1.0, 10.0, 100.0), scoring='neg_mean_squared_error', cv=folds)\n",
    "oof_rcv_stack  = train_model(train_stack.values, y, params=None, model_type='sklearn', model=model)"
   ]
  },
  {
   "cell_type": "markdown",
   "metadata": {},
   "source": [
    "#### 去掉svr的结果"
   ]
  },
  {
   "cell_type": "code",
   "execution_count": 36,
   "metadata": {},
   "outputs": [],
   "source": [
    "#构建第二层训练矩阵\n",
    "train_stack = np.vstack([oof_lgb, oof_xgb, oof_cat, oof_lgb_1, oof_lgb_2,oof_rfr]).transpose()\n",
    "train_stack = pd.DataFrame(train_stack, columns=['lgb', 'xgb', 'cat', 'lgb_1', 'lgb_2','rfr'])"
   ]
  },
  {
   "cell_type": "markdown",
   "metadata": {},
   "source": [
    "##### lgb作为第二层融合模型"
   ]
  },
  {
   "cell_type": "code",
   "execution_count": 37,
   "metadata": {},
   "outputs": [
    {
     "name": "stdout",
     "output_type": "stream",
     "text": [
      "Fold 0 started at Tue Dec 17 00:59:05 2019\n",
      "Training until validation scores don't improve for 200 rounds.\n",
      "Early stopping, best iteration is:\n",
      "[560]\ttraining's rmse: 2.42728\tvalid_1's rmse: 2.64822\n",
      "Fold 1 started at Tue Dec 17 00:59:05 2019\n",
      "Training until validation scores don't improve for 200 rounds.\n",
      "Early stopping, best iteration is:\n",
      "[571]\ttraining's rmse: 2.4388\tvalid_1's rmse: 2.60476\n",
      "Fold 2 started at Tue Dec 17 00:59:06 2019\n",
      "Training until validation scores don't improve for 200 rounds.\n",
      "Early stopping, best iteration is:\n",
      "[755]\ttraining's rmse: 2.36539\tvalid_1's rmse: 2.501\n",
      "Fold 3 started at Tue Dec 17 00:59:07 2019\n",
      "Training until validation scores don't improve for 200 rounds.\n",
      "Early stopping, best iteration is:\n",
      "[513]\ttraining's rmse: 2.306\tvalid_1's rmse: 2.47258\n",
      "Fold 4 started at Tue Dec 17 00:59:07 2019\n",
      "Training until validation scores don't improve for 200 rounds.\n",
      "Early stopping, best iteration is:\n",
      "[532]\ttraining's rmse: 2.431\tvalid_1's rmse: 2.58871\n",
      "Fold 5 started at Tue Dec 17 00:59:08 2019\n",
      "Training until validation scores don't improve for 200 rounds.\n",
      "Early stopping, best iteration is:\n",
      "[528]\ttraining's rmse: 2.35888\tvalid_1's rmse: 2.5698\n",
      "Fold 6 started at Tue Dec 17 00:59:08 2019\n",
      "Training until validation scores don't improve for 200 rounds.\n",
      "Early stopping, best iteration is:\n",
      "[600]\ttraining's rmse: 2.28933\tvalid_1's rmse: 3.1143\n",
      "Fold 7 started at Tue Dec 17 00:59:09 2019\n",
      "Training until validation scores don't improve for 200 rounds.\n",
      "Early stopping, best iteration is:\n",
      "[485]\ttraining's rmse: 2.52048\tvalid_1's rmse: 2.46721\n",
      "Fold 8 started at Tue Dec 17 00:59:09 2019\n",
      "Training until validation scores don't improve for 200 rounds.\n",
      "Early stopping, best iteration is:\n",
      "[503]\ttraining's rmse: 2.3113\tvalid_1's rmse: 2.40187\n",
      "Fold 9 started at Tue Dec 17 00:59:10 2019\n",
      "Training until validation scores don't improve for 200 rounds.\n",
      "Early stopping, best iteration is:\n",
      "[629]\ttraining's rmse: 2.41828\tvalid_1's rmse: 2.76346\n",
      "CV mean score: 2.6132, std: 0.1939.\n"
     ]
    },
    {
     "data": {
      "image/png": "[encoded data removed]",
      "text/plain": [
       "<Figure size 1152x864 with 1 Axes>"
      ]
     },
     "metadata": {
      "needs_background": "light"
     },
     "output_type": "display_data"
    }
   ],
   "source": [
    "params = {'num_leaves': 30,\n",
    "         'min_data_in_leaf': 20,\n",
    "         'objective': 'regression',\n",
    "         'max_depth': 9,\n",
    "         'learning_rate': 0.01,\n",
    "         \"boosting\": \"gbdt\",\n",
    "         \"feature_fraction\": 0.9,\n",
    "         \"bagging_freq\": 1,\n",
    "         \"bagging_fraction\": 0.9,\n",
    "         \"bagging_seed\": 11,\n",
    "         \"metric\": 'rmse',\n",
    "         \"lambda_l1\": 0.2,\n",
    "         \"verbosity\": -1}\n",
    "oof_lgb_stack,  _ = train_model(train_stack, y, params=params, model_type='lgb', plot_feature_importance=True)"
   ]
  },
  {
   "cell_type": "code",
   "execution_count": 38,
   "metadata": {},
   "outputs": [
    {
     "name": "stdout",
     "output_type": "stream",
     "text": [
      "Fold 0 started at Tue Dec 17 00:59:11 2019\n",
      "Training until validation scores don't improve for 200 rounds.\n",
      "Early stopping, best iteration is:\n",
      "[526]\ttraining's rmse: 2.54036\tvalid_1's rmse: 2.66626\n",
      "Fold 1 started at Tue Dec 17 00:59:11 2019\n",
      "Training until validation scores don't improve for 200 rounds.\n",
      "Early stopping, best iteration is:\n",
      "[767]\ttraining's rmse: 2.54151\tvalid_1's rmse: 2.60904\n",
      "Fold 2 started at Tue Dec 17 00:59:11 2019\n",
      "Training until validation scores don't improve for 200 rounds.\n",
      "Early stopping, best iteration is:\n",
      "[651]\ttraining's rmse: 2.52345\tvalid_1's rmse: 2.49464\n",
      "Fold 3 started at Tue Dec 17 00:59:12 2019\n",
      "Training until validation scores don't improve for 200 rounds.\n",
      "Early stopping, best iteration is:\n",
      "[496]\ttraining's rmse: 2.43865\tvalid_1's rmse: 2.43147\n",
      "Fold 4 started at Tue Dec 17 00:59:12 2019\n",
      "Training until validation scores don't improve for 200 rounds.\n",
      "Early stopping, best iteration is:\n",
      "[611]\ttraining's rmse: 2.545\tvalid_1's rmse: 2.5661\n",
      "Fold 5 started at Tue Dec 17 00:59:12 2019\n",
      "Training until validation scores don't improve for 200 rounds.\n",
      "Early stopping, best iteration is:\n",
      "[533]\ttraining's rmse: 2.48764\tvalid_1's rmse: 2.54847\n",
      "Fold 6 started at Tue Dec 17 00:59:12 2019\n",
      "Training until validation scores don't improve for 200 rounds.\n",
      "[1000]\ttraining's rmse: 2.40382\tvalid_1's rmse: 3.08199\n",
      "Early stopping, best iteration is:\n",
      "[890]\ttraining's rmse: 2.41133\tvalid_1's rmse: 3.08135\n",
      "Fold 7 started at Tue Dec 17 00:59:13 2019\n",
      "Training until validation scores don't improve for 200 rounds.\n",
      "Early stopping, best iteration is:\n",
      "[591]\ttraining's rmse: 2.61674\tvalid_1's rmse: 2.43804\n",
      "Fold 8 started at Tue Dec 17 00:59:13 2019\n",
      "Training until validation scores don't improve for 200 rounds.\n",
      "Early stopping, best iteration is:\n",
      "[548]\ttraining's rmse: 2.43295\tvalid_1's rmse: 2.37782\n",
      "Fold 9 started at Tue Dec 17 00:59:13 2019\n",
      "Training until validation scores don't improve for 200 rounds.\n",
      "Early stopping, best iteration is:\n",
      "[562]\ttraining's rmse: 2.56025\tvalid_1's rmse: 2.75479\n",
      "CV mean score: 2.5968, std: 0.1947.\n"
     ]
    },
    {
     "data": {
      "image/png": "[encoded data removed]",
      "text/plain": [
       "<Figure size 1152x864 with 1 Axes>"
      ]
     },
     "metadata": {
      "needs_background": "light"
     },
     "output_type": "display_data"
    }
   ],
   "source": [
    "#lgb 作为meta\n",
    "params = {'num_leaves': 8,\n",
    "         'min_data_in_leaf': 20,\n",
    "         'objective': 'regression',\n",
    "         'max_depth': 3,\n",
    "         'learning_rate': 0.01,\n",
    "         \"boosting\": \"gbdt\",\n",
    "         \"bagging_seed\": 11,\n",
    "         \"metric\": 'rmse',\n",
    "         \"lambda_l1\": 0.2,\n",
    "         \"verbosity\": -1}\n",
    "oof_lgb_stack,  _ = train_model(train_stack, y, params=params, model_type='lgb', plot_feature_importance=True)"
   ]
  },
  {
   "cell_type": "markdown",
   "metadata": {},
   "source": [
    "##### catboost作为第二层融合模型"
   ]
  },
  {
   "cell_type": "code",
   "execution_count": 39,
   "metadata": {},
   "outputs": [
    {
     "name": "stdout",
     "output_type": "stream",
     "text": [
      "Fold 0 started at Tue Dec 17 00:59:14 2019\n",
      "Fold 1 started at Tue Dec 17 00:59:38 2019\n",
      "Fold 2 started at Tue Dec 17 00:59:53 2019\n",
      "Fold 3 started at Tue Dec 17 01:00:11 2019\n",
      "Fold 4 started at Tue Dec 17 01:00:20 2019\n",
      "Fold 5 started at Tue Dec 17 01:00:28 2019\n",
      "Fold 6 started at Tue Dec 17 01:00:51 2019\n",
      "Fold 7 started at Tue Dec 17 01:01:04 2019\n",
      "Fold 8 started at Tue Dec 17 01:01:12 2019\n",
      "Fold 9 started at Tue Dec 17 01:01:20 2019\n",
      "CV mean score: 2.5849, std: 0.2098.\n"
     ]
    }
   ],
   "source": [
    "cat_params = {'learning_rate': 0.002,\n",
    "              'depth': 5,\n",
    "              'l2_leaf_reg': 10,\n",
    "              # 'bootstrap_type': 'Bernoulli',\n",
    "              'colsample_bylevel': 0.8,\n",
    "              'bagging_temperature': 0.2,\n",
    "              #'metric_period': 500,\n",
    "              'od_type': 'Iter',\n",
    "              'od_wait': 100,\n",
    "              'random_seed': 11,\n",
    "              'allow_writing_files': False}\n",
    "oof_cat_stack = train_model(train_stack,y,params = cat_params,model_type = 'cat')"
   ]
  },
  {
   "cell_type": "markdown",
   "metadata": {},
   "source": [
    "##### randomforest作为第二层融合模型"
   ]
  },
  {
   "cell_type": "code",
   "execution_count": 40,
   "metadata": {},
   "outputs": [
    {
     "name": "stdout",
     "output_type": "stream",
     "text": [
      "Fold 0 started at Tue Dec 17 01:01:42 2019\n",
      "Fold 1 started at Tue Dec 17 01:01:42 2019\n",
      "Fold 2 started at Tue Dec 17 01:01:42 2019\n",
      "Fold 3 started at Tue Dec 17 01:01:43 2019\n",
      "Fold 4 started at Tue Dec 17 01:01:43 2019\n",
      "Fold 5 started at Tue Dec 17 01:01:43 2019\n",
      "Fold 6 started at Tue Dec 17 01:01:43 2019\n",
      "Fold 7 started at Tue Dec 17 01:01:44 2019\n",
      "Fold 8 started at Tue Dec 17 01:01:44 2019\n",
      "Fold 9 started at Tue Dec 17 01:01:44 2019\n",
      "CV mean score: 2.5755, std: 0.1082.\n"
     ]
    }
   ],
   "source": [
    "rfrmodel = RandomForestRegressor(\n",
    "    n_estimators = 20, \n",
    "    min_samples_leaf = 4, \n",
    "    max_features = 0.3, \n",
    "    n_jobs = -1,\n",
    "    oob_score = True, \n",
    "    random_state = 42\n",
    ")\n",
    "\n",
    "oof_rfr_stack = train_model(train_stack,y,model_type = 'rfr',params = None,model = rfrmodel)"
   ]
  },
  {
   "cell_type": "markdown",
   "metadata": {},
   "source": [
    "##### xgboost作为第二层融合模型"
   ]
  },
  {
   "cell_type": "code",
   "execution_count": 41,
   "metadata": {},
   "outputs": [
    {
     "name": "stdout",
     "output_type": "stream",
     "text": [
      "Fold 0 started at Tue Dec 17 01:01:44 2019\n",
      "[0]\ttrain-rmse:84.5847\tvalid_data-rmse:84.9418\n",
      "Multiple eval metrics have been passed: 'valid_data-rmse' will be used for early stopping.\n",
      "\n",
      "Will train until valid_data-rmse hasn't improved in 200 rounds.\n",
      "[500]\ttrain-rmse:2.30568\tvalid_data-rmse:2.71312\n",
      "[1000]\ttrain-rmse:1.99233\tvalid_data-rmse:2.63498\n",
      "Stopping. Best iteration:\n",
      "[833]\ttrain-rmse:2.07491\tvalid_data-rmse:2.63049\n",
      "\n",
      "Fold 1 started at Tue Dec 17 01:01:49 2019\n",
      "[0]\ttrain-rmse:84.5436\tvalid_data-rmse:85.3075\n",
      "Multiple eval metrics have been passed: 'valid_data-rmse' will be used for early stopping.\n",
      "\n",
      "Will train until valid_data-rmse hasn't improved in 200 rounds.\n",
      "[500]\ttrain-rmse:2.30651\tvalid_data-rmse:2.66259\n",
      "Stopping. Best iteration:\n",
      "[679]\ttrain-rmse:2.14946\tvalid_data-rmse:2.58678\n",
      "\n",
      "Fold 2 started at Tue Dec 17 01:01:53 2019\n",
      "[0]\ttrain-rmse:84.5267\tvalid_data-rmse:85.4586\n",
      "Multiple eval metrics have been passed: 'valid_data-rmse' will be used for early stopping.\n",
      "\n",
      "Will train until valid_data-rmse hasn't improved in 200 rounds.\n",
      "[500]\ttrain-rmse:2.31686\tvalid_data-rmse:2.5399\n",
      "Stopping. Best iteration:\n",
      "[674]\ttrain-rmse:2.16734\tvalid_data-rmse:2.48195\n",
      "\n",
      "Fold 3 started at Tue Dec 17 01:01:57 2019\n",
      "[0]\ttrain-rmse:84.6725\tvalid_data-rmse:84.1485\n",
      "Multiple eval metrics have been passed: 'valid_data-rmse' will be used for early stopping.\n",
      "\n",
      "Will train until valid_data-rmse hasn't improved in 200 rounds.\n",
      "[500]\ttrain-rmse:2.31699\tvalid_data-rmse:2.50065\n",
      "Stopping. Best iteration:\n",
      "[639]\ttrain-rmse:2.18511\tvalid_data-rmse:2.45855\n",
      "\n",
      "Fold 4 started at Tue Dec 17 01:02:01 2019\n",
      "[0]\ttrain-rmse:84.657\tvalid_data-rmse:84.292\n",
      "Multiple eval metrics have been passed: 'valid_data-rmse' will be used for early stopping.\n",
      "\n",
      "Will train until valid_data-rmse hasn't improved in 200 rounds.\n",
      "[500]\ttrain-rmse:2.31374\tvalid_data-rmse:2.60005\n",
      "Stopping. Best iteration:\n",
      "[699]\ttrain-rmse:2.14987\tvalid_data-rmse:2.54713\n",
      "\n",
      "Fold 5 started at Tue Dec 17 01:02:05 2019\n",
      "[0]\ttrain-rmse:84.5708\tvalid_data-rmse:85.0677\n",
      "Multiple eval metrics have been passed: 'valid_data-rmse' will be used for early stopping.\n",
      "\n",
      "Will train until valid_data-rmse hasn't improved in 200 rounds.\n",
      "[500]\ttrain-rmse:2.3073\tvalid_data-rmse:2.60857\n",
      "Stopping. Best iteration:\n",
      "[691]\ttrain-rmse:2.14599\tvalid_data-rmse:2.53638\n",
      "\n",
      "Fold 6 started at Tue Dec 17 01:02:09 2019\n",
      "[0]\ttrain-rmse:84.6481\tvalid_data-rmse:84.3693\n",
      "Multiple eval metrics have been passed: 'valid_data-rmse' will be used for early stopping.\n",
      "\n",
      "Will train until valid_data-rmse hasn't improved in 200 rounds.\n",
      "[500]\ttrain-rmse:2.31986\tvalid_data-rmse:3.11673\n",
      "[1000]\ttrain-rmse:2.00641\tvalid_data-rmse:3.06499\n",
      "Stopping. Best iteration:\n",
      "[817]\ttrain-rmse:2.0974\tvalid_data-rmse:3.06219\n",
      "\n",
      "Fold 7 started at Tue Dec 17 01:02:13 2019\n",
      "[0]\ttrain-rmse:84.6183\tvalid_data-rmse:84.6328\n",
      "Multiple eval metrics have been passed: 'valid_data-rmse' will be used for early stopping.\n",
      "\n",
      "Will train until valid_data-rmse hasn't improved in 200 rounds.\n",
      "[500]\ttrain-rmse:2.31913\tvalid_data-rmse:2.42504\n",
      "Stopping. Best iteration:\n",
      "[600]\ttrain-rmse:2.21109\tvalid_data-rmse:2.39529\n",
      "\n",
      "Fold 8 started at Tue Dec 17 01:02:17 2019\n",
      "[0]\ttrain-rmse:84.7206\tvalid_data-rmse:83.7149\n",
      "Multiple eval metrics have been passed: 'valid_data-rmse' will be used for early stopping.\n",
      "\n",
      "Will train until valid_data-rmse hasn't improved in 200 rounds.\n",
      "[500]\ttrain-rmse:2.32274\tvalid_data-rmse:2.4834\n",
      "Stopping. Best iteration:\n",
      "[652]\ttrain-rmse:2.18114\tvalid_data-rmse:2.42648\n",
      "\n",
      "Fold 9 started at Tue Dec 17 01:02:21 2019\n",
      "[0]\ttrain-rmse:84.661\tvalid_data-rmse:84.2525\n",
      "Multiple eval metrics have been passed: 'valid_data-rmse' will be used for early stopping.\n",
      "\n",
      "Will train until valid_data-rmse hasn't improved in 200 rounds.\n",
      "[500]\ttrain-rmse:2.2916\tvalid_data-rmse:2.67048\n",
      "Stopping. Best iteration:\n",
      "[541]\ttrain-rmse:2.23225\tvalid_data-rmse:2.65886\n",
      "\n",
      "CV mean score: 2.5784, std: 0.1806.\n"
     ]
    }
   ],
   "source": [
    "xgb_params = {'eta': 0.01,\n",
    "              'objective': 'reg:linear',\n",
    "              'max_depth': 7,\n",
    "              'subsample': 0.8,\n",
    "              'colsample_bytree': 0.8,\n",
    "              'eval_metric': 'rmse',\n",
    "              'seed': 11,\n",
    "              'silent': True}\n",
    "oof_xgb_stack = train_model(train_stack,  y, params=xgb_params, model_type='xgb', plot_feature_importance=False)"
   ]
  },
  {
   "cell_type": "markdown",
   "metadata": {},
   "source": [
    "##### svr 作为第二层融合模型"
   ]
  },
  {
   "cell_type": "code",
   "execution_count": 42,
   "metadata": {},
   "outputs": [
    {
     "name": "stdout",
     "output_type": "stream",
     "text": [
      "Fold 0 started at Tue Dec 17 01:02:24 2019\n",
      "Fold 1 started at Tue Dec 17 01:02:26 2019\n",
      "Fold 2 started at Tue Dec 17 01:02:28 2019\n",
      "Fold 3 started at Tue Dec 17 01:02:29 2019\n",
      "Fold 4 started at Tue Dec 17 01:02:31 2019\n",
      "Fold 5 started at Tue Dec 17 01:02:33 2019\n",
      "Fold 6 started at Tue Dec 17 01:02:35 2019\n",
      "Fold 7 started at Tue Dec 17 01:02:37 2019\n",
      "Fold 8 started at Tue Dec 17 01:02:39 2019\n",
      "Fold 9 started at Tue Dec 17 01:02:40 2019\n",
      "CV mean score: 6.7078, std: 0.8717.\n"
     ]
    }
   ],
   "source": [
    "param_grid = {\n",
    "    \"kernel\": (\"linear\", 'rbf'), \n",
    "    \"C\": np.logspace(-3, 3, 7), \n",
    "    \"gamma\": np.logspace(-3, 3, 7)}\n",
    "\n",
    "svr = GridSearchCV(SVR(), param_grid=param_grid,n_jobs = -1,scoring='neg_mean_squared_error')\n",
    "svr = SVR()\n",
    "oof_svr_stack = train_model(train_stack, y, params=None,model_type='svr',model = svr)"
   ]
  },
  {
   "cell_type": "markdown",
   "metadata": {},
   "source": [
    "##### 岭回归做第二层融合模型"
   ]
  },
  {
   "cell_type": "code",
   "execution_count": 43,
   "metadata": {},
   "outputs": [
    {
     "name": "stdout",
     "output_type": "stream",
     "text": [
      "Fold 0 started at Tue Dec 17 01:02:42 2019\n",
      "Fold 1 started at Tue Dec 17 01:02:42 2019\n",
      "Fold 2 started at Tue Dec 17 01:02:42 2019\n",
      "Fold 3 started at Tue Dec 17 01:02:42 2019\n",
      "Fold 4 started at Tue Dec 17 01:02:42 2019\n",
      "Fold 5 started at Tue Dec 17 01:02:43 2019\n",
      "Fold 6 started at Tue Dec 17 01:02:43 2019\n",
      "Fold 7 started at Tue Dec 17 01:02:43 2019\n",
      "Fold 8 started at Tue Dec 17 01:02:43 2019\n",
      "Fold 9 started at Tue Dec 17 01:02:43 2019\n",
      "CV mean score: 2.5505, std: 0.1760.\n"
     ]
    }
   ],
   "source": [
    "model = linear_model.RidgeCV(alphas=(0.01, 0.1, 1.0, 10.0, 100.0), scoring='neg_mean_squared_error', cv=folds)\n",
    "oof_rcv_stack  = train_model(train_stack.values, y, params=None, model_type='sklearn', model=model)"
   ]
  },
  {
   "cell_type": "markdown",
   "metadata": {},
   "source": [
    "#### 去掉rfr的结果"
   ]
  },
  {
   "cell_type": "code",
   "execution_count": 44,
   "metadata": {},
   "outputs": [],
   "source": [
    "#构建第二层训练矩阵\n",
    "train_stack = np.vstack([oof_lgb, oof_xgb, oof_cat, oof_lgb_1, oof_lgb_2,oof_svr]).transpose()\n",
    "train_stack = pd.DataFrame(train_stack, columns=['lgb', 'xgb', 'cat', 'lgb_1', 'lgb_2','svr'])"
   ]
  },
  {
   "cell_type": "markdown",
   "metadata": {},
   "source": [
    "##### lgb作为第二层融合模型"
   ]
  },
  {
   "cell_type": "code",
   "execution_count": 45,
   "metadata": {},
   "outputs": [
    {
     "name": "stdout",
     "output_type": "stream",
     "text": [
      "Fold 0 started at Tue Dec 17 01:02:43 2019\n",
      "Training until validation scores don't improve for 200 rounds.\n",
      "Early stopping, best iteration is:\n",
      "[520]\ttraining's rmse: 2.45416\tvalid_1's rmse: 2.67822\n",
      "Fold 1 started at Tue Dec 17 01:02:43 2019\n",
      "Training until validation scores don't improve for 200 rounds.\n",
      "Early stopping, best iteration is:\n",
      "[509]\ttraining's rmse: 2.47938\tvalid_1's rmse: 2.6318\n",
      "Fold 2 started at Tue Dec 17 01:02:44 2019\n",
      "Training until validation scores don't improve for 200 rounds.\n",
      "Early stopping, best iteration is:\n",
      "[502]\ttraining's rmse: 2.43169\tvalid_1's rmse: 2.48975\n",
      "Fold 3 started at Tue Dec 17 01:02:44 2019\n",
      "Training until validation scores don't improve for 200 rounds.\n",
      "Early stopping, best iteration is:\n",
      "[512]\ttraining's rmse: 2.4282\tvalid_1's rmse: 2.44578\n",
      "Fold 4 started at Tue Dec 17 01:02:45 2019\n",
      "Training until validation scores don't improve for 200 rounds.\n",
      "Early stopping, best iteration is:\n",
      "[562]\ttraining's rmse: 2.43585\tvalid_1's rmse: 2.56877\n",
      "Fold 5 started at Tue Dec 17 01:02:45 2019\n",
      "Training until validation scores don't improve for 200 rounds.\n",
      "Early stopping, best iteration is:\n",
      "[471]\ttraining's rmse: 2.39259\tvalid_1's rmse: 2.56012\n",
      "Fold 6 started at Tue Dec 17 01:02:46 2019\n",
      "Training until validation scores don't improve for 200 rounds.\n",
      "Early stopping, best iteration is:\n",
      "[581]\ttraining's rmse: 2.3107\tvalid_1's rmse: 3.10432\n",
      "Fold 7 started at Tue Dec 17 01:02:46 2019\n",
      "Training until validation scores don't improve for 200 rounds.\n",
      "Early stopping, best iteration is:\n",
      "[544]\ttraining's rmse: 2.54045\tvalid_1's rmse: 2.41036\n",
      "Fold 8 started at Tue Dec 17 01:02:47 2019\n",
      "Training until validation scores don't improve for 200 rounds.\n",
      "Early stopping, best iteration is:\n",
      "[529]\ttraining's rmse: 2.32191\tvalid_1's rmse: 2.41436\n",
      "Fold 9 started at Tue Dec 17 01:02:47 2019\n",
      "Training until validation scores don't improve for 200 rounds.\n",
      "Early stopping, best iteration is:\n",
      "[705]\ttraining's rmse: 2.44725\tvalid_1's rmse: 2.95387\n",
      "CV mean score: 2.6257, std: 0.2211.\n"
     ]
    },
    {
     "data": {
      "image/png": "[encoded data removed]",
      "text/plain": [
       "<Figure size 1152x864 with 1 Axes>"
      ]
     },
     "metadata": {
      "needs_background": "light"
     },
     "output_type": "display_data"
    }
   ],
   "source": [
    "params = {'num_leaves': 30,\n",
    "         'min_data_in_leaf': 20,\n",
    "         'objective': 'regression',\n",
    "         'max_depth': 9,\n",
    "         'learning_rate': 0.01,\n",
    "         \"boosting\": \"gbdt\",\n",
    "         \"feature_fraction\": 0.9,\n",
    "         \"bagging_freq\": 1,\n",
    "         \"bagging_fraction\": 0.9,\n",
    "         \"bagging_seed\": 11,\n",
    "         \"metric\": 'rmse',\n",
    "         \"lambda_l1\": 0.2,\n",
    "         \"verbosity\": -1}\n",
    "oof_lgb_stack,  _ = train_model(train_stack, y, params=params, model_type='lgb', plot_feature_importance=True)"
   ]
  },
  {
   "cell_type": "code",
   "execution_count": 46,
   "metadata": {},
   "outputs": [
    {
     "name": "stdout",
     "output_type": "stream",
     "text": [
      "Fold 0 started at Tue Dec 17 01:02:49 2019\n",
      "Training until validation scores don't improve for 200 rounds.\n",
      "[1000]\ttraining's rmse: 2.52804\tvalid_1's rmse: 2.66729\n",
      "Early stopping, best iteration is:\n",
      "[889]\ttraining's rmse: 2.53502\tvalid_1's rmse: 2.66357\n",
      "Fold 1 started at Tue Dec 17 01:02:49 2019\n",
      "Training until validation scores don't improve for 200 rounds.\n",
      "[1000]\ttraining's rmse: 2.54897\tvalid_1's rmse: 2.64892\n",
      "Early stopping, best iteration is:\n",
      "[838]\ttraining's rmse: 2.55755\tvalid_1's rmse: 2.64352\n",
      "Fold 2 started at Tue Dec 17 01:02:49 2019\n",
      "Training until validation scores don't improve for 200 rounds.\n",
      "Early stopping, best iteration is:\n",
      "[643]\ttraining's rmse: 2.53122\tvalid_1's rmse: 2.48478\n",
      "Fold 3 started at Tue Dec 17 01:02:50 2019\n",
      "Training until validation scores don't improve for 200 rounds.\n",
      "[1000]\ttraining's rmse: 2.51197\tvalid_1's rmse: 2.42315\n",
      "Early stopping, best iteration is:\n",
      "[944]\ttraining's rmse: 2.51436\tvalid_1's rmse: 2.42253\n",
      "Fold 4 started at Tue Dec 17 01:02:50 2019\n",
      "Training until validation scores don't improve for 200 rounds.\n",
      "Early stopping, best iteration is:\n",
      "[630]\ttraining's rmse: 2.54907\tvalid_1's rmse: 2.54048\n",
      "Fold 5 started at Tue Dec 17 01:02:50 2019\n",
      "Training until validation scores don't improve for 200 rounds.\n",
      "Early stopping, best iteration is:\n",
      "[597]\ttraining's rmse: 2.48557\tvalid_1's rmse: 2.53562\n",
      "Fold 6 started at Tue Dec 17 01:02:50 2019\n",
      "Training until validation scores don't improve for 200 rounds.\n",
      "[1000]\ttraining's rmse: 2.41132\tvalid_1's rmse: 3.09806\n",
      "Early stopping, best iteration is:\n",
      "[898]\ttraining's rmse: 2.41607\tvalid_1's rmse: 3.09723\n",
      "Fold 7 started at Tue Dec 17 01:02:51 2019\n",
      "Training until validation scores don't improve for 200 rounds.\n",
      "[1000]\ttraining's rmse: 2.6267\tvalid_1's rmse: 2.40167\n",
      "Early stopping, best iteration is:\n",
      "[972]\ttraining's rmse: 2.62885\tvalid_1's rmse: 2.40115\n",
      "Fold 8 started at Tue Dec 17 01:02:51 2019\n",
      "Training until validation scores don't improve for 200 rounds.\n",
      "Early stopping, best iteration is:\n",
      "[498]\ttraining's rmse: 2.44014\tvalid_1's rmse: 2.39063\n",
      "Fold 9 started at Tue Dec 17 01:02:51 2019\n",
      "Training until validation scores don't improve for 200 rounds.\n",
      "Early stopping, best iteration is:\n",
      "[570]\ttraining's rmse: 2.59193\tvalid_1's rmse: 2.97772\n",
      "CV mean score: 2.6157, std: 0.2300.\n"
     ]
    },
    {
     "data": {
      "image/png": "[encoded data removed]",
      "text/plain": [
       "<Figure size 1152x864 with 1 Axes>"
      ]
     },
     "metadata": {
      "needs_background": "light"
     },
     "output_type": "display_data"
    }
   ],
   "source": [
    "#lgb 作为meta\n",
    "params = {'num_leaves': 8,\n",
    "         'min_data_in_leaf': 20,\n",
    "         'objective': 'regression',\n",
    "         'max_depth': 3,\n",
    "         'learning_rate': 0.01,\n",
    "         \"boosting\": \"gbdt\",\n",
    "         \"bagging_seed\": 11,\n",
    "         \"metric\": 'rmse',\n",
    "         \"lambda_l1\": 0.2,\n",
    "         \"verbosity\": -1}\n",
    "oof_lgb_stack,  _ = train_model(train_stack, y, params=params, model_type='lgb', plot_feature_importance=True)"
   ]
  },
  {
   "cell_type": "markdown",
   "metadata": {},
   "source": [
    "##### catboost作为第二层融合模型"
   ]
  },
  {
   "cell_type": "code",
   "execution_count": 47,
   "metadata": {},
   "outputs": [
    {
     "name": "stdout",
     "output_type": "stream",
     "text": [
      "Fold 0 started at Tue Dec 17 01:02:52 2019\n",
      "Fold 1 started at Tue Dec 17 01:03:08 2019\n",
      "Fold 2 started at Tue Dec 17 01:03:20 2019\n",
      "Fold 3 started at Tue Dec 17 01:03:36 2019\n",
      "Fold 4 started at Tue Dec 17 01:03:41 2019\n",
      "Fold 5 started at Tue Dec 17 01:03:51 2019\n",
      "Fold 6 started at Tue Dec 17 01:04:17 2019\n",
      "Fold 7 started at Tue Dec 17 01:04:22 2019\n",
      "Fold 8 started at Tue Dec 17 01:04:32 2019\n",
      "Fold 9 started at Tue Dec 17 01:04:36 2019\n",
      "CV mean score: 2.6032, std: 0.2173.\n"
     ]
    }
   ],
   "source": [
    "cat_params = {'learning_rate': 0.002,\n",
    "              'depth': 5,\n",
    "              'l2_leaf_reg': 10,\n",
    "              # 'bootstrap_type': 'Bernoulli',\n",
    "              'colsample_bylevel': 0.8,\n",
    "              'bagging_temperature': 0.2,\n",
    "              #'metric_period': 500,\n",
    "              'od_type': 'Iter',\n",
    "              'od_wait': 100,\n",
    "              'random_seed': 11,\n",
    "              'allow_writing_files': False}\n",
    "oof_cat_stack = train_model(train_stack,y,params = cat_params,model_type = 'cat')"
   ]
  },
  {
   "cell_type": "markdown",
   "metadata": {},
   "source": [
    "##### randomforest作为第二层融合模型"
   ]
  },
  {
   "cell_type": "code",
   "execution_count": 48,
   "metadata": {},
   "outputs": [
    {
     "name": "stdout",
     "output_type": "stream",
     "text": [
      "Fold 0 started at Tue Dec 17 01:04:59 2019\n",
      "Fold 1 started at Tue Dec 17 01:04:59 2019\n",
      "Fold 2 started at Tue Dec 17 01:04:59 2019\n",
      "Fold 3 started at Tue Dec 17 01:04:59 2019\n",
      "Fold 4 started at Tue Dec 17 01:05:00 2019\n",
      "Fold 5 started at Tue Dec 17 01:05:00 2019\n",
      "Fold 6 started at Tue Dec 17 01:05:00 2019\n",
      "Fold 7 started at Tue Dec 17 01:05:01 2019\n",
      "Fold 8 started at Tue Dec 17 01:05:01 2019\n",
      "Fold 9 started at Tue Dec 17 01:05:01 2019\n",
      "CV mean score: 2.5858, std: 0.1266.\n"
     ]
    }
   ],
   "source": [
    "rfrmodel = RandomForestRegressor(\n",
    "    n_estimators = 20, \n",
    "    min_samples_leaf = 4, \n",
    "    max_features = 0.3, \n",
    "    n_jobs = -1,\n",
    "    oob_score = True, \n",
    "    random_state = 42\n",
    ")\n",
    "\n",
    "oof_rfr_stack = train_model(train_stack,y,model_type = 'rfr',params = None,model = rfrmodel)"
   ]
  },
  {
   "cell_type": "markdown",
   "metadata": {},
   "source": [
    "##### xgboost作为第二层融合模型"
   ]
  },
  {
   "cell_type": "code",
   "execution_count": 49,
   "metadata": {},
   "outputs": [
    {
     "name": "stdout",
     "output_type": "stream",
     "text": [
      "Fold 0 started at Tue Dec 17 01:05:01 2019\n",
      "[0]\ttrain-rmse:84.5847\tvalid_data-rmse:84.9418\n",
      "Multiple eval metrics have been passed: 'valid_data-rmse' will be used for early stopping.\n",
      "\n",
      "Will train until valid_data-rmse hasn't improved in 200 rounds.\n",
      "[500]\ttrain-rmse:2.31903\tvalid_data-rmse:2.7049\n",
      "Stopping. Best iteration:\n",
      "[781]\ttrain-rmse:2.1079\tvalid_data-rmse:2.63764\n",
      "\n",
      "Fold 1 started at Tue Dec 17 01:05:06 2019\n",
      "[0]\ttrain-rmse:84.5436\tvalid_data-rmse:85.3075\n",
      "Multiple eval metrics have been passed: 'valid_data-rmse' will be used for early stopping.\n",
      "\n",
      "Will train until valid_data-rmse hasn't improved in 200 rounds.\n",
      "[500]\ttrain-rmse:2.32031\tvalid_data-rmse:2.64453\n",
      "Stopping. Best iteration:\n",
      "[708]\ttrain-rmse:2.15158\tvalid_data-rmse:2.57459\n",
      "\n",
      "Fold 2 started at Tue Dec 17 01:05:10 2019\n",
      "[0]\ttrain-rmse:84.5267\tvalid_data-rmse:85.4586\n",
      "Multiple eval metrics have been passed: 'valid_data-rmse' will be used for early stopping.\n",
      "\n",
      "Will train until valid_data-rmse hasn't improved in 200 rounds.\n",
      "[500]\ttrain-rmse:2.32741\tvalid_data-rmse:2.51996\n",
      "Stopping. Best iteration:\n",
      "[628]\ttrain-rmse:2.20457\tvalid_data-rmse:2.4742\n",
      "\n",
      "Fold 3 started at Tue Dec 17 01:05:13 2019\n",
      "[0]\ttrain-rmse:84.6725\tvalid_data-rmse:84.1485\n",
      "Multiple eval metrics have been passed: 'valid_data-rmse' will be used for early stopping.\n",
      "\n",
      "Will train until valid_data-rmse hasn't improved in 200 rounds.\n",
      "[500]\ttrain-rmse:2.33048\tvalid_data-rmse:2.5038\n",
      "Stopping. Best iteration:\n",
      "[668]\ttrain-rmse:2.17907\tvalid_data-rmse:2.45857\n",
      "\n",
      "Fold 4 started at Tue Dec 17 01:05:17 2019\n",
      "[0]\ttrain-rmse:84.657\tvalid_data-rmse:84.292\n",
      "Multiple eval metrics have been passed: 'valid_data-rmse' will be used for early stopping.\n",
      "\n",
      "Will train until valid_data-rmse hasn't improved in 200 rounds.\n",
      "[500]\ttrain-rmse:2.32756\tvalid_data-rmse:2.5979\n",
      "Stopping. Best iteration:\n",
      "[689]\ttrain-rmse:2.1699\tvalid_data-rmse:2.54019\n",
      "\n",
      "Fold 5 started at Tue Dec 17 01:05:21 2019\n",
      "[0]\ttrain-rmse:84.5708\tvalid_data-rmse:85.0677\n",
      "Multiple eval metrics have been passed: 'valid_data-rmse' will be used for early stopping.\n",
      "\n",
      "Will train until valid_data-rmse hasn't improved in 200 rounds.\n",
      "[500]\ttrain-rmse:2.32325\tvalid_data-rmse:2.55877\n",
      "Stopping. Best iteration:\n",
      "[689]\ttrain-rmse:2.16164\tvalid_data-rmse:2.49663\n",
      "\n",
      "Fold 6 started at Tue Dec 17 01:05:25 2019\n",
      "[0]\ttrain-rmse:84.6481\tvalid_data-rmse:84.3693\n",
      "Multiple eval metrics have been passed: 'valid_data-rmse' will be used for early stopping.\n",
      "\n",
      "Will train until valid_data-rmse hasn't improved in 200 rounds.\n",
      "[500]\ttrain-rmse:2.33277\tvalid_data-rmse:3.15424\n",
      "Stopping. Best iteration:\n",
      "[692]\ttrain-rmse:2.16772\tvalid_data-rmse:3.11108\n",
      "\n",
      "Fold 7 started at Tue Dec 17 01:05:28 2019\n",
      "[0]\ttrain-rmse:84.6183\tvalid_data-rmse:84.6328\n",
      "Multiple eval metrics have been passed: 'valid_data-rmse' will be used for early stopping.\n",
      "\n",
      "Will train until valid_data-rmse hasn't improved in 200 rounds.\n",
      "[500]\ttrain-rmse:2.33598\tvalid_data-rmse:2.42606\n",
      "Stopping. Best iteration:\n",
      "[669]\ttrain-rmse:2.19078\tvalid_data-rmse:2.38484\n",
      "\n",
      "Fold 8 started at Tue Dec 17 01:05:32 2019\n",
      "[0]\ttrain-rmse:84.7206\tvalid_data-rmse:83.7149\n",
      "Multiple eval metrics have been passed: 'valid_data-rmse' will be used for early stopping.\n",
      "\n",
      "Will train until valid_data-rmse hasn't improved in 200 rounds.\n",
      "[500]\ttrain-rmse:2.32983\tvalid_data-rmse:2.52099\n",
      "Stopping. Best iteration:\n",
      "[651]\ttrain-rmse:2.18873\tvalid_data-rmse:2.45335\n",
      "\n",
      "Fold 9 started at Tue Dec 17 01:05:36 2019\n",
      "[0]\ttrain-rmse:84.661\tvalid_data-rmse:84.2525\n",
      "Multiple eval metrics have been passed: 'valid_data-rmse' will be used for early stopping.\n",
      "\n",
      "Will train until valid_data-rmse hasn't improved in 200 rounds.\n",
      "[500]\ttrain-rmse:2.30916\tvalid_data-rmse:2.66704\n",
      "Stopping. Best iteration:\n",
      "[577]\ttrain-rmse:2.22047\tvalid_data-rmse:2.65014\n",
      "\n",
      "CV mean score: 2.5781, std: 0.1946.\n"
     ]
    }
   ],
   "source": [
    "xgb_params = {'eta': 0.01,\n",
    "              'objective': 'reg:linear',\n",
    "              'max_depth': 7,\n",
    "              'subsample': 0.8,\n",
    "              'colsample_bytree': 0.8,\n",
    "              'eval_metric': 'rmse',\n",
    "              'seed': 11,\n",
    "              'silent': True}\n",
    "oof_xgb_stack = train_model(train_stack,  y, params=xgb_params, model_type='xgb', plot_feature_importance=False)"
   ]
  },
  {
   "cell_type": "markdown",
   "metadata": {},
   "source": [
    "##### svr 作为第二层融合模型"
   ]
  },
  {
   "cell_type": "code",
   "execution_count": 50,
   "metadata": {},
   "outputs": [
    {
     "name": "stdout",
     "output_type": "stream",
     "text": [
      "Fold 0 started at Tue Dec 17 01:05:39 2019\n",
      "Fold 1 started at Tue Dec 17 01:05:41 2019\n",
      "Fold 2 started at Tue Dec 17 01:05:43 2019\n",
      "Fold 3 started at Tue Dec 17 01:05:45 2019\n",
      "Fold 4 started at Tue Dec 17 01:05:46 2019\n",
      "Fold 5 started at Tue Dec 17 01:05:48 2019\n",
      "Fold 6 started at Tue Dec 17 01:05:50 2019\n",
      "Fold 7 started at Tue Dec 17 01:05:52 2019\n",
      "Fold 8 started at Tue Dec 17 01:05:53 2019\n",
      "Fold 9 started at Tue Dec 17 01:05:55 2019\n",
      "CV mean score: 5.5316, std: 1.0252.\n"
     ]
    }
   ],
   "source": [
    "param_grid = {\n",
    "    \"kernel\": (\"linear\", 'rbf'), \n",
    "    \"C\": np.logspace(-3, 3, 7), \n",
    "    \"gamma\": np.logspace(-3, 3, 7)}\n",
    "\n",
    "svr = GridSearchCV(SVR(), param_grid=param_grid,n_jobs = -1,scoring='neg_mean_squared_error')\n",
    "svr = SVR()\n",
    "oof_svr_stack = train_model(train_stack, y, params=None,model_type='svr',model = svr)"
   ]
  },
  {
   "cell_type": "markdown",
   "metadata": {},
   "source": [
    "##### 岭回归做第二层融合模型"
   ]
  },
  {
   "cell_type": "code",
   "execution_count": 51,
   "metadata": {},
   "outputs": [
    {
     "name": "stdout",
     "output_type": "stream",
     "text": [
      "Fold 0 started at Tue Dec 17 01:05:57 2019\n",
      "Fold 1 started at Tue Dec 17 01:05:57 2019\n",
      "Fold 2 started at Tue Dec 17 01:05:57 2019\n",
      "Fold 3 started at Tue Dec 17 01:05:57 2019\n",
      "Fold 4 started at Tue Dec 17 01:05:57 2019\n",
      "Fold 5 started at Tue Dec 17 01:05:58 2019\n",
      "Fold 6 started at Tue Dec 17 01:05:58 2019\n",
      "Fold 7 started at Tue Dec 17 01:05:58 2019\n",
      "Fold 8 started at Tue Dec 17 01:05:58 2019\n",
      "Fold 9 started at Tue Dec 17 01:05:58 2019\n",
      "CV mean score: 2.5515, std: 0.1704.\n"
     ]
    }
   ],
   "source": [
    "model = linear_model.RidgeCV(alphas=(0.01, 0.1, 1.0, 10.0, 100.0), scoring='neg_mean_squared_error', cv=folds)\n",
    "oof_rcv_stack  = train_model(train_stack.values, y, params=None, model_type='sklearn', model=model)"
   ]
  },
  {
   "cell_type": "markdown",
   "metadata": {},
   "source": [
    "#### 去掉catboost的结果"
   ]
  },
  {
   "cell_type": "code",
   "execution_count": 52,
   "metadata": {},
   "outputs": [],
   "source": [
    "#构建第二层训练矩阵\n",
    "train_stack = np.vstack([oof_lgb, oof_xgb, oof_lgb_1, oof_lgb_2,oof_svr,oof_rfr]).transpose()\n",
    "train_stack = pd.DataFrame(train_stack, columns=['lgb', 'xgb',  'lgb_1', 'lgb_2','svr','rfr'])"
   ]
  },
  {
   "cell_type": "markdown",
   "metadata": {},
   "source": [
    "##### lgb作为第二层融合模型"
   ]
  },
  {
   "cell_type": "code",
   "execution_count": 53,
   "metadata": {},
   "outputs": [
    {
     "name": "stdout",
     "output_type": "stream",
     "text": [
      "Fold 0 started at Tue Dec 17 01:05:58 2019\n",
      "Training until validation scores don't improve for 200 rounds.\n",
      "Early stopping, best iteration is:\n",
      "[513]\ttraining's rmse: 2.44997\tvalid_1's rmse: 2.68453\n",
      "Fold 1 started at Tue Dec 17 01:05:58 2019\n",
      "Training until validation scores don't improve for 200 rounds.\n",
      "Early stopping, best iteration is:\n",
      "[534]\ttraining's rmse: 2.45939\tvalid_1's rmse: 2.62782\n",
      "Fold 2 started at Tue Dec 17 01:05:59 2019\n",
      "Training until validation scores don't improve for 200 rounds.\n",
      "Early stopping, best iteration is:\n",
      "[502]\ttraining's rmse: 2.42703\tvalid_1's rmse: 2.52599\n",
      "Fold 3 started at Tue Dec 17 01:06:00 2019\n",
      "Training until validation scores don't improve for 200 rounds.\n",
      "Early stopping, best iteration is:\n",
      "[536]\ttraining's rmse: 2.30757\tvalid_1's rmse: 2.46363\n",
      "Fold 4 started at Tue Dec 17 01:06:00 2019\n",
      "Training until validation scores don't improve for 200 rounds.\n",
      "[1000]\ttraining's rmse: 2.37478\tvalid_1's rmse: 2.66639\n",
      "Early stopping, best iteration is:\n",
      "[1532]\ttraining's rmse: 2.27859\tvalid_1's rmse: 2.65712\n",
      "Fold 5 started at Tue Dec 17 01:06:01 2019\n",
      "Training until validation scores don't improve for 200 rounds.\n",
      "Early stopping, best iteration is:\n",
      "[505]\ttraining's rmse: 2.3783\tvalid_1's rmse: 2.55043\n",
      "Fold 6 started at Tue Dec 17 01:06:02 2019\n",
      "Training until validation scores don't improve for 200 rounds.\n",
      "Early stopping, best iteration is:\n",
      "[571]\ttraining's rmse: 2.30572\tvalid_1's rmse: 3.16939\n",
      "Fold 7 started at Tue Dec 17 01:06:02 2019\n",
      "Training until validation scores don't improve for 200 rounds.\n",
      "Early stopping, best iteration is:\n",
      "[580]\ttraining's rmse: 2.51179\tvalid_1's rmse: 2.4348\n",
      "Fold 8 started at Tue Dec 17 01:06:03 2019\n",
      "Training until validation scores don't improve for 200 rounds.\n",
      "Early stopping, best iteration is:\n",
      "[615]\ttraining's rmse: 2.35203\tvalid_1's rmse: 2.39264\n",
      "Fold 9 started at Tue Dec 17 01:06:03 2019\n",
      "Training until validation scores don't improve for 200 rounds.\n",
      "[1000]\ttraining's rmse: 2.33775\tvalid_1's rmse: 2.72762\n",
      "Early stopping, best iteration is:\n",
      "[907]\ttraining's rmse: 2.35951\tvalid_1's rmse: 2.72385\n",
      "CV mean score: 2.6230, std: 0.2103.\n"
     ]
    },
    {
     "data": {
      "image/png": "[encoded data removed]",
      "text/plain": [
       "<Figure size 1152x864 with 1 Axes>"
      ]
     },
     "metadata": {
      "needs_background": "light"
     },
     "output_type": "display_data"
    }
   ],
   "source": [
    "params = {'num_leaves': 30,\n",
    "         'min_data_in_leaf': 20,\n",
    "         'objective': 'regression',\n",
    "         'max_depth': 9,\n",
    "         'learning_rate': 0.01,\n",
    "         \"boosting\": \"gbdt\",\n",
    "         \"feature_fraction\": 0.9,\n",
    "         \"bagging_freq\": 1,\n",
    "         \"bagging_fraction\": 0.9,\n",
    "         \"bagging_seed\": 11,\n",
    "         \"metric\": 'rmse',\n",
    "         \"lambda_l1\": 0.2,\n",
    "         \"verbosity\": -1}\n",
    "oof_lgb_stack,  _ = train_model(train_stack, y, params=params, model_type='lgb', plot_feature_importance=True)"
   ]
  },
  {
   "cell_type": "code",
   "execution_count": 54,
   "metadata": {},
   "outputs": [
    {
     "name": "stdout",
     "output_type": "stream",
     "text": [
      "Fold 0 started at Tue Dec 17 01:06:05 2019\n",
      "Training until validation scores don't improve for 200 rounds.\n",
      "Early stopping, best iteration is:\n",
      "[757]\ttraining's rmse: 2.5466\tvalid_1's rmse: 2.67654\n",
      "Fold 1 started at Tue Dec 17 01:06:05 2019\n",
      "Training until validation scores don't improve for 200 rounds.\n",
      "Early stopping, best iteration is:\n",
      "[749]\ttraining's rmse: 2.56614\tvalid_1's rmse: 2.63215\n",
      "Fold 2 started at Tue Dec 17 01:06:05 2019\n",
      "Training until validation scores don't improve for 200 rounds.\n",
      "Early stopping, best iteration is:\n",
      "[664]\ttraining's rmse: 2.53837\tvalid_1's rmse: 2.49976\n",
      "Fold 3 started at Tue Dec 17 01:06:05 2019\n",
      "Training until validation scores don't improve for 200 rounds.\n",
      "Early stopping, best iteration is:\n",
      "[505]\ttraining's rmse: 2.44702\tvalid_1's rmse: 2.42288\n",
      "Fold 4 started at Tue Dec 17 01:06:06 2019\n",
      "Training until validation scores don't improve for 200 rounds.\n",
      "[1000]\ttraining's rmse: 2.57512\tvalid_1's rmse: 2.65015\n",
      "Early stopping, best iteration is:\n",
      "[992]\ttraining's rmse: 2.57586\tvalid_1's rmse: 2.6498\n",
      "Fold 5 started at Tue Dec 17 01:06:06 2019\n",
      "Training until validation scores don't improve for 200 rounds.\n",
      "Early stopping, best iteration is:\n",
      "[722]\ttraining's rmse: 2.49358\tvalid_1's rmse: 2.52109\n",
      "Fold 6 started at Tue Dec 17 01:06:06 2019\n",
      "Training until validation scores don't improve for 200 rounds.\n",
      "Early stopping, best iteration is:\n",
      "[736]\ttraining's rmse: 2.43093\tvalid_1's rmse: 3.19139\n",
      "Fold 7 started at Tue Dec 17 01:06:07 2019\n",
      "Training until validation scores don't improve for 200 rounds.\n",
      "[1000]\ttraining's rmse: 2.60839\tvalid_1's rmse: 2.41601\n",
      "Early stopping, best iteration is:\n",
      "[1052]\ttraining's rmse: 2.60485\tvalid_1's rmse: 2.41341\n",
      "Fold 8 started at Tue Dec 17 01:06:07 2019\n",
      "Training until validation scores don't improve for 200 rounds.\n",
      "Early stopping, best iteration is:\n",
      "[539]\ttraining's rmse: 2.46901\tvalid_1's rmse: 2.3843\n",
      "Fold 9 started at Tue Dec 17 01:06:07 2019\n",
      "Training until validation scores don't improve for 200 rounds.\n",
      "[1000]\ttraining's rmse: 2.54251\tvalid_1's rmse: 2.72166\n",
      "Early stopping, best iteration is:\n",
      "[810]\ttraining's rmse: 2.55568\tvalid_1's rmse: 2.71729\n",
      "CV mean score: 2.6109, std: 0.2238.\n"
     ]
    },
    {
     "data": {
      "image/png": "[encoded data removed]",
      "text/plain": [
       "<Figure size 1152x864 with 1 Axes>"
      ]
     },
     "metadata": {
      "needs_background": "light"
     },
     "output_type": "display_data"
    }
   ],
   "source": [
    "#lgb 作为meta\n",
    "params = {'num_leaves': 8,\n",
    "         'min_data_in_leaf': 20,\n",
    "         'objective': 'regression',\n",
    "         'max_depth': 3,\n",
    "         'learning_rate': 0.01,\n",
    "         \"boosting\": \"gbdt\",\n",
    "         \"bagging_seed\": 11,\n",
    "         \"metric\": 'rmse',\n",
    "         \"lambda_l1\": 0.2,\n",
    "         \"verbosity\": -1}\n",
    "oof_lgb_stack,  _ = train_model(train_stack, y, params=params, model_type='lgb', plot_feature_importance=True)"
   ]
  },
  {
   "cell_type": "markdown",
   "metadata": {},
   "source": [
    "##### catboost作为第二层融合模型"
   ]
  },
  {
   "cell_type": "code",
   "execution_count": 55,
   "metadata": {},
   "outputs": [
    {
     "name": "stdout",
     "output_type": "stream",
     "text": [
      "Fold 0 started at Tue Dec 17 01:06:08 2019\n",
      "Fold 1 started at Tue Dec 17 01:06:23 2019\n",
      "Fold 2 started at Tue Dec 17 01:06:32 2019\n",
      "Fold 3 started at Tue Dec 17 01:06:57 2019\n",
      "Fold 4 started at Tue Dec 17 01:07:02 2019\n",
      "Fold 5 started at Tue Dec 17 01:07:17 2019\n",
      "Fold 6 started at Tue Dec 17 01:07:40 2019\n",
      "Fold 7 started at Tue Dec 17 01:07:48 2019\n",
      "Fold 8 started at Tue Dec 17 01:08:01 2019\n",
      "Fold 9 started at Tue Dec 17 01:08:12 2019\n",
      "CV mean score: 2.5974, std: 0.2172.\n"
     ]
    }
   ],
   "source": [
    "cat_params = {'learning_rate': 0.002,\n",
    "              'depth': 5,\n",
    "              'l2_leaf_reg': 10,\n",
    "              # 'bootstrap_type': 'Bernoulli',\n",
    "              'colsample_bylevel': 0.8,\n",
    "              'bagging_temperature': 0.2,\n",
    "              #'metric_period': 500,\n",
    "              'od_type': 'Iter',\n",
    "              'od_wait': 100,\n",
    "              'random_seed': 11,\n",
    "              'allow_writing_files': False}\n",
    "oof_cat_stack = train_model(train_stack,y,params = cat_params,model_type = 'cat')"
   ]
  },
  {
   "cell_type": "markdown",
   "metadata": {},
   "source": [
    "##### randomforest作为第二层融合模型"
   ]
  },
  {
   "cell_type": "code",
   "execution_count": 56,
   "metadata": {},
   "outputs": [
    {
     "name": "stdout",
     "output_type": "stream",
     "text": [
      "Fold 0 started at Tue Dec 17 01:08:46 2019\n",
      "Fold 1 started at Tue Dec 17 01:08:46 2019\n",
      "Fold 2 started at Tue Dec 17 01:08:47 2019\n",
      "Fold 3 started at Tue Dec 17 01:08:47 2019\n",
      "Fold 4 started at Tue Dec 17 01:08:47 2019\n",
      "Fold 5 started at Tue Dec 17 01:08:47 2019\n",
      "Fold 6 started at Tue Dec 17 01:08:48 2019\n",
      "Fold 7 started at Tue Dec 17 01:08:48 2019\n",
      "Fold 8 started at Tue Dec 17 01:08:48 2019\n",
      "Fold 9 started at Tue Dec 17 01:08:48 2019\n",
      "CV mean score: 2.6160, std: 0.1966.\n"
     ]
    }
   ],
   "source": [
    "rfrmodel = RandomForestRegressor(\n",
    "    n_estimators = 20, \n",
    "    min_samples_leaf = 4, \n",
    "    max_features = 0.3, \n",
    "    n_jobs = -1,\n",
    "    oob_score = True, \n",
    "    random_state = 42\n",
    ")\n",
    "\n",
    "oof_rfr_stack = train_model(train_stack,y,model_type = 'rfr',params = None,model = rfrmodel)"
   ]
  },
  {
   "cell_type": "markdown",
   "metadata": {},
   "source": [
    "##### xgboost作为第二层融合模型"
   ]
  },
  {
   "cell_type": "code",
   "execution_count": 57,
   "metadata": {},
   "outputs": [
    {
     "name": "stdout",
     "output_type": "stream",
     "text": [
      "Fold 0 started at Tue Dec 17 01:08:49 2019\n",
      "[0]\ttrain-rmse:84.5848\tvalid_data-rmse:84.9419\n",
      "Multiple eval metrics have been passed: 'valid_data-rmse' will be used for early stopping.\n",
      "\n",
      "Will train until valid_data-rmse hasn't improved in 200 rounds.\n",
      "[500]\ttrain-rmse:2.30951\tvalid_data-rmse:2.7169\n",
      "Stopping. Best iteration:\n",
      "[686]\ttrain-rmse:2.14898\tvalid_data-rmse:2.64825\n",
      "\n",
      "Fold 1 started at Tue Dec 17 01:08:53 2019\n",
      "[0]\ttrain-rmse:84.5437\tvalid_data-rmse:85.3079\n",
      "Multiple eval metrics have been passed: 'valid_data-rmse' will be used for early stopping.\n",
      "\n",
      "Will train until valid_data-rmse hasn't improved in 200 rounds.\n",
      "[500]\ttrain-rmse:2.31492\tvalid_data-rmse:2.6425\n",
      "Stopping. Best iteration:\n",
      "[730]\ttrain-rmse:2.12507\tvalid_data-rmse:2.57342\n",
      "\n",
      "Fold 2 started at Tue Dec 17 01:08:58 2019\n",
      "[0]\ttrain-rmse:84.5269\tvalid_data-rmse:85.4585\n",
      "Multiple eval metrics have been passed: 'valid_data-rmse' will be used for early stopping.\n",
      "\n",
      "Will train until valid_data-rmse hasn't improved in 200 rounds.\n",
      "[500]\ttrain-rmse:2.32376\tvalid_data-rmse:2.52243\n",
      "Stopping. Best iteration:\n",
      "[628]\ttrain-rmse:2.19597\tvalid_data-rmse:2.47768\n",
      "\n",
      "Fold 3 started at Tue Dec 17 01:09:01 2019\n",
      "[0]\ttrain-rmse:84.6725\tvalid_data-rmse:84.1484\n",
      "Multiple eval metrics have been passed: 'valid_data-rmse' will be used for early stopping.\n",
      "\n",
      "Will train until valid_data-rmse hasn't improved in 200 rounds.\n",
      "[500]\ttrain-rmse:2.32526\tvalid_data-rmse:2.49493\n",
      "Stopping. Best iteration:\n",
      "[644]\ttrain-rmse:2.18806\tvalid_data-rmse:2.45033\n",
      "\n",
      "Fold 4 started at Tue Dec 17 01:09:06 2019\n",
      "[0]\ttrain-rmse:84.657\tvalid_data-rmse:84.292\n",
      "Multiple eval metrics have been passed: 'valid_data-rmse' will be used for early stopping.\n",
      "\n",
      "Will train until valid_data-rmse hasn't improved in 200 rounds.\n",
      "[500]\ttrain-rmse:2.32006\tvalid_data-rmse:2.61903\n",
      "Stopping. Best iteration:\n",
      "[647]\ttrain-rmse:2.1804\tvalid_data-rmse:2.56423\n",
      "\n",
      "Fold 5 started at Tue Dec 17 01:09:10 2019\n",
      "[0]\ttrain-rmse:84.5708\tvalid_data-rmse:85.0677\n",
      "Multiple eval metrics have been passed: 'valid_data-rmse' will be used for early stopping.\n",
      "\n",
      "Will train until valid_data-rmse hasn't improved in 200 rounds.\n",
      "[500]\ttrain-rmse:2.3215\tvalid_data-rmse:2.62269\n",
      "Stopping. Best iteration:\n",
      "[669]\ttrain-rmse:2.16743\tvalid_data-rmse:2.5597\n",
      "\n",
      "Fold 6 started at Tue Dec 17 01:09:14 2019\n",
      "[0]\ttrain-rmse:84.6479\tvalid_data-rmse:84.3695\n",
      "Multiple eval metrics have been passed: 'valid_data-rmse' will be used for early stopping.\n",
      "\n",
      "Will train until valid_data-rmse hasn't improved in 200 rounds.\n",
      "[500]\ttrain-rmse:2.33\tvalid_data-rmse:3.2285\n",
      "Stopping. Best iteration:\n",
      "[732]\ttrain-rmse:2.14071\tvalid_data-rmse:3.18165\n",
      "\n",
      "Fold 7 started at Tue Dec 17 01:09:18 2019\n",
      "[0]\ttrain-rmse:84.6183\tvalid_data-rmse:84.6328\n",
      "Multiple eval metrics have been passed: 'valid_data-rmse' will be used for early stopping.\n",
      "\n",
      "Will train until valid_data-rmse hasn't improved in 200 rounds.\n",
      "[500]\ttrain-rmse:2.33132\tvalid_data-rmse:2.44645\n",
      "Stopping. Best iteration:\n",
      "[624]\ttrain-rmse:2.20931\tvalid_data-rmse:2.40713\n",
      "\n",
      "Fold 8 started at Tue Dec 17 01:09:22 2019\n",
      "[0]\ttrain-rmse:84.7206\tvalid_data-rmse:83.7149\n",
      "Multiple eval metrics have been passed: 'valid_data-rmse' will be used for early stopping.\n",
      "\n",
      "Will train until valid_data-rmse hasn't improved in 200 rounds.\n",
      "[500]\ttrain-rmse:2.33188\tvalid_data-rmse:2.49321\n",
      "[1000]\ttrain-rmse:1.99534\tvalid_data-rmse:2.4172\n",
      "Stopping. Best iteration:\n",
      "[810]\ttrain-rmse:2.09547\tvalid_data-rmse:2.41099\n",
      "\n",
      "Fold 9 started at Tue Dec 17 01:09:27 2019\n",
      "[0]\ttrain-rmse:84.661\tvalid_data-rmse:84.2527\n",
      "Multiple eval metrics have been passed: 'valid_data-rmse' will be used for early stopping.\n",
      "\n",
      "Will train until valid_data-rmse hasn't improved in 200 rounds.\n",
      "[500]\ttrain-rmse:2.30632\tvalid_data-rmse:2.668\n",
      "Stopping. Best iteration:\n",
      "[548]\ttrain-rmse:2.24056\tvalid_data-rmse:2.65212\n",
      "\n",
      "CV mean score: 2.5925, std: 0.2137.\n"
     ]
    }
   ],
   "source": [
    "xgb_params = {'eta': 0.01,\n",
    "              'objective': 'reg:linear',\n",
    "              'max_depth': 7,\n",
    "              'subsample': 0.8,\n",
    "              'colsample_bytree': 0.8,\n",
    "              'eval_metric': 'rmse',\n",
    "              'seed': 11,\n",
    "              'silent': True}\n",
    "oof_xgb_stack = train_model(train_stack,  y, params=xgb_params, model_type='xgb', plot_feature_importance=False)"
   ]
  },
  {
   "cell_type": "markdown",
   "metadata": {},
   "source": [
    "##### svr 作为第二层融合模型"
   ]
  },
  {
   "cell_type": "code",
   "execution_count": 58,
   "metadata": {},
   "outputs": [
    {
     "name": "stdout",
     "output_type": "stream",
     "text": [
      "Fold 0 started at Tue Dec 17 01:09:31 2019\n",
      "Fold 1 started at Tue Dec 17 01:09:33 2019\n",
      "Fold 2 started at Tue Dec 17 01:09:35 2019\n",
      "Fold 3 started at Tue Dec 17 01:09:37 2019\n",
      "Fold 4 started at Tue Dec 17 01:09:39 2019\n",
      "Fold 5 started at Tue Dec 17 01:09:41 2019\n",
      "Fold 6 started at Tue Dec 17 01:09:43 2019\n",
      "Fold 7 started at Tue Dec 17 01:09:45 2019\n",
      "Fold 8 started at Tue Dec 17 01:09:47 2019\n",
      "Fold 9 started at Tue Dec 17 01:09:49 2019\n",
      "CV mean score: 4.9577, std: 0.7671.\n"
     ]
    }
   ],
   "source": [
    "param_grid = {\n",
    "    \"kernel\": (\"linear\", 'rbf'), \n",
    "    \"C\": np.logspace(-3, 3, 7), \n",
    "    \"gamma\": np.logspace(-3, 3, 7)}\n",
    "\n",
    "svr = GridSearchCV(SVR(), param_grid=param_grid,n_jobs = -1,scoring='neg_mean_squared_error')\n",
    "svr = SVR()\n",
    "oof_svr_stack = train_model(train_stack, y, params=None,model_type='svr',model = svr)"
   ]
  },
  {
   "cell_type": "markdown",
   "metadata": {},
   "source": [
    "##### 岭回归做第二层融合模型"
   ]
  },
  {
   "cell_type": "code",
   "execution_count": 59,
   "metadata": {},
   "outputs": [
    {
     "name": "stdout",
     "output_type": "stream",
     "text": [
      "Fold 0 started at Tue Dec 17 01:09:51 2019\n",
      "Fold 1 started at Tue Dec 17 01:09:51 2019\n",
      "Fold 2 started at Tue Dec 17 01:09:51 2019\n",
      "Fold 3 started at Tue Dec 17 01:09:51 2019\n",
      "Fold 4 started at Tue Dec 17 01:09:51 2019\n",
      "Fold 5 started at Tue Dec 17 01:09:51 2019\n",
      "Fold 6 started at Tue Dec 17 01:09:51 2019\n",
      "Fold 7 started at Tue Dec 17 01:09:51 2019\n",
      "Fold 8 started at Tue Dec 17 01:09:51 2019\n",
      "Fold 9 started at Tue Dec 17 01:09:51 2019\n",
      "CV mean score: 2.5650, std: 0.2105.\n"
     ]
    }
   ],
   "source": [
    "model = linear_model.RidgeCV(alphas=(0.01, 0.1, 1.0, 10.0, 100.0), scoring='neg_mean_squared_error', cv=folds)\n",
    "oof_rcv_stack  = train_model(train_stack.values, y, params=None, model_type='sklearn', model=model)"
   ]
  },
  {
   "cell_type": "markdown",
   "metadata": {},
   "source": [
    "#### 去掉xgb和lgb的结果"
   ]
  },
  {
   "cell_type": "code",
   "execution_count": 60,
   "metadata": {},
   "outputs": [],
   "source": [
    "#构建第二层训练矩阵\n",
    "train_stack = np.vstack([oof_cat, oof_svr,oof_rfr]).transpose()\n",
    "train_stack = pd.DataFrame(train_stack, columns=[ 'cat', 'svr','rfr'])"
   ]
  },
  {
   "cell_type": "markdown",
   "metadata": {},
   "source": [
    "##### lgb作为第二层融合模型"
   ]
  },
  {
   "cell_type": "code",
   "execution_count": 61,
   "metadata": {},
   "outputs": [
    {
     "name": "stdout",
     "output_type": "stream",
     "text": [
      "Fold 0 started at Tue Dec 17 01:09:52 2019\n",
      "Training until validation scores don't improve for 200 rounds.\n",
      "Early stopping, best iteration is:\n",
      "[578]\ttraining's rmse: 2.65391\tvalid_1's rmse: 2.99454\n",
      "Fold 1 started at Tue Dec 17 01:09:53 2019\n",
      "Training until validation scores don't improve for 200 rounds.\n",
      "[1000]\ttraining's rmse: 2.62315\tvalid_1's rmse: 2.83364\n",
      "[2000]\ttraining's rmse: 2.50408\tvalid_1's rmse: 2.79975\n",
      "Early stopping, best iteration is:\n",
      "[2263]\ttraining's rmse: 2.4814\tvalid_1's rmse: 2.79677\n",
      "Fold 2 started at Tue Dec 17 01:09:56 2019\n",
      "Training until validation scores don't improve for 200 rounds.\n",
      "Early stopping, best iteration is:\n",
      "[536]\ttraining's rmse: 2.70654\tvalid_1's rmse: 2.79058\n",
      "Fold 3 started at Tue Dec 17 01:09:57 2019\n",
      "Training until validation scores don't improve for 200 rounds.\n",
      "Early stopping, best iteration is:\n",
      "[506]\ttraining's rmse: 2.4901\tvalid_1's rmse: 2.53771\n",
      "Fold 4 started at Tue Dec 17 01:09:58 2019\n",
      "Training until validation scores don't improve for 200 rounds.\n",
      "Early stopping, best iteration is:\n",
      "[670]\ttraining's rmse: 2.60412\tvalid_1's rmse: 2.69388\n",
      "Fold 5 started at Tue Dec 17 01:09:59 2019\n",
      "Training until validation scores don't improve for 200 rounds.\n",
      "[1000]\ttraining's rmse: 2.67612\tvalid_1's rmse: 3.16027\n",
      "[2000]\ttraining's rmse: 2.57108\tvalid_1's rmse: 3.11982\n",
      "[3000]\ttraining's rmse: 2.50032\tvalid_1's rmse: 3.09732\n",
      "Early stopping, best iteration is:\n",
      "[3168]\ttraining's rmse: 2.49053\tvalid_1's rmse: 3.09458\n",
      "Fold 6 started at Tue Dec 17 01:10:39 2019\n",
      "Training until validation scores don't improve for 200 rounds.\n",
      "Early stopping, best iteration is:\n",
      "[490]\ttraining's rmse: 2.65097\tvalid_1's rmse: 3.12886\n",
      "Fold 7 started at Tue Dec 17 01:10:46 2019\n",
      "Training until validation scores don't improve for 200 rounds.\n",
      "Early stopping, best iteration is:\n",
      "[564]\ttraining's rmse: 2.71939\tvalid_1's rmse: 2.64918\n",
      "Fold 8 started at Tue Dec 17 01:10:54 2019\n",
      "Training until validation scores don't improve for 200 rounds.\n",
      "Early stopping, best iteration is:\n",
      "[538]\ttraining's rmse: 2.48501\tvalid_1's rmse: 2.50828\n",
      "Fold 9 started at Tue Dec 17 01:11:09 2019\n",
      "Training until validation scores don't improve for 200 rounds.\n",
      "Early stopping, best iteration is:\n",
      "[455]\ttraining's rmse: 2.66655\tvalid_1's rmse: 2.91892\n",
      "CV mean score: 2.8113, std: 0.2082.\n"
     ]
    },
    {
     "data": {
      "image/png": "[encoded data removed]",
      "text/plain": [
       "<Figure size 1152x864 with 1 Axes>"
      ]
     },
     "metadata": {
      "needs_background": "light"
     },
     "output_type": "display_data"
    }
   ],
   "source": [
    "params = {'num_leaves': 30,\n",
    "         'min_data_in_leaf': 20,\n",
    "         'objective': 'regression',\n",
    "         'max_depth': 9,\n",
    "         'learning_rate': 0.01,\n",
    "         \"boosting\": \"gbdt\",\n",
    "         \"feature_fraction\": 0.9,\n",
    "         \"bagging_freq\": 1,\n",
    "         \"bagging_fraction\": 0.9,\n",
    "         \"bagging_seed\": 11,\n",
    "         \"metric\": 'rmse',\n",
    "         \"lambda_l1\": 0.2,\n",
    "         \"verbosity\": -1}\n",
    "oof_lgb_stack,  _ = train_model(train_stack, y, params=params, model_type='lgb', plot_feature_importance=True)"
   ]
  },
  {
   "cell_type": "code",
   "execution_count": null,
   "metadata": {},
   "outputs": [
    {
     "name": "stdout",
     "output_type": "stream",
     "text": [
      "Fold 0 started at Tue Dec 17 01:11:25 2019\n",
      "Training until validation scores don't improve for 200 rounds.\n"
     ]
    }
   ],
   "source": [
    "#lgb 作为meta\n",
    "params = {'num_leaves': 8,\n",
    "         'min_data_in_leaf': 20,\n",
    "         'objective': 'regression',\n",
    "         'max_depth': 3,\n",
    "         'learning_rate': 0.01,\n",
    "         \"boosting\": \"gbdt\",\n",
    "         \"bagging_seed\": 11,\n",
    "         \"metric\": 'rmse',\n",
    "         \"lambda_l1\": 0.2,\n",
    "         \"verbosity\": -1}\n",
    "oof_lgb_stack,  _ = train_model(train_stack, y, params=params, model_type='lgb', plot_feature_importance=True)"
   ]
  },
  {
   "cell_type": "markdown",
   "metadata": {},
   "source": [
    "##### catboost作为第二层融合模型"
   ]
  },
  {
   "cell_type": "code",
   "execution_count": null,
   "metadata": {},
   "outputs": [],
   "source": [
    "cat_params = {'learning_rate': 0.002,\n",
    "              'depth': 5,\n",
    "              'l2_leaf_reg': 10,\n",
    "              # 'bootstrap_type': 'Bernoulli',\n",
    "              'colsample_bylevel': 0.8,\n",
    "              'bagging_temperature': 0.2,\n",
    "              #'metric_period': 500,\n",
    "              'od_type': 'Iter',\n",
    "              'od_wait': 100,\n",
    "              'random_seed': 11,\n",
    "              'allow_writing_files': False}\n",
    "oof_cat_stack = train_model(train_stack,y,params = cat_params,model_type = 'cat')"
   ]
  },
  {
   "cell_type": "markdown",
   "metadata": {},
   "source": [
    "##### randomforest作为第二层融合模型"
   ]
  },
  {
   "cell_type": "code",
   "execution_count": null,
   "metadata": {},
   "outputs": [],
   "source": [
    "rfrmodel = RandomForestRegressor(\n",
    "    n_estimators = 20, \n",
    "    min_samples_leaf = 4, \n",
    "    max_features = 0.3, \n",
    "    n_jobs = -1,\n",
    "    oob_score = True, \n",
    "    random_state = 42\n",
    ")\n",
    "\n",
    "oof_rfr_stack = train_model(train_stack,y,model_type = 'rfr',params = None,model = rfrmodel)"
   ]
  },
  {
   "cell_type": "markdown",
   "metadata": {},
   "source": [
    "##### xgboost作为第二层融合模型"
   ]
  },
  {
   "cell_type": "code",
   "execution_count": null,
   "metadata": {},
   "outputs": [],
   "source": [
    "xgb_params = {'eta': 0.01,\n",
    "              'objective': 'reg:linear',\n",
    "              'max_depth': 7,\n",
    "              'subsample': 0.8,\n",
    "              'colsample_bytree': 0.8,\n",
    "              'eval_metric': 'rmse',\n",
    "              'seed': 11,\n",
    "              'silent': True}\n",
    "oof_xgb_stack = train_model(train_stack,  y, params=xgb_params, model_type='xgb', plot_feature_importance=False)"
   ]
  },
  {
   "cell_type": "markdown",
   "metadata": {},
   "source": [
    "##### svr 作为第二层融合模型"
   ]
  },
  {
   "cell_type": "code",
   "execution_count": null,
   "metadata": {},
   "outputs": [],
   "source": [
    "param_grid = {\n",
    "    \"kernel\": (\"linear\", 'rbf'), \n",
    "    \"C\": np.logspace(-3, 3, 7), \n",
    "    \"gamma\": np.logspace(-3, 3, 7)}\n",
    "\n",
    "svr = GridSearchCV(SVR(), param_grid=param_grid,n_jobs = -1,scoring='neg_mean_squared_error')\n",
    "svr = SVR()\n",
    "oof_svr_stack = train_model(train_stack, y, params=None,model_type='svr',model = svr)"
   ]
  },
  {
   "cell_type": "markdown",
   "metadata": {},
   "source": [
    "##### 岭回归做第二层融合模型"
   ]
  },
  {
   "cell_type": "code",
   "execution_count": null,
   "metadata": {},
   "outputs": [],
   "source": [
    "model = linear_model.RidgeCV(alphas=(0.01, 0.1, 1.0, 10.0, 100.0), scoring='neg_mean_squared_error', cv=folds)\n",
    "oof_rcv_stack  = train_model(train_stack.values, y, params=None, model_type='sklearn', model=model)"
   ]
  },
  {
   "cell_type": "markdown",
   "metadata": {},
   "source": [
    "#### 去掉lgb和svr的结果"
   ]
  },
  {
   "cell_type": "code",
   "execution_count": null,
   "metadata": {},
   "outputs": [],
   "source": [
    "#构建第二层训练矩阵\n",
    "train_stack = np.vstack([oof_xgb, oof_cat, oof_rfr]).transpose()\n",
    "train_stack = pd.DataFrame(train_stack, columns=['xgb', 'cat','rfr'])"
   ]
  },
  {
   "cell_type": "markdown",
   "metadata": {},
   "source": [
    "##### lgb作为第二层融合模型"
   ]
  },
  {
   "cell_type": "code",
   "execution_count": null,
   "metadata": {},
   "outputs": [],
   "source": [
    "params = {'num_leaves': 30,\n",
    "         'min_data_in_leaf': 20,\n",
    "         'objective': 'regression',\n",
    "         'max_depth': 9,\n",
    "         'learning_rate': 0.01,\n",
    "         \"boosting\": \"gbdt\",\n",
    "         \"feature_fraction\": 0.9,\n",
    "         \"bagging_freq\": 1,\n",
    "         \"bagging_fraction\": 0.9,\n",
    "         \"bagging_seed\": 11,\n",
    "         \"metric\": 'rmse',\n",
    "         \"lambda_l1\": 0.2,\n",
    "         \"verbosity\": -1}\n",
    "oof_lgb_stack,  _ = train_model(train_stack, y, params=params, model_type='lgb', plot_feature_importance=True)"
   ]
  },
  {
   "cell_type": "code",
   "execution_count": null,
   "metadata": {},
   "outputs": [],
   "source": [
    "#lgb 作为meta\n",
    "params = {'num_leaves': 8,\n",
    "         'min_data_in_leaf': 20,\n",
    "         'objective': 'regression',\n",
    "         'max_depth': 3,\n",
    "         'learning_rate': 0.01,\n",
    "         \"boosting\": \"gbdt\",\n",
    "         \"bagging_seed\": 11,\n",
    "         \"metric\": 'rmse',\n",
    "         \"lambda_l1\": 0.2,\n",
    "         \"verbosity\": -1}\n",
    "oof_lgb_stack,  _ = train_model(train_stack, y, params=params, model_type='lgb', plot_feature_importance=True)"
   ]
  },
  {
   "cell_type": "markdown",
   "metadata": {},
   "source": [
    "##### catboost作为第二层融合模型"
   ]
  },
  {
   "cell_type": "code",
   "execution_count": null,
   "metadata": {},
   "outputs": [],
   "source": [
    "cat_params = {'learning_rate': 0.002,\n",
    "              'depth': 5,\n",
    "              'l2_leaf_reg': 10,\n",
    "              # 'bootstrap_type': 'Bernoulli',\n",
    "              'colsample_bylevel': 0.8,\n",
    "              'bagging_temperature': 0.2,\n",
    "              #'metric_period': 500,\n",
    "              'od_type': 'Iter',\n",
    "              'od_wait': 100,\n",
    "              'random_seed': 11,\n",
    "              'allow_writing_files': False}\n",
    "oof_cat_stack = train_model(train_stack,y,params = cat_params,model_type = 'cat')"
   ]
  },
  {
   "cell_type": "markdown",
   "metadata": {},
   "source": [
    "##### randomforest作为第二层融合模型"
   ]
  },
  {
   "cell_type": "code",
   "execution_count": null,
   "metadata": {},
   "outputs": [],
   "source": [
    "rfrmodel = RandomForestRegressor(\n",
    "    n_estimators = 20, \n",
    "    min_samples_leaf = 4, \n",
    "    max_features = 0.3, \n",
    "    n_jobs = -1,\n",
    "    oob_score = True, \n",
    "    random_state = 42\n",
    ")\n",
    "\n",
    "oof_rfr_stack = train_model(train_stack,y,model_type = 'rfr',params = None,model = rfrmodel)"
   ]
  },
  {
   "cell_type": "markdown",
   "metadata": {},
   "source": [
    "##### xgboost作为第二层融合模型"
   ]
  },
  {
   "cell_type": "code",
   "execution_count": null,
   "metadata": {},
   "outputs": [],
   "source": [
    "xgb_params = {'eta': 0.01,\n",
    "              'objective': 'reg:linear',\n",
    "              'max_depth': 7,\n",
    "              'subsample': 0.8,\n",
    "              'colsample_bytree': 0.8,\n",
    "              'eval_metric': 'rmse',\n",
    "              'seed': 11,\n",
    "              'silent': True}\n",
    "oof_xgb_stack = train_model(train_stack,  y, params=xgb_params, model_type='xgb', plot_feature_importance=False)"
   ]
  },
  {
   "cell_type": "markdown",
   "metadata": {},
   "source": [
    "##### svr 作为第二层融合模型"
   ]
  },
  {
   "cell_type": "code",
   "execution_count": null,
   "metadata": {},
   "outputs": [],
   "source": [
    "param_grid = {\n",
    "    \"kernel\": (\"linear\", 'rbf'), \n",
    "    \"C\": np.logspace(-3, 3, 7), \n",
    "    \"gamma\": np.logspace(-3, 3, 7)}\n",
    "\n",
    "svr = GridSearchCV(SVR(), param_grid=param_grid,n_jobs = -1,scoring='neg_mean_squared_error')\n",
    "svr = SVR()\n",
    "oof_svr_stack = train_model(train_stack, y, params=None,model_type='svr',model = svr)"
   ]
  },
  {
   "cell_type": "markdown",
   "metadata": {},
   "source": [
    "##### 岭回归做第二层融合模型"
   ]
  },
  {
   "cell_type": "code",
   "execution_count": null,
   "metadata": {},
   "outputs": [],
   "source": [
    "model = linear_model.RidgeCV(alphas=(0.01, 0.1, 1.0, 10.0, 100.0), scoring='neg_mean_squared_error', cv=folds)\n",
    "oof_rcv_stack  = train_model(train_stack.values, y, params=None, model_type='sklearn', model=model)"
   ]
  },
  {
   "cell_type": "markdown",
   "metadata": {},
   "source": [
    "#### 去掉lgb和rfr的结果"
   ]
  },
  {
   "cell_type": "code",
   "execution_count": null,
   "metadata": {},
   "outputs": [],
   "source": [
    "#构建第二层训练矩阵\n",
    "train_stack = np.vstack([oof_xgb, oof_cat, oof_svr]).transpose()\n",
    "train_stack = pd.DataFrame(train_stack, columns=['xgb', 'cat', 'svr'])"
   ]
  },
  {
   "cell_type": "markdown",
   "metadata": {},
   "source": [
    "##### lgb作为第二层融合模型"
   ]
  },
  {
   "cell_type": "code",
   "execution_count": null,
   "metadata": {},
   "outputs": [],
   "source": [
    "params = {'num_leaves': 30,\n",
    "         'min_data_in_leaf': 20,\n",
    "         'objective': 'regression',\n",
    "         'max_depth': 9,\n",
    "         'learning_rate': 0.01,\n",
    "         \"boosting\": \"gbdt\",\n",
    "         \"feature_fraction\": 0.9,\n",
    "         \"bagging_freq\": 1,\n",
    "         \"bagging_fraction\": 0.9,\n",
    "         \"bagging_seed\": 11,\n",
    "         \"metric\": 'rmse',\n",
    "         \"lambda_l1\": 0.2,\n",
    "         \"verbosity\": -1}\n",
    "oof_lgb_stack,  _ = train_model(train_stack, y, params=params, model_type='lgb', plot_feature_importance=True)"
   ]
  },
  {
   "cell_type": "code",
   "execution_count": null,
   "metadata": {},
   "outputs": [],
   "source": [
    "#lgb 作为meta\n",
    "params = {'num_leaves': 8,\n",
    "         'min_data_in_leaf': 20,\n",
    "         'objective': 'regression',\n",
    "         'max_depth': 3,\n",
    "         'learning_rate': 0.01,\n",
    "         \"boosting\": \"gbdt\",\n",
    "         \"bagging_seed\": 11,\n",
    "         \"metric\": 'rmse',\n",
    "         \"lambda_l1\": 0.2,\n",
    "         \"verbosity\": -1}\n",
    "oof_lgb_stack,  _ = train_model(train_stack, y, params=params, model_type='lgb', plot_feature_importance=True)"
   ]
  },
  {
   "cell_type": "markdown",
   "metadata": {},
   "source": [
    "##### catboost作为第二层融合模型"
   ]
  },
  {
   "cell_type": "code",
   "execution_count": null,
   "metadata": {},
   "outputs": [],
   "source": [
    "cat_params = {'learning_rate': 0.002,\n",
    "              'depth': 5,\n",
    "              'l2_leaf_reg': 10,\n",
    "              # 'bootstrap_type': 'Bernoulli',\n",
    "              'colsample_bylevel': 0.8,\n",
    "              'bagging_temperature': 0.2,\n",
    "              #'metric_period': 500,\n",
    "              'od_type': 'Iter',\n",
    "              'od_wait': 100,\n",
    "              'random_seed': 11,\n",
    "              'allow_writing_files': False}\n",
    "oof_cat_stack = train_model(train_stack,y,params = cat_params,model_type = 'cat')"
   ]
  },
  {
   "cell_type": "markdown",
   "metadata": {},
   "source": [
    "##### randomforest作为第二层融合模型"
   ]
  },
  {
   "cell_type": "code",
   "execution_count": null,
   "metadata": {},
   "outputs": [],
   "source": [
    "rfrmodel = RandomForestRegressor(\n",
    "    n_estimators = 20, \n",
    "    min_samples_leaf = 4, \n",
    "    max_features = 0.3, \n",
    "    n_jobs = -1,\n",
    "    oob_score = True, \n",
    "    random_state = 42\n",
    ")\n",
    "\n",
    "oof_rfr_stack = train_model(train_stack,y,model_type = 'rfr',params = None,model = rfrmodel)"
   ]
  },
  {
   "cell_type": "markdown",
   "metadata": {},
   "source": [
    "##### xgboost作为第二层融合模型"
   ]
  },
  {
   "cell_type": "code",
   "execution_count": null,
   "metadata": {},
   "outputs": [],
   "source": [
    "xgb_params = {'eta': 0.01,\n",
    "              'objective': 'reg:linear',\n",
    "              'max_depth': 7,\n",
    "              'subsample': 0.8,\n",
    "              'colsample_bytree': 0.8,\n",
    "              'eval_metric': 'rmse',\n",
    "              'seed': 11,\n",
    "              'silent': True}\n",
    "oof_xgb_stack = train_model(train_stack,  y, params=xgb_params, model_type='xgb', plot_feature_importance=False)"
   ]
  },
  {
   "cell_type": "markdown",
   "metadata": {},
   "source": [
    "##### svr 作为第二层融合模型"
   ]
  },
  {
   "cell_type": "code",
   "execution_count": null,
   "metadata": {},
   "outputs": [],
   "source": [
    "param_grid = {\n",
    "    \"kernel\": (\"linear\", 'rbf'), \n",
    "    \"C\": np.logspace(-3, 3, 7), \n",
    "    \"gamma\": np.logspace(-3, 3, 7)}\n",
    "\n",
    "svr = GridSearchCV(SVR(), param_grid=param_grid,n_jobs = -1,scoring='neg_mean_squared_error')\n",
    "svr = SVR()\n",
    "oof_svr_stack = train_model(train_stack, y, params=None,model_type='svr',model = svr)"
   ]
  },
  {
   "cell_type": "markdown",
   "metadata": {},
   "source": [
    "##### 岭回归做第二层融合模型"
   ]
  },
  {
   "cell_type": "code",
   "execution_count": null,
   "metadata": {},
   "outputs": [],
   "source": [
    "model = linear_model.RidgeCV(alphas=(0.01, 0.1, 1.0, 10.0, 100.0), scoring='neg_mean_squared_error', cv=folds)\n",
    "oof_rcv_stack  = train_model(train_stack.values, y, params=None, model_type='sklearn', model=model)"
   ]
  },
  {
   "cell_type": "markdown",
   "metadata": {},
   "source": [
    "#### 去掉lgb和cat的结果"
   ]
  },
  {
   "cell_type": "code",
   "execution_count": null,
   "metadata": {},
   "outputs": [],
   "source": [
    "#构建第二层训练矩阵\n",
    "train_stack = np.vstack([oof_xgb, oof_svr,oof_rfr]).transpose()\n",
    "train_stack = pd.DataFrame(train_stack, columns=[ 'xgb', 'svr','rfr'])"
   ]
  },
  {
   "cell_type": "markdown",
   "metadata": {},
   "source": [
    "##### lgb作为第二层融合模型"
   ]
  },
  {
   "cell_type": "code",
   "execution_count": null,
   "metadata": {},
   "outputs": [],
   "source": [
    "params = {'num_leaves': 30,\n",
    "         'min_data_in_leaf': 20,\n",
    "         'objective': 'regression',\n",
    "         'max_depth': 9,\n",
    "         'learning_rate': 0.01,\n",
    "         \"boosting\": \"gbdt\",\n",
    "         \"feature_fraction\": 0.9,\n",
    "         \"bagging_freq\": 1,\n",
    "         \"bagging_fraction\": 0.9,\n",
    "         \"bagging_seed\": 11,\n",
    "         \"metric\": 'rmse',\n",
    "         \"lambda_l1\": 0.2,\n",
    "         \"verbosity\": -1}\n",
    "oof_lgb_stack,  _ = train_model(train_stack, y, params=params, model_type='lgb', plot_feature_importance=True)"
   ]
  },
  {
   "cell_type": "code",
   "execution_count": null,
   "metadata": {},
   "outputs": [],
   "source": [
    "#lgb 作为meta\n",
    "params = {'num_leaves': 8,\n",
    "         'min_data_in_leaf': 20,\n",
    "         'objective': 'regression',\n",
    "         'max_depth': 3,\n",
    "         'learning_rate': 0.01,\n",
    "         \"boosting\": \"gbdt\",\n",
    "         \"bagging_seed\": 11,\n",
    "         \"metric\": 'rmse',\n",
    "         \"lambda_l1\": 0.2,\n",
    "         \"verbosity\": -1}\n",
    "oof_lgb_stack,  _ = train_model(train_stack, y, params=params, model_type='lgb', plot_feature_importance=True)"
   ]
  },
  {
   "cell_type": "markdown",
   "metadata": {},
   "source": [
    "##### catboost作为第二层融合模型"
   ]
  },
  {
   "cell_type": "code",
   "execution_count": null,
   "metadata": {},
   "outputs": [],
   "source": [
    "cat_params = {'learning_rate': 0.002,\n",
    "              'depth': 5,\n",
    "              'l2_leaf_reg': 10,\n",
    "              # 'bootstrap_type': 'Bernoulli',\n",
    "              'colsample_bylevel': 0.8,\n",
    "              'bagging_temperature': 0.2,\n",
    "              #'metric_period': 500,\n",
    "              'od_type': 'Iter',\n",
    "              'od_wait': 100,\n",
    "              'random_seed': 11,\n",
    "              'allow_writing_files': False}\n",
    "oof_cat_stack = train_model(train_stack,y,params = cat_params,model_type = 'cat')"
   ]
  },
  {
   "cell_type": "markdown",
   "metadata": {},
   "source": [
    "##### randomforest作为第二层融合模型"
   ]
  },
  {
   "cell_type": "code",
   "execution_count": null,
   "metadata": {},
   "outputs": [],
   "source": [
    "rfrmodel = RandomForestRegressor(\n",
    "    n_estimators = 20, \n",
    "    min_samples_leaf = 4, \n",
    "    max_features = 0.3, \n",
    "    n_jobs = -1,\n",
    "    oob_score = True, \n",
    "    random_state = 42\n",
    ")\n",
    "\n",
    "oof_rfr_stack = train_model(train_stack,y,model_type = 'rfr',params = None,model = rfrmodel)"
   ]
  },
  {
   "cell_type": "markdown",
   "metadata": {},
   "source": [
    "##### xgboost作为第二层融合模型"
   ]
  },
  {
   "cell_type": "code",
   "execution_count": null,
   "metadata": {},
   "outputs": [],
   "source": [
    "xgb_params = {'eta': 0.01,\n",
    "              'objective': 'reg:linear',\n",
    "              'max_depth': 7,\n",
    "              'subsample': 0.8,\n",
    "              'colsample_bytree': 0.8,\n",
    "              'eval_metric': 'rmse',\n",
    "              'seed': 11,\n",
    "              'silent': True}\n",
    "oof_xgb_stack = train_model(train_stack,  y, params=xgb_params, model_type='xgb', plot_feature_importance=False)"
   ]
  },
  {
   "cell_type": "markdown",
   "metadata": {},
   "source": [
    "##### svr 作为第二层融合模型"
   ]
  },
  {
   "cell_type": "code",
   "execution_count": null,
   "metadata": {},
   "outputs": [],
   "source": [
    "param_grid = {\n",
    "    \"kernel\": (\"linear\", 'rbf'), \n",
    "    \"C\": np.logspace(-3, 3, 7), \n",
    "    \"gamma\": np.logspace(-3, 3, 7)}\n",
    "\n",
    "svr = GridSearchCV(SVR(), param_grid=param_grid,n_jobs = -1,scoring='neg_mean_squared_error')\n",
    "svr = SVR()\n",
    "oof_svr_stack = train_model(train_stack, y, params=None,model_type='svr',model = svr)"
   ]
  },
  {
   "cell_type": "markdown",
   "metadata": {},
   "source": [
    "##### 岭回归做第二层融合模型"
   ]
  },
  {
   "cell_type": "code",
   "execution_count": null,
   "metadata": {},
   "outputs": [],
   "source": [
    "model = linear_model.RidgeCV(alphas=(0.01, 0.1, 1.0, 10.0, 100.0), scoring='neg_mean_squared_error', cv=folds)\n",
    "oof_rcv_stack  = train_model(train_stack.values, y, params=None, model_type='sklearn', model=model)"
   ]
  },
  {
   "cell_type": "markdown",
   "metadata": {},
   "source": [
    "#### 去掉xgb和svr"
   ]
  },
  {
   "cell_type": "code",
   "execution_count": null,
   "metadata": {},
   "outputs": [],
   "source": [
    "#构建第二层训练矩阵\n",
    "train_stack = np.vstack([oof_lgb, oof_cat, oof_lgb_1, oof_lgb_2,oof_rfr]).transpose()\n",
    "train_stack = pd.DataFrame(train_stack, columns=['lgb', 'cat', 'lgb_1', 'lgb_2','rfr'])"
   ]
  },
  {
   "cell_type": "markdown",
   "metadata": {},
   "source": [
    "##### lgb作为第二层融合模型"
   ]
  },
  {
   "cell_type": "code",
   "execution_count": null,
   "metadata": {},
   "outputs": [],
   "source": [
    "params = {'num_leaves': 30,\n",
    "         'min_data_in_leaf': 20,\n",
    "         'objective': 'regression',\n",
    "         'max_depth': 9,\n",
    "         'learning_rate': 0.01,\n",
    "         \"boosting\": \"gbdt\",\n",
    "         \"feature_fraction\": 0.9,\n",
    "         \"bagging_freq\": 1,\n",
    "         \"bagging_fraction\": 0.9,\n",
    "         \"bagging_seed\": 11,\n",
    "         \"metric\": 'rmse',\n",
    "         \"lambda_l1\": 0.2,\n",
    "         \"verbosity\": -1}\n",
    "oof_lgb_stack,  _ = train_model(train_stack, y, params=params, model_type='lgb', plot_feature_importance=True)"
   ]
  },
  {
   "cell_type": "code",
   "execution_count": null,
   "metadata": {},
   "outputs": [],
   "source": [
    "#lgb 作为meta\n",
    "params = {'num_leaves': 8,\n",
    "         'min_data_in_leaf': 20,\n",
    "         'objective': 'regression',\n",
    "         'max_depth': 3,\n",
    "         'learning_rate': 0.01,\n",
    "         \"boosting\": \"gbdt\",\n",
    "         \"bagging_seed\": 11,\n",
    "         \"metric\": 'rmse',\n",
    "         \"lambda_l1\": 0.2,\n",
    "         \"verbosity\": -1}\n",
    "oof_lgb_stack,  _ = train_model(train_stack, y, params=params, model_type='lgb', plot_feature_importance=True)"
   ]
  },
  {
   "cell_type": "markdown",
   "metadata": {},
   "source": [
    "##### catboost作为第二层融合模型"
   ]
  },
  {
   "cell_type": "code",
   "execution_count": null,
   "metadata": {},
   "outputs": [],
   "source": [
    "cat_params = {'learning_rate': 0.002,\n",
    "              'depth': 5,\n",
    "              'l2_leaf_reg': 10,\n",
    "              # 'bootstrap_type': 'Bernoulli',\n",
    "              'colsample_bylevel': 0.8,\n",
    "              'bagging_temperature': 0.2,\n",
    "              #'metric_period': 500,\n",
    "              'od_type': 'Iter',\n",
    "              'od_wait': 100,\n",
    "              'random_seed': 11,\n",
    "              'allow_writing_files': False}\n",
    "oof_cat_stack = train_model(train_stack,y,params = cat_params,model_type = 'cat')"
   ]
  },
  {
   "cell_type": "markdown",
   "metadata": {},
   "source": [
    "##### randomforest作为第二层融合模型"
   ]
  },
  {
   "cell_type": "code",
   "execution_count": null,
   "metadata": {},
   "outputs": [],
   "source": [
    "rfrmodel = RandomForestRegressor(\n",
    "    n_estimators = 20, \n",
    "    min_samples_leaf = 4, \n",
    "    max_features = 0.3, \n",
    "    n_jobs = -1,\n",
    "    oob_score = True, \n",
    "    random_state = 42\n",
    ")\n",
    "\n",
    "oof_rfr_stack = train_model(train_stack,y,model_type = 'rfr',params = None,model = rfrmodel)"
   ]
  },
  {
   "cell_type": "markdown",
   "metadata": {},
   "source": [
    "##### xgboost作为第二层融合模型"
   ]
  },
  {
   "cell_type": "code",
   "execution_count": null,
   "metadata": {},
   "outputs": [],
   "source": [
    "xgb_params = {'eta': 0.01,\n",
    "              'objective': 'reg:linear',\n",
    "              'max_depth': 7,\n",
    "              'subsample': 0.8,\n",
    "              'colsample_bytree': 0.8,\n",
    "              'eval_metric': 'rmse',\n",
    "              'seed': 11,\n",
    "              'silent': True}\n",
    "oof_xgb_stack = train_model(train_stack,  y, params=xgb_params, model_type='xgb', plot_feature_importance=False)"
   ]
  },
  {
   "cell_type": "markdown",
   "metadata": {},
   "source": [
    "##### svr 作为第二层融合模型"
   ]
  },
  {
   "cell_type": "code",
   "execution_count": null,
   "metadata": {},
   "outputs": [],
   "source": [
    "param_grid = {\n",
    "    \"kernel\": (\"linear\", 'rbf'), \n",
    "    \"C\": np.logspace(-3, 3, 7), \n",
    "    \"gamma\": np.logspace(-3, 3, 7)}\n",
    "\n",
    "svr = GridSearchCV(SVR(), param_grid=param_grid,n_jobs = -1,scoring='neg_mean_squared_error')\n",
    "svr = SVR()\n",
    "oof_svr_stack = train_model(train_stack, y, params=None,model_type='svr',model = svr)"
   ]
  },
  {
   "cell_type": "markdown",
   "metadata": {},
   "source": [
    "##### 岭回归做第二层融合模型"
   ]
  },
  {
   "cell_type": "code",
   "execution_count": null,
   "metadata": {},
   "outputs": [],
   "source": [
    "model = linear_model.RidgeCV(alphas=(0.01, 0.1, 1.0, 10.0, 100.0), scoring='neg_mean_squared_error', cv=folds)\n",
    "oof_rcv_stack  = train_model(train_stack.values, y, params=None, model_type='sklearn', model=model)"
   ]
  },
  {
   "cell_type": "markdown",
   "metadata": {},
   "source": [
    "#### 去掉xgb和rfr"
   ]
  },
  {
   "cell_type": "code",
   "execution_count": null,
   "metadata": {},
   "outputs": [],
   "source": [
    "#构建第二层训练矩阵\n",
    "train_stack = np.vstack([oof_lgb, oof_cat, oof_lgb_1, oof_lgb_2,oof_svr]).transpose()\n",
    "train_stack = pd.DataFrame(train_stack, columns=['lgb',  'cat', 'lgb_1', 'lgb_2','svr'])"
   ]
  },
  {
   "cell_type": "markdown",
   "metadata": {},
   "source": [
    "##### lgb作为第二层融合模型"
   ]
  },
  {
   "cell_type": "code",
   "execution_count": null,
   "metadata": {},
   "outputs": [],
   "source": [
    "params = {'num_leaves': 30,\n",
    "         'min_data_in_leaf': 20,\n",
    "         'objective': 'regression',\n",
    "         'max_depth': 9,\n",
    "         'learning_rate': 0.01,\n",
    "         \"boosting\": \"gbdt\",\n",
    "         \"feature_fraction\": 0.9,\n",
    "         \"bagging_freq\": 1,\n",
    "         \"bagging_fraction\": 0.9,\n",
    "         \"bagging_seed\": 11,\n",
    "         \"metric\": 'rmse',\n",
    "         \"lambda_l1\": 0.2,\n",
    "         \"verbosity\": -1}\n",
    "oof_lgb_stack,  _ = train_model(train_stack, y, params=params, model_type='lgb', plot_feature_importance=True)"
   ]
  },
  {
   "cell_type": "code",
   "execution_count": null,
   "metadata": {},
   "outputs": [],
   "source": [
    "#lgb 作为meta\n",
    "params = {'num_leaves': 8,\n",
    "         'min_data_in_leaf': 20,\n",
    "         'objective': 'regression',\n",
    "         'max_depth': 3,\n",
    "         'learning_rate': 0.01,\n",
    "         \"boosting\": \"gbdt\",\n",
    "         \"bagging_seed\": 11,\n",
    "         \"metric\": 'rmse',\n",
    "         \"lambda_l1\": 0.2,\n",
    "         \"verbosity\": -1}\n",
    "oof_lgb_stack,  _ = train_model(train_stack, y, params=params, model_type='lgb', plot_feature_importance=True)"
   ]
  },
  {
   "cell_type": "markdown",
   "metadata": {},
   "source": [
    "##### catboost作为第二层融合模型"
   ]
  },
  {
   "cell_type": "code",
   "execution_count": null,
   "metadata": {},
   "outputs": [],
   "source": [
    "cat_params = {'learning_rate': 0.002,\n",
    "              'depth': 5,\n",
    "              'l2_leaf_reg': 10,\n",
    "              # 'bootstrap_type': 'Bernoulli',\n",
    "              'colsample_bylevel': 0.8,\n",
    "              'bagging_temperature': 0.2,\n",
    "              #'metric_period': 500,\n",
    "              'od_type': 'Iter',\n",
    "              'od_wait': 100,\n",
    "              'random_seed': 11,\n",
    "              'allow_writing_files': False}\n",
    "oof_cat_stack = train_model(train_stack,y,params = cat_params,model_type = 'cat')"
   ]
  },
  {
   "cell_type": "markdown",
   "metadata": {},
   "source": [
    "##### randomforest作为第二层融合模型"
   ]
  },
  {
   "cell_type": "code",
   "execution_count": null,
   "metadata": {},
   "outputs": [],
   "source": [
    "rfrmodel = RandomForestRegressor(\n",
    "    n_estimators = 20, \n",
    "    min_samples_leaf = 4, \n",
    "    max_features = 0.3, \n",
    "    n_jobs = -1,\n",
    "    oob_score = True, \n",
    "    random_state = 42\n",
    ")\n",
    "\n",
    "oof_rfr_stack = train_model(train_stack,y,model_type = 'rfr',params = None,model = rfrmodel)"
   ]
  },
  {
   "cell_type": "markdown",
   "metadata": {},
   "source": [
    "##### xgboost作为第二层融合模型"
   ]
  },
  {
   "cell_type": "code",
   "execution_count": null,
   "metadata": {},
   "outputs": [],
   "source": [
    "xgb_params = {'eta': 0.01,\n",
    "              'objective': 'reg:linear',\n",
    "              'max_depth': 7,\n",
    "              'subsample': 0.8,\n",
    "              'colsample_bytree': 0.8,\n",
    "              'eval_metric': 'rmse',\n",
    "              'seed': 11,\n",
    "              'silent': True}\n",
    "oof_xgb_stack = train_model(train_stack,  y, params=xgb_params, model_type='xgb', plot_feature_importance=False)"
   ]
  },
  {
   "cell_type": "markdown",
   "metadata": {},
   "source": [
    "##### svr 作为第二层融合模型"
   ]
  },
  {
   "cell_type": "code",
   "execution_count": null,
   "metadata": {},
   "outputs": [],
   "source": [
    "param_grid = {\n",
    "    \"kernel\": (\"linear\", 'rbf'), \n",
    "    \"C\": np.logspace(-3, 3, 7), \n",
    "    \"gamma\": np.logspace(-3, 3, 7)}\n",
    "\n",
    "svr = GridSearchCV(SVR(), param_grid=param_grid,n_jobs = -1,scoring='neg_mean_squared_error')\n",
    "svr = SVR()\n",
    "oof_svr_stack = train_model(train_stack, y, params=None,model_type='svr',model = svr)"
   ]
  },
  {
   "cell_type": "markdown",
   "metadata": {},
   "source": [
    "##### 岭回归做第二层融合模型"
   ]
  },
  {
   "cell_type": "code",
   "execution_count": null,
   "metadata": {},
   "outputs": [],
   "source": [
    "model = linear_model.RidgeCV(alphas=(0.01, 0.1, 1.0, 10.0, 100.0), scoring='neg_mean_squared_error', cv=folds)\n",
    "oof_rcv_stack  = train_model(train_stack.values, y, params=None, model_type='sklearn', model=model)"
   ]
  },
  {
   "cell_type": "markdown",
   "metadata": {},
   "source": [
    "#### 去掉xgb和cat"
   ]
  },
  {
   "cell_type": "code",
   "execution_count": null,
   "metadata": {},
   "outputs": [],
   "source": [
    "#构建第二层训练矩阵\n",
    "train_stack = np.vstack([oof_lgb, oof_lgb_1, oof_lgb_2,oof_svr,oof_rfr]).transpose()\n",
    "train_stack = pd.DataFrame(train_stack, columns=['lgb',  'lgb_1', 'lgb_2','svr','rfr'])"
   ]
  },
  {
   "cell_type": "markdown",
   "metadata": {},
   "source": [
    "##### lgb作为第二层融合模型"
   ]
  },
  {
   "cell_type": "code",
   "execution_count": null,
   "metadata": {},
   "outputs": [],
   "source": [
    "params = {'num_leaves': 30,\n",
    "         'min_data_in_leaf': 20,\n",
    "         'objective': 'regression',\n",
    "         'max_depth': 9,\n",
    "         'learning_rate': 0.01,\n",
    "         \"boosting\": \"gbdt\",\n",
    "         \"feature_fraction\": 0.9,\n",
    "         \"bagging_freq\": 1,\n",
    "         \"bagging_fraction\": 0.9,\n",
    "         \"bagging_seed\": 11,\n",
    "         \"metric\": 'rmse',\n",
    "         \"lambda_l1\": 0.2,\n",
    "         \"verbosity\": -1}\n",
    "oof_lgb_stack,  _ = train_model(train_stack, y, params=params, model_type='lgb', plot_feature_importance=True)"
   ]
  },
  {
   "cell_type": "code",
   "execution_count": null,
   "metadata": {},
   "outputs": [],
   "source": [
    "#lgb 作为meta\n",
    "params = {'num_leaves': 8,\n",
    "         'min_data_in_leaf': 20,\n",
    "         'objective': 'regression',\n",
    "         'max_depth': 3,\n",
    "         'learning_rate': 0.01,\n",
    "         \"boosting\": \"gbdt\",\n",
    "         \"bagging_seed\": 11,\n",
    "         \"metric\": 'rmse',\n",
    "         \"lambda_l1\": 0.2,\n",
    "         \"verbosity\": -1}\n",
    "oof_lgb_stack,  _ = train_model(train_stack, y, params=params, model_type='lgb', plot_feature_importance=True)"
   ]
  },
  {
   "cell_type": "markdown",
   "metadata": {},
   "source": [
    "##### catboost作为第二层融合模型"
   ]
  },
  {
   "cell_type": "code",
   "execution_count": null,
   "metadata": {},
   "outputs": [],
   "source": [
    "cat_params = {'learning_rate': 0.002,\n",
    "              'depth': 5,\n",
    "              'l2_leaf_reg': 10,\n",
    "              # 'bootstrap_type': 'Bernoulli',\n",
    "              'colsample_bylevel': 0.8,\n",
    "              'bagging_temperature': 0.2,\n",
    "              #'metric_period': 500,\n",
    "              'od_type': 'Iter',\n",
    "              'od_wait': 100,\n",
    "              'random_seed': 11,\n",
    "              'allow_writing_files': False}\n",
    "oof_cat_stack = train_model(train_stack,y,params = cat_params,model_type = 'cat')"
   ]
  },
  {
   "cell_type": "markdown",
   "metadata": {},
   "source": [
    "##### randomforest作为第二层融合模型"
   ]
  },
  {
   "cell_type": "code",
   "execution_count": null,
   "metadata": {},
   "outputs": [],
   "source": [
    "rfrmodel = RandomForestRegressor(\n",
    "    n_estimators = 20, \n",
    "    min_samples_leaf = 4, \n",
    "    max_features = 0.3, \n",
    "    n_jobs = -1,\n",
    "    oob_score = True, \n",
    "    random_state = 42\n",
    ")\n",
    "\n",
    "oof_rfr_stack = train_model(train_stack,y,model_type = 'rfr',params = None,model = rfrmodel)"
   ]
  },
  {
   "cell_type": "markdown",
   "metadata": {},
   "source": [
    "##### xgboost作为第二层融合模型"
   ]
  },
  {
   "cell_type": "code",
   "execution_count": null,
   "metadata": {},
   "outputs": [],
   "source": [
    "xgb_params = {'eta': 0.01,\n",
    "              'objective': 'reg:linear',\n",
    "              'max_depth': 7,\n",
    "              'subsample': 0.8,\n",
    "              'colsample_bytree': 0.8,\n",
    "              'eval_metric': 'rmse',\n",
    "              'seed': 11,\n",
    "              'silent': True}\n",
    "oof_xgb_stack = train_model(train_stack,  y, params=xgb_params, model_type='xgb', plot_feature_importance=False)"
   ]
  },
  {
   "cell_type": "markdown",
   "metadata": {},
   "source": [
    "##### svr 作为第二层融合模型"
   ]
  },
  {
   "cell_type": "code",
   "execution_count": null,
   "metadata": {},
   "outputs": [],
   "source": [
    "param_grid = {\n",
    "    \"kernel\": (\"linear\", 'rbf'), \n",
    "    \"C\": np.logspace(-3, 3, 7), \n",
    "    \"gamma\": np.logspace(-3, 3, 7)}\n",
    "\n",
    "svr = GridSearchCV(SVR(), param_grid=param_grid,n_jobs = -1,scoring='neg_mean_squared_error')\n",
    "svr = SVR()\n",
    "oof_svr_stack = train_model(train_stack, y, params=None,model_type='svr',model = svr)"
   ]
  },
  {
   "cell_type": "markdown",
   "metadata": {},
   "source": [
    "##### 岭回归做第二层融合模型"
   ]
  },
  {
   "cell_type": "code",
   "execution_count": null,
   "metadata": {},
   "outputs": [],
   "source": [
    "model = linear_model.RidgeCV(alphas=(0.01, 0.1, 1.0, 10.0, 100.0), scoring='neg_mean_squared_error', cv=folds)\n",
    "oof_rcv_stack  = train_model(train_stack.values, y, params=None, model_type='sklearn', model=model)"
   ]
  },
  {
   "cell_type": "markdown",
   "metadata": {},
   "source": [
    "#### 去掉svr和rfr"
   ]
  },
  {
   "cell_type": "code",
   "execution_count": null,
   "metadata": {},
   "outputs": [],
   "source": [
    "#构建第二层训练矩阵\n",
    "train_stack = np.vstack([oof_lgb, oof_xgb, oof_cat, oof_lgb_1, oof_lgb_2]).transpose()\n",
    "train_stack = pd.DataFrame(train_stack, columns=['lgb', 'xgb', 'cat', 'lgb_1', 'lgb_2'])"
   ]
  },
  {
   "cell_type": "markdown",
   "metadata": {},
   "source": [
    "##### lgb作为第二层融合模型"
   ]
  },
  {
   "cell_type": "code",
   "execution_count": null,
   "metadata": {},
   "outputs": [],
   "source": [
    "params = {'num_leaves': 30,\n",
    "         'min_data_in_leaf': 20,\n",
    "         'objective': 'regression',\n",
    "         'max_depth': 9,\n",
    "         'learning_rate': 0.01,\n",
    "         \"boosting\": \"gbdt\",\n",
    "         \"feature_fraction\": 0.9,\n",
    "         \"bagging_freq\": 1,\n",
    "         \"bagging_fraction\": 0.9,\n",
    "         \"bagging_seed\": 11,\n",
    "         \"metric\": 'rmse',\n",
    "         \"lambda_l1\": 0.2,\n",
    "         \"verbosity\": -1}\n",
    "oof_lgb_stack,  _ = train_model(train_stack, y, params=params, model_type='lgb', plot_feature_importance=True)"
   ]
  },
  {
   "cell_type": "code",
   "execution_count": null,
   "metadata": {},
   "outputs": [],
   "source": [
    "#lgb 作为meta\n",
    "params = {'num_leaves': 8,\n",
    "         'min_data_in_leaf': 20,\n",
    "         'objective': 'regression',\n",
    "         'max_depth': 3,\n",
    "         'learning_rate': 0.01,\n",
    "         \"boosting\": \"gbdt\",\n",
    "         \"bagging_seed\": 11,\n",
    "         \"metric\": 'rmse',\n",
    "         \"lambda_l1\": 0.2,\n",
    "         \"verbosity\": -1}\n",
    "oof_lgb_stack,  _ = train_model(train_stack, y, params=params, model_type='lgb', plot_feature_importance=True)"
   ]
  },
  {
   "cell_type": "markdown",
   "metadata": {},
   "source": [
    "##### catboost作为第二层融合模型"
   ]
  },
  {
   "cell_type": "code",
   "execution_count": null,
   "metadata": {},
   "outputs": [],
   "source": [
    "cat_params = {'learning_rate': 0.002,\n",
    "              'depth': 5,\n",
    "              'l2_leaf_reg': 10,\n",
    "              # 'bootstrap_type': 'Bernoulli',\n",
    "              'colsample_bylevel': 0.8,\n",
    "              'bagging_temperature': 0.2,\n",
    "              #'metric_period': 500,\n",
    "              'od_type': 'Iter',\n",
    "              'od_wait': 100,\n",
    "              'random_seed': 11,\n",
    "              'allow_writing_files': False}\n",
    "oof_cat_stack = train_model(train_stack,y,params = cat_params,model_type = 'cat')"
   ]
  },
  {
   "cell_type": "markdown",
   "metadata": {},
   "source": [
    "##### randomforest作为第二层融合模型"
   ]
  },
  {
   "cell_type": "code",
   "execution_count": null,
   "metadata": {},
   "outputs": [],
   "source": [
    "rfrmodel = RandomForestRegressor(\n",
    "    n_estimators = 20, \n",
    "    min_samples_leaf = 4, \n",
    "    max_features = 0.3, \n",
    "    n_jobs = -1,\n",
    "    oob_score = True, \n",
    "    random_state = 42\n",
    ")\n",
    "\n",
    "oof_rfr_stack = train_model(train_stack,y,model_type = 'rfr',params = None,model = rfrmodel)"
   ]
  },
  {
   "cell_type": "markdown",
   "metadata": {},
   "source": [
    "##### xgboost作为第二层融合模型"
   ]
  },
  {
   "cell_type": "code",
   "execution_count": null,
   "metadata": {},
   "outputs": [],
   "source": [
    "xgb_params = {'eta': 0.01,\n",
    "              'objective': 'reg:linear',\n",
    "              'max_depth': 7,\n",
    "              'subsample': 0.8,\n",
    "              'colsample_bytree': 0.8,\n",
    "              'eval_metric': 'rmse',\n",
    "              'seed': 11,\n",
    "              'silent': True}\n",
    "oof_xgb_stack = train_model(train_stack,  y, params=xgb_params, model_type='xgb', plot_feature_importance=False)"
   ]
  },
  {
   "cell_type": "markdown",
   "metadata": {},
   "source": [
    "##### svr 作为第二层融合模型"
   ]
  },
  {
   "cell_type": "code",
   "execution_count": null,
   "metadata": {},
   "outputs": [],
   "source": [
    "param_grid = {\n",
    "    \"kernel\": (\"linear\", 'rbf'), \n",
    "    \"C\": np.logspace(-3, 3, 7), \n",
    "    \"gamma\": np.logspace(-3, 3, 7)}\n",
    "\n",
    "svr = GridSearchCV(SVR(), param_grid=param_grid,n_jobs = -1,scoring='neg_mean_squared_error')\n",
    "svr = SVR()\n",
    "oof_svr_stack = train_model(train_stack, y, params=None,model_type='svr',model = svr)"
   ]
  },
  {
   "cell_type": "markdown",
   "metadata": {},
   "source": [
    "##### 岭回归做第二层融合模型"
   ]
  },
  {
   "cell_type": "code",
   "execution_count": null,
   "metadata": {},
   "outputs": [],
   "source": [
    "model = linear_model.RidgeCV(alphas=(0.01, 0.1, 1.0, 10.0, 100.0), scoring='neg_mean_squared_error', cv=folds)\n",
    "oof_rcv_stack  = train_model(train_stack.values, y, params=None, model_type='sklearn', model=model)"
   ]
  },
  {
   "cell_type": "markdown",
   "metadata": {},
   "source": [
    "#### 去掉svr和cat"
   ]
  },
  {
   "cell_type": "code",
   "execution_count": null,
   "metadata": {},
   "outputs": [],
   "source": [
    "#构建第二层训练矩阵\n",
    "train_stack = np.vstack([oof_lgb, oof_xgb,  oof_lgb_1, oof_lgb_2,oof_rfr]).transpose()\n",
    "train_stack = pd.DataFrame(train_stack, columns=['lgb', 'xgb',  'lgb_1', 'lgb_2','rfr'])"
   ]
  },
  {
   "cell_type": "markdown",
   "metadata": {},
   "source": [
    "##### lgb作为第二层融合模型"
   ]
  },
  {
   "cell_type": "code",
   "execution_count": null,
   "metadata": {},
   "outputs": [],
   "source": [
    "params = {'num_leaves': 30,\n",
    "         'min_data_in_leaf': 20,\n",
    "         'objective': 'regression',\n",
    "         'max_depth': 9,\n",
    "         'learning_rate': 0.01,\n",
    "         \"boosting\": \"gbdt\",\n",
    "         \"feature_fraction\": 0.9,\n",
    "         \"bagging_freq\": 1,\n",
    "         \"bagging_fraction\": 0.9,\n",
    "         \"bagging_seed\": 11,\n",
    "         \"metric\": 'rmse',\n",
    "         \"lambda_l1\": 0.2,\n",
    "         \"verbosity\": -1}\n",
    "oof_lgb_stack,  _ = train_model(train_stack, y, params=params, model_type='lgb', plot_feature_importance=True)"
   ]
  },
  {
   "cell_type": "code",
   "execution_count": null,
   "metadata": {},
   "outputs": [],
   "source": [
    "#lgb 作为meta\n",
    "params = {'num_leaves': 8,\n",
    "         'min_data_in_leaf': 20,\n",
    "         'objective': 'regression',\n",
    "         'max_depth': 3,\n",
    "         'learning_rate': 0.01,\n",
    "         \"boosting\": \"gbdt\",\n",
    "         \"bagging_seed\": 11,\n",
    "         \"metric\": 'rmse',\n",
    "         \"lambda_l1\": 0.2,\n",
    "         \"verbosity\": -1}\n",
    "oof_lgb_stack,  _ = train_model(train_stack, y, params=params, model_type='lgb', plot_feature_importance=True)"
   ]
  },
  {
   "cell_type": "markdown",
   "metadata": {},
   "source": [
    "##### catboost作为第二层融合模型"
   ]
  },
  {
   "cell_type": "code",
   "execution_count": null,
   "metadata": {},
   "outputs": [],
   "source": [
    "cat_params = {'learning_rate': 0.002,\n",
    "              'depth': 5,\n",
    "              'l2_leaf_reg': 10,\n",
    "              # 'bootstrap_type': 'Bernoulli',\n",
    "              'colsample_bylevel': 0.8,\n",
    "              'bagging_temperature': 0.2,\n",
    "              #'metric_period': 500,\n",
    "              'od_type': 'Iter',\n",
    "              'od_wait': 100,\n",
    "              'random_seed': 11,\n",
    "              'allow_writing_files': False}\n",
    "oof_cat_stack = train_model(train_stack,y,params = cat_params,model_type = 'cat')"
   ]
  },
  {
   "cell_type": "markdown",
   "metadata": {},
   "source": [
    "##### randomforest作为第二层融合模型"
   ]
  },
  {
   "cell_type": "code",
   "execution_count": null,
   "metadata": {},
   "outputs": [],
   "source": [
    "rfrmodel = RandomForestRegressor(\n",
    "    n_estimators = 20, \n",
    "    min_samples_leaf = 4, \n",
    "    max_features = 0.3, \n",
    "    n_jobs = -1,\n",
    "    oob_score = True, \n",
    "    random_state = 42\n",
    ")\n",
    "\n",
    "oof_rfr_stack = train_model(train_stack,y,model_type = 'rfr',params = None,model = rfrmodel)"
   ]
  },
  {
   "cell_type": "markdown",
   "metadata": {},
   "source": [
    "##### xgboost作为第二层融合模型"
   ]
  },
  {
   "cell_type": "code",
   "execution_count": null,
   "metadata": {},
   "outputs": [],
   "source": [
    "xgb_params = {'eta': 0.01,\n",
    "              'objective': 'reg:linear',\n",
    "              'max_depth': 7,\n",
    "              'subsample': 0.8,\n",
    "              'colsample_bytree': 0.8,\n",
    "              'eval_metric': 'rmse',\n",
    "              'seed': 11,\n",
    "              'silent': True}\n",
    "oof_xgb_stack = train_model(train_stack,  y, params=xgb_params, model_type='xgb', plot_feature_importance=False)"
   ]
  },
  {
   "cell_type": "markdown",
   "metadata": {},
   "source": [
    "##### svr 作为第二层融合模型"
   ]
  },
  {
   "cell_type": "code",
   "execution_count": null,
   "metadata": {},
   "outputs": [],
   "source": [
    "param_grid = {\n",
    "    \"kernel\": (\"linear\", 'rbf'), \n",
    "    \"C\": np.logspace(-3, 3, 7), \n",
    "    \"gamma\": np.logspace(-3, 3, 7)}\n",
    "\n",
    "svr = GridSearchCV(SVR(), param_grid=param_grid,n_jobs = -1,scoring='neg_mean_squared_error')\n",
    "svr = SVR()\n",
    "oof_svr_stack = train_model(train_stack, y, params=None,model_type='svr',model = svr)"
   ]
  },
  {
   "cell_type": "markdown",
   "metadata": {},
   "source": [
    "##### 岭回归做第二层融合模型"
   ]
  },
  {
   "cell_type": "code",
   "execution_count": null,
   "metadata": {},
   "outputs": [],
   "source": [
    "model = linear_model.RidgeCV(alphas=(0.01, 0.1, 1.0, 10.0, 100.0), scoring='neg_mean_squared_error', cv=folds)\n",
    "oof_rcv_stack  = train_model(train_stack.values, y, params=None, model_type='sklearn', model=model)"
   ]
  },
  {
   "cell_type": "markdown",
   "metadata": {},
   "source": [
    "#### 去掉rfr和cat"
   ]
  },
  {
   "cell_type": "code",
   "execution_count": null,
   "metadata": {},
   "outputs": [],
   "source": [
    "#构建第二层训练矩阵\n",
    "train_stack = np.vstack([oof_lgb, oof_xgb,  oof_lgb_1, oof_lgb_2,oof_svr]).transpose()\n",
    "train_stack = pd.DataFrame(train_stack, columns=['lgb', 'xgb',  'lgb_1', 'lgb_2','svr'])"
   ]
  },
  {
   "cell_type": "markdown",
   "metadata": {},
   "source": [
    "##### lgb作为第二层融合模型"
   ]
  },
  {
   "cell_type": "code",
   "execution_count": null,
   "metadata": {},
   "outputs": [],
   "source": [
    "params = {'num_leaves': 30,\n",
    "         'min_data_in_leaf': 20,\n",
    "         'objective': 'regression',\n",
    "         'max_depth': 9,\n",
    "         'learning_rate': 0.01,\n",
    "         \"boosting\": \"gbdt\",\n",
    "         \"feature_fraction\": 0.9,\n",
    "         \"bagging_freq\": 1,\n",
    "         \"bagging_fraction\": 0.9,\n",
    "         \"bagging_seed\": 11,\n",
    "         \"metric\": 'rmse',\n",
    "         \"lambda_l1\": 0.2,\n",
    "         \"verbosity\": -1}\n",
    "oof_lgb_stack,  _ = train_model(train_stack, y, params=params, model_type='lgb', plot_feature_importance=True)"
   ]
  },
  {
   "cell_type": "code",
   "execution_count": null,
   "metadata": {},
   "outputs": [],
   "source": [
    "#lgb 作为meta\n",
    "params = {'num_leaves': 8,\n",
    "         'min_data_in_leaf': 20,\n",
    "         'objective': 'regression',\n",
    "         'max_depth': 3,\n",
    "         'learning_rate': 0.01,\n",
    "         \"boosting\": \"gbdt\",\n",
    "         \"bagging_seed\": 11,\n",
    "         \"metric\": 'rmse',\n",
    "         \"lambda_l1\": 0.2,\n",
    "         \"verbosity\": -1}\n",
    "oof_lgb_stack,  _ = train_model(train_stack, y, params=params, model_type='lgb', plot_feature_importance=True)"
   ]
  },
  {
   "cell_type": "markdown",
   "metadata": {},
   "source": [
    "##### catboost作为第二层融合模型"
   ]
  },
  {
   "cell_type": "code",
   "execution_count": null,
   "metadata": {},
   "outputs": [],
   "source": [
    "cat_params = {'learning_rate': 0.002,\n",
    "              'depth': 5,\n",
    "              'l2_leaf_reg': 10,\n",
    "              # 'bootstrap_type': 'Bernoulli',\n",
    "              'colsample_bylevel': 0.8,\n",
    "              'bagging_temperature': 0.2,\n",
    "              #'metric_period': 500,\n",
    "              'od_type': 'Iter',\n",
    "              'od_wait': 100,\n",
    "              'random_seed': 11,\n",
    "              'allow_writing_files': False}\n",
    "oof_cat_stack = train_model(train_stack,y,params = cat_params,model_type = 'cat')"
   ]
  },
  {
   "cell_type": "markdown",
   "metadata": {},
   "source": [
    "##### randomforest作为第二层融合模型"
   ]
  },
  {
   "cell_type": "code",
   "execution_count": null,
   "metadata": {},
   "outputs": [],
   "source": [
    "rfrmodel = RandomForestRegressor(\n",
    "    n_estimators = 20, \n",
    "    min_samples_leaf = 4, \n",
    "    max_features = 0.3, \n",
    "    n_jobs = -1,\n",
    "    oob_score = True, \n",
    "    random_state = 42\n",
    ")\n",
    "\n",
    "oof_rfr_stack = train_model(train_stack,y,model_type = 'rfr',params = None,model = rfrmodel)"
   ]
  },
  {
   "cell_type": "markdown",
   "metadata": {},
   "source": [
    "##### xgboost作为第二层融合模型"
   ]
  },
  {
   "cell_type": "code",
   "execution_count": null,
   "metadata": {},
   "outputs": [],
   "source": [
    "xgb_params = {'eta': 0.01,\n",
    "              'objective': 'reg:linear',\n",
    "              'max_depth': 7,\n",
    "              'subsample': 0.8,\n",
    "              'colsample_bytree': 0.8,\n",
    "              'eval_metric': 'rmse',\n",
    "              'seed': 11,\n",
    "              'silent': True}\n",
    "oof_xgb_stack = train_model(train_stack,  y, params=xgb_params, model_type='xgb', plot_feature_importance=False)"
   ]
  },
  {
   "cell_type": "markdown",
   "metadata": {},
   "source": [
    "##### svr 作为第二层融合模型"
   ]
  },
  {
   "cell_type": "code",
   "execution_count": null,
   "metadata": {},
   "outputs": [],
   "source": [
    "param_grid = {\n",
    "    \"kernel\": (\"linear\", 'rbf'), \n",
    "    \"C\": np.logspace(-3, 3, 7), \n",
    "    \"gamma\": np.logspace(-3, 3, 7)}\n",
    "\n",
    "svr = GridSearchCV(SVR(), param_grid=param_grid,n_jobs = -1,scoring='neg_mean_squared_error')\n",
    "svr = SVR()\n",
    "oof_svr_stack = train_model(train_stack, y, params=None,model_type='svr',model = svr)"
   ]
  },
  {
   "cell_type": "markdown",
   "metadata": {},
   "source": [
    "##### 岭回归做第二层融合模型"
   ]
  },
  {
   "cell_type": "code",
   "execution_count": null,
   "metadata": {},
   "outputs": [],
   "source": [
    "model = linear_model.RidgeCV(alphas=(0.01, 0.1, 1.0, 10.0, 100.0), scoring='neg_mean_squared_error', cv=folds)\n",
    "oof_rcv_stack  = train_model(train_stack.values, y, params=None, model_type='sklearn', model=model)"
   ]
  },
  {
   "cell_type": "markdown",
   "metadata": {},
   "source": [
    "#### 留下cat和rfr"
   ]
  },
  {
   "cell_type": "code",
   "execution_count": null,
   "metadata": {},
   "outputs": [],
   "source": [
    "#构建第二层训练矩阵\n",
    "train_stack = np.vstack([oof_cat, oof_rfr]).transpose()\n",
    "train_stack = pd.DataFrame(train_stack, columns=[ 'cat', 'rfr'])"
   ]
  },
  {
   "cell_type": "markdown",
   "metadata": {},
   "source": [
    "##### lgb作为第二层融合模型"
   ]
  },
  {
   "cell_type": "code",
   "execution_count": null,
   "metadata": {},
   "outputs": [],
   "source": [
    "params = {'num_leaves': 30,\n",
    "         'min_data_in_leaf': 20,\n",
    "         'objective': 'regression',\n",
    "         'max_depth': 9,\n",
    "         'learning_rate': 0.01,\n",
    "         \"boosting\": \"gbdt\",\n",
    "         \"feature_fraction\": 0.9,\n",
    "         \"bagging_freq\": 1,\n",
    "         \"bagging_fraction\": 0.9,\n",
    "         \"bagging_seed\": 11,\n",
    "         \"metric\": 'rmse',\n",
    "         \"lambda_l1\": 0.2,\n",
    "         \"verbosity\": -1}\n",
    "oof_lgb_stack,  _ = train_model(train_stack, y, params=params, model_type='lgb', plot_feature_importance=True)"
   ]
  },
  {
   "cell_type": "code",
   "execution_count": null,
   "metadata": {},
   "outputs": [],
   "source": [
    "#lgb 作为meta\n",
    "params = {'num_leaves': 8,\n",
    "         'min_data_in_leaf': 20,\n",
    "         'objective': 'regression',\n",
    "         'max_depth': 3,\n",
    "         'learning_rate': 0.01,\n",
    "         \"boosting\": \"gbdt\",\n",
    "         \"bagging_seed\": 11,\n",
    "         \"metric\": 'rmse',\n",
    "         \"lambda_l1\": 0.2,\n",
    "         \"verbosity\": -1}\n",
    "oof_lgb_stack,  _ = train_model(train_stack, y, params=params, model_type='lgb', plot_feature_importance=True)"
   ]
  },
  {
   "cell_type": "markdown",
   "metadata": {},
   "source": [
    "##### catboost作为第二层融合模型"
   ]
  },
  {
   "cell_type": "code",
   "execution_count": null,
   "metadata": {},
   "outputs": [],
   "source": [
    "cat_params = {'learning_rate': 0.002,\n",
    "              'depth': 5,\n",
    "              'l2_leaf_reg': 10,\n",
    "              # 'bootstrap_type': 'Bernoulli',\n",
    "              'colsample_bylevel': 0.8,\n",
    "              'bagging_temperature': 0.2,\n",
    "              #'metric_period': 500,\n",
    "              'od_type': 'Iter',\n",
    "              'od_wait': 100,\n",
    "              'random_seed': 11,\n",
    "              'allow_writing_files': False}\n",
    "oof_cat_stack = train_model(train_stack,y,params = cat_params,model_type = 'cat')"
   ]
  },
  {
   "cell_type": "markdown",
   "metadata": {},
   "source": [
    "##### randomforest作为第二层融合模型"
   ]
  },
  {
   "cell_type": "code",
   "execution_count": null,
   "metadata": {},
   "outputs": [],
   "source": [
    "rfrmodel = RandomForestRegressor(\n",
    "    n_estimators = 20, \n",
    "    min_samples_leaf = 4, \n",
    "    max_features = 0.3, \n",
    "    n_jobs = -1,\n",
    "    oob_score = True, \n",
    "    random_state = 42\n",
    ")\n",
    "\n",
    "oof_rfr_stack = train_model(train_stack,y,model_type = 'rfr',params = None,model = rfrmodel)"
   ]
  },
  {
   "cell_type": "markdown",
   "metadata": {},
   "source": [
    "##### xgboost作为第二层融合模型"
   ]
  },
  {
   "cell_type": "code",
   "execution_count": null,
   "metadata": {},
   "outputs": [],
   "source": [
    "xgb_params = {'eta': 0.01,\n",
    "              'objective': 'reg:linear',\n",
    "              'max_depth': 7,\n",
    "              'subsample': 0.8,\n",
    "              'colsample_bytree': 0.8,\n",
    "              'eval_metric': 'rmse',\n",
    "              'seed': 11,\n",
    "              'silent': True}\n",
    "oof_xgb_stack = train_model(train_stack,  y, params=xgb_params, model_type='xgb', plot_feature_importance=False)"
   ]
  },
  {
   "cell_type": "markdown",
   "metadata": {},
   "source": [
    "##### svr 作为第二层融合模型"
   ]
  },
  {
   "cell_type": "code",
   "execution_count": null,
   "metadata": {},
   "outputs": [],
   "source": [
    "param_grid = {\n",
    "    \"kernel\": (\"linear\", 'rbf'), \n",
    "    \"C\": np.logspace(-3, 3, 7), \n",
    "    \"gamma\": np.logspace(-3, 3, 7)}\n",
    "\n",
    "svr = GridSearchCV(SVR(), param_grid=param_grid,n_jobs = -1,scoring='neg_mean_squared_error')\n",
    "svr = SVR()\n",
    "oof_svr_stack = train_model(train_stack, y, params=None,model_type='svr',model = svr)"
   ]
  },
  {
   "cell_type": "markdown",
   "metadata": {},
   "source": [
    "##### 岭回归做第二层融合模型"
   ]
  },
  {
   "cell_type": "code",
   "execution_count": null,
   "metadata": {},
   "outputs": [],
   "source": [
    "model = linear_model.RidgeCV(alphas=(0.01, 0.1, 1.0, 10.0, 100.0), scoring='neg_mean_squared_error', cv=folds)\n",
    "oof_rcv_stack  = train_model(train_stack.values, y, params=None, model_type='sklearn', model=model)"
   ]
  },
  {
   "cell_type": "markdown",
   "metadata": {},
   "source": [
    "#### 留下cat和svr"
   ]
  },
  {
   "cell_type": "code",
   "execution_count": null,
   "metadata": {},
   "outputs": [],
   "source": [
    "#构建第二层训练矩阵\n",
    "train_stack = np.vstack([ oof_cat, oof_svr]).transpose()\n",
    "train_stack = pd.DataFrame(train_stack, columns=[ 'cat','svr'])"
   ]
  },
  {
   "cell_type": "markdown",
   "metadata": {},
   "source": [
    "##### lgb作为第二层融合模型"
   ]
  },
  {
   "cell_type": "code",
   "execution_count": null,
   "metadata": {},
   "outputs": [],
   "source": [
    "params = {'num_leaves': 30,\n",
    "         'min_data_in_leaf': 20,\n",
    "         'objective': 'regression',\n",
    "         'max_depth': 9,\n",
    "         'learning_rate': 0.01,\n",
    "         \"boosting\": \"gbdt\",\n",
    "         \"feature_fraction\": 0.9,\n",
    "         \"bagging_freq\": 1,\n",
    "         \"bagging_fraction\": 0.9,\n",
    "         \"bagging_seed\": 11,\n",
    "         \"metric\": 'rmse',\n",
    "         \"lambda_l1\": 0.2,\n",
    "         \"verbosity\": -1}\n",
    "oof_lgb_stack,  _ = train_model(train_stack, y, params=params, model_type='lgb', plot_feature_importance=True)"
   ]
  },
  {
   "cell_type": "code",
   "execution_count": null,
   "metadata": {},
   "outputs": [],
   "source": [
    "#lgb 作为meta\n",
    "params = {'num_leaves': 8,\n",
    "         'min_data_in_leaf': 20,\n",
    "         'objective': 'regression',\n",
    "         'max_depth': 3,\n",
    "         'learning_rate': 0.01,\n",
    "         \"boosting\": \"gbdt\",\n",
    "         \"bagging_seed\": 11,\n",
    "         \"metric\": 'rmse',\n",
    "         \"lambda_l1\": 0.2,\n",
    "         \"verbosity\": -1}\n",
    "oof_lgb_stack,  _ = train_model(train_stack, y, params=params, model_type='lgb', plot_feature_importance=True)"
   ]
  },
  {
   "cell_type": "markdown",
   "metadata": {},
   "source": [
    "##### catboost作为第二层融合模型"
   ]
  },
  {
   "cell_type": "code",
   "execution_count": null,
   "metadata": {},
   "outputs": [],
   "source": [
    "cat_params = {'learning_rate': 0.002,\n",
    "              'depth': 5,\n",
    "              'l2_leaf_reg': 10,\n",
    "              # 'bootstrap_type': 'Bernoulli',\n",
    "              'colsample_bylevel': 0.8,\n",
    "              'bagging_temperature': 0.2,\n",
    "              #'metric_period': 500,\n",
    "              'od_type': 'Iter',\n",
    "              'od_wait': 100,\n",
    "              'random_seed': 11,\n",
    "              'allow_writing_files': False}\n",
    "oof_cat_stack = train_model(train_stack,y,params = cat_params,model_type = 'cat')"
   ]
  },
  {
   "cell_type": "markdown",
   "metadata": {},
   "source": [
    "##### randomforest作为第二层融合模型"
   ]
  },
  {
   "cell_type": "code",
   "execution_count": null,
   "metadata": {},
   "outputs": [],
   "source": [
    "rfrmodel = RandomForestRegressor(\n",
    "    n_estimators = 20, \n",
    "    min_samples_leaf = 4, \n",
    "    max_features = 0.3, \n",
    "    n_jobs = -1,\n",
    "    oob_score = True, \n",
    "    random_state = 42\n",
    ")\n",
    "\n",
    "oof_rfr_stack = train_model(train_stack,y,model_type = 'rfr',params = None,model = rfrmodel)"
   ]
  },
  {
   "cell_type": "markdown",
   "metadata": {},
   "source": [
    "##### xgboost作为第二层融合模型"
   ]
  },
  {
   "cell_type": "code",
   "execution_count": null,
   "metadata": {},
   "outputs": [],
   "source": [
    "xgb_params = {'eta': 0.01,\n",
    "              'objective': 'reg:linear',\n",
    "              'max_depth': 7,\n",
    "              'subsample': 0.8,\n",
    "              'colsample_bytree': 0.8,\n",
    "              'eval_metric': 'rmse',\n",
    "              'seed': 11,\n",
    "              'silent': True}\n",
    "oof_xgb_stack = train_model(train_stack,  y, params=xgb_params, model_type='xgb', plot_feature_importance=False)"
   ]
  },
  {
   "cell_type": "markdown",
   "metadata": {},
   "source": [
    "##### svr 作为第二层融合模型"
   ]
  },
  {
   "cell_type": "code",
   "execution_count": null,
   "metadata": {},
   "outputs": [],
   "source": [
    "param_grid = {\n",
    "    \"kernel\": (\"linear\", 'rbf'), \n",
    "    \"C\": np.logspace(-3, 3, 7), \n",
    "    \"gamma\": np.logspace(-3, 3, 7)}\n",
    "\n",
    "svr = GridSearchCV(SVR(), param_grid=param_grid,n_jobs = -1,scoring='neg_mean_squared_error')\n",
    "svr = SVR()\n",
    "oof_svr_stack = train_model(train_stack, y, params=None,model_type='svr',model = svr)"
   ]
  },
  {
   "cell_type": "markdown",
   "metadata": {},
   "source": [
    "##### 岭回归做第二层融合模型"
   ]
  },
  {
   "cell_type": "code",
   "execution_count": null,
   "metadata": {},
   "outputs": [],
   "source": [
    "model = linear_model.RidgeCV(alphas=(0.01, 0.1, 1.0, 10.0, 100.0), scoring='neg_mean_squared_error', cv=folds)\n",
    "oof_rcv_stack  = train_model(train_stack.values, y, params=None, model_type='sklearn', model=model)"
   ]
  },
  {
   "cell_type": "markdown",
   "metadata": {},
   "source": [
    "#### 留下rfr和svr"
   ]
  },
  {
   "cell_type": "code",
   "execution_count": null,
   "metadata": {},
   "outputs": [],
   "source": [
    "#构建第二层训练矩阵\n",
    "train_stack = np.vstack([oof_svr,oof_rfr]).transpose()\n",
    "train_stack = pd.DataFrame(train_stack, columns=['svr','rfr'])"
   ]
  },
  {
   "cell_type": "markdown",
   "metadata": {},
   "source": [
    "##### lgb作为第二层融合模型"
   ]
  },
  {
   "cell_type": "code",
   "execution_count": null,
   "metadata": {},
   "outputs": [],
   "source": [
    "params = {'num_leaves': 30,\n",
    "         'min_data_in_leaf': 20,\n",
    "         'objective': 'regression',\n",
    "         'max_depth': 9,\n",
    "         'learning_rate': 0.01,\n",
    "         \"boosting\": \"gbdt\",\n",
    "         \"feature_fraction\": 0.9,\n",
    "         \"bagging_freq\": 1,\n",
    "         \"bagging_fraction\": 0.9,\n",
    "         \"bagging_seed\": 11,\n",
    "         \"metric\": 'rmse',\n",
    "         \"lambda_l1\": 0.2,\n",
    "         \"verbosity\": -1}\n",
    "oof_lgb_stack,  _ = train_model(train_stack, y, params=params, model_type='lgb', plot_feature_importance=True)"
   ]
  },
  {
   "cell_type": "code",
   "execution_count": null,
   "metadata": {},
   "outputs": [],
   "source": [
    "#lgb 作为meta\n",
    "params = {'num_leaves': 8,\n",
    "         'min_data_in_leaf': 20,\n",
    "         'objective': 'regression',\n",
    "         'max_depth': 3,\n",
    "         'learning_rate': 0.01,\n",
    "         \"boosting\": \"gbdt\",\n",
    "         \"bagging_seed\": 11,\n",
    "         \"metric\": 'rmse',\n",
    "         \"lambda_l1\": 0.2,\n",
    "         \"verbosity\": -1}\n",
    "oof_lgb_stack,  _ = train_model(train_stack, y, params=params, model_type='lgb', plot_feature_importance=True)"
   ]
  },
  {
   "cell_type": "markdown",
   "metadata": {},
   "source": [
    "##### catboost作为第二层融合模型"
   ]
  },
  {
   "cell_type": "code",
   "execution_count": null,
   "metadata": {},
   "outputs": [],
   "source": [
    "cat_params = {'learning_rate': 0.002,\n",
    "              'depth': 5,\n",
    "              'l2_leaf_reg': 10,\n",
    "              # 'bootstrap_type': 'Bernoulli',\n",
    "              'colsample_bylevel': 0.8,\n",
    "              'bagging_temperature': 0.2,\n",
    "              #'metric_period': 500,\n",
    "              'od_type': 'Iter',\n",
    "              'od_wait': 100,\n",
    "              'random_seed': 11,\n",
    "              'allow_writing_files': False}\n",
    "oof_cat_stack = train_model(train_stack,y,params = cat_params,model_type = 'cat')"
   ]
  },
  {
   "cell_type": "markdown",
   "metadata": {},
   "source": [
    "##### randomforest作为第二层融合模型"
   ]
  },
  {
   "cell_type": "code",
   "execution_count": null,
   "metadata": {},
   "outputs": [],
   "source": [
    "rfrmodel = RandomForestRegressor(\n",
    "    n_estimators = 20, \n",
    "    min_samples_leaf = 4, \n",
    "    max_features = 0.3, \n",
    "    n_jobs = -1,\n",
    "    oob_score = True, \n",
    "    random_state = 42\n",
    ")\n",
    "\n",
    "oof_rfr_stack = train_model(train_stack,y,model_type = 'rfr',params = None,model = rfrmodel)"
   ]
  },
  {
   "cell_type": "markdown",
   "metadata": {},
   "source": [
    "##### xgboost作为第二层融合模型"
   ]
  },
  {
   "cell_type": "code",
   "execution_count": null,
   "metadata": {},
   "outputs": [],
   "source": [
    "xgb_params = {'eta': 0.01,\n",
    "              'objective': 'reg:linear',\n",
    "              'max_depth': 7,\n",
    "              'subsample': 0.8,\n",
    "              'colsample_bytree': 0.8,\n",
    "              'eval_metric': 'rmse',\n",
    "              'seed': 11,\n",
    "              'silent': True}\n",
    "oof_xgb_stack = train_model(train_stack,  y, params=xgb_params, model_type='xgb', plot_feature_importance=False)"
   ]
  },
  {
   "cell_type": "markdown",
   "metadata": {},
   "source": [
    "##### svr 作为第二层融合模型"
   ]
  },
  {
   "cell_type": "code",
   "execution_count": null,
   "metadata": {},
   "outputs": [],
   "source": [
    "param_grid = {\n",
    "    \"kernel\": (\"linear\", 'rbf'), \n",
    "    \"C\": np.logspace(-3, 3, 7), \n",
    "    \"gamma\": np.logspace(-3, 3, 7)}\n",
    "\n",
    "svr = GridSearchCV(SVR(), param_grid=param_grid,n_jobs = -1,scoring='neg_mean_squared_error')\n",
    "svr = SVR()\n",
    "oof_svr_stack = train_model(train_stack, y, params=None,model_type='svr',model = svr)"
   ]
  },
  {
   "cell_type": "markdown",
   "metadata": {},
   "source": [
    "##### 岭回归做第二层融合模型"
   ]
  },
  {
   "cell_type": "code",
   "execution_count": null,
   "metadata": {},
   "outputs": [],
   "source": [
    "model = linear_model.RidgeCV(alphas=(0.01, 0.1, 1.0, 10.0, 100.0), scoring='neg_mean_squared_error', cv=folds)\n",
    "oof_rcv_stack  = train_model(train_stack.values, y, params=None, model_type='sklearn', model=model)"
   ]
  },
  {
   "cell_type": "markdown",
   "metadata": {},
   "source": [
    "#### 留下xgb和cat"
   ]
  },
  {
   "cell_type": "code",
   "execution_count": null,
   "metadata": {},
   "outputs": [],
   "source": [
    "#构建第二层训练矩阵\n",
    "train_stack = np.vstack([ oof_xgb, oof_cat]).transpose()\n",
    "train_stack = pd.DataFrame(train_stack, columns=[ 'xgb', 'cat'])"
   ]
  },
  {
   "cell_type": "markdown",
   "metadata": {},
   "source": [
    "##### lgb作为第二层融合模型"
   ]
  },
  {
   "cell_type": "code",
   "execution_count": null,
   "metadata": {},
   "outputs": [],
   "source": [
    "params = {'num_leaves': 30,\n",
    "         'min_data_in_leaf': 20,\n",
    "         'objective': 'regression',\n",
    "         'max_depth': 9,\n",
    "         'learning_rate': 0.01,\n",
    "         \"boosting\": \"gbdt\",\n",
    "         \"feature_fraction\": 0.9,\n",
    "         \"bagging_freq\": 1,\n",
    "         \"bagging_fraction\": 0.9,\n",
    "         \"bagging_seed\": 11,\n",
    "         \"metric\": 'rmse',\n",
    "         \"lambda_l1\": 0.2,\n",
    "         \"verbosity\": -1}\n",
    "oof_lgb_stack,  _ = train_model(train_stack, y, params=params, model_type='lgb', plot_feature_importance=True)"
   ]
  },
  {
   "cell_type": "code",
   "execution_count": null,
   "metadata": {},
   "outputs": [],
   "source": [
    "#lgb 作为meta\n",
    "params = {'num_leaves': 8,\n",
    "         'min_data_in_leaf': 20,\n",
    "         'objective': 'regression',\n",
    "         'max_depth': 3,\n",
    "         'learning_rate': 0.01,\n",
    "         \"boosting\": \"gbdt\",\n",
    "         \"bagging_seed\": 11,\n",
    "         \"metric\": 'rmse',\n",
    "         \"lambda_l1\": 0.2,\n",
    "         \"verbosity\": -1}\n",
    "oof_lgb_stack,  _ = train_model(train_stack, y, params=params, model_type='lgb', plot_feature_importance=True)"
   ]
  },
  {
   "cell_type": "markdown",
   "metadata": {},
   "source": [
    "##### catboost作为第二层融合模型"
   ]
  },
  {
   "cell_type": "code",
   "execution_count": null,
   "metadata": {},
   "outputs": [],
   "source": [
    "cat_params = {'learning_rate': 0.002,\n",
    "              'depth': 5,\n",
    "              'l2_leaf_reg': 10,\n",
    "              # 'bootstrap_type': 'Bernoulli',\n",
    "              'colsample_bylevel': 0.8,\n",
    "              'bagging_temperature': 0.2,\n",
    "              #'metric_period': 500,\n",
    "              'od_type': 'Iter',\n",
    "              'od_wait': 100,\n",
    "              'random_seed': 11,\n",
    "              'allow_writing_files': False}\n",
    "oof_cat_stack = train_model(train_stack,y,params = cat_params,model_type = 'cat')"
   ]
  },
  {
   "cell_type": "markdown",
   "metadata": {},
   "source": [
    "##### randomforest作为第二层融合模型"
   ]
  },
  {
   "cell_type": "code",
   "execution_count": null,
   "metadata": {},
   "outputs": [],
   "source": [
    "rfrmodel = RandomForestRegressor(\n",
    "    n_estimators = 20, \n",
    "    min_samples_leaf = 4, \n",
    "    max_features = 0.3, \n",
    "    n_jobs = -1,\n",
    "    oob_score = True, \n",
    "    random_state = 42\n",
    ")\n",
    "\n",
    "oof_rfr_stack = train_model(train_stack,y,model_type = 'rfr',params = None,model = rfrmodel)"
   ]
  },
  {
   "cell_type": "markdown",
   "metadata": {},
   "source": [
    "##### xgboost作为第二层融合模型"
   ]
  },
  {
   "cell_type": "code",
   "execution_count": null,
   "metadata": {},
   "outputs": [],
   "source": [
    "xgb_params = {'eta': 0.01,\n",
    "              'objective': 'reg:linear',\n",
    "              'max_depth': 7,\n",
    "              'subsample': 0.8,\n",
    "              'colsample_bytree': 0.8,\n",
    "              'eval_metric': 'rmse',\n",
    "              'seed': 11,\n",
    "              'silent': True}\n",
    "oof_xgb_stack = train_model(train_stack,  y, params=xgb_params, model_type='xgb', plot_feature_importance=False)"
   ]
  },
  {
   "cell_type": "markdown",
   "metadata": {},
   "source": [
    "##### svr 作为第二层融合模型"
   ]
  },
  {
   "cell_type": "code",
   "execution_count": null,
   "metadata": {},
   "outputs": [],
   "source": [
    "param_grid = {\n",
    "    \"kernel\": (\"linear\", 'rbf'), \n",
    "    \"C\": np.logspace(-3, 3, 7), \n",
    "    \"gamma\": np.logspace(-3, 3, 7)}\n",
    "\n",
    "svr = GridSearchCV(SVR(), param_grid=param_grid,n_jobs = -1,scoring='neg_mean_squared_error')\n",
    "svr = SVR()\n",
    "oof_svr_stack = train_model(train_stack, y, params=None,model_type='svr',model = svr)"
   ]
  },
  {
   "cell_type": "markdown",
   "metadata": {},
   "source": [
    "##### 岭回归做第二层融合模型"
   ]
  },
  {
   "cell_type": "code",
   "execution_count": null,
   "metadata": {},
   "outputs": [],
   "source": [
    "model = linear_model.RidgeCV(alphas=(0.01, 0.1, 1.0, 10.0, 100.0), scoring='neg_mean_squared_error', cv=folds)\n",
    "oof_rcv_stack  = train_model(train_stack.values, y, params=None, model_type='sklearn', model=model)"
   ]
  },
  {
   "cell_type": "markdown",
   "metadata": {},
   "source": [
    "#### 留下xgb和rfr"
   ]
  },
  {
   "cell_type": "code",
   "execution_count": null,
   "metadata": {},
   "outputs": [],
   "source": [
    "#构建第二层训练矩阵\n",
    "train_stack = np.vstack([oof_xgb,oof_rfr]).transpose()\n",
    "train_stack = pd.DataFrame(train_stack, columns=['xgb','rfr'])"
   ]
  },
  {
   "cell_type": "markdown",
   "metadata": {},
   "source": [
    "##### lgb作为第二层融合模型"
   ]
  },
  {
   "cell_type": "code",
   "execution_count": null,
   "metadata": {},
   "outputs": [],
   "source": [
    "params = {'num_leaves': 30,\n",
    "         'min_data_in_leaf': 20,\n",
    "         'objective': 'regression',\n",
    "         'max_depth': 9,\n",
    "         'learning_rate': 0.01,\n",
    "         \"boosting\": \"gbdt\",\n",
    "         \"feature_fraction\": 0.9,\n",
    "         \"bagging_freq\": 1,\n",
    "         \"bagging_fraction\": 0.9,\n",
    "         \"bagging_seed\": 11,\n",
    "         \"metric\": 'rmse',\n",
    "         \"lambda_l1\": 0.2,\n",
    "         \"verbosity\": -1}\n",
    "oof_lgb_stack,  _ = train_model(train_stack, y, params=params, model_type='lgb', plot_feature_importance=True)"
   ]
  },
  {
   "cell_type": "code",
   "execution_count": null,
   "metadata": {},
   "outputs": [],
   "source": [
    "#lgb 作为meta\n",
    "params = {'num_leaves': 8,\n",
    "         'min_data_in_leaf': 20,\n",
    "         'objective': 'regression',\n",
    "         'max_depth': 3,\n",
    "         'learning_rate': 0.01,\n",
    "         \"boosting\": \"gbdt\",\n",
    "         \"bagging_seed\": 11,\n",
    "         \"metric\": 'rmse',\n",
    "         \"lambda_l1\": 0.2,\n",
    "         \"verbosity\": -1}\n",
    "oof_lgb_stack,  _ = train_model(train_stack, y, params=params, model_type='lgb', plot_feature_importance=True)"
   ]
  },
  {
   "cell_type": "markdown",
   "metadata": {},
   "source": [
    "##### catboost作为第二层融合模型"
   ]
  },
  {
   "cell_type": "code",
   "execution_count": null,
   "metadata": {},
   "outputs": [],
   "source": [
    "cat_params = {'learning_rate': 0.002,\n",
    "              'depth': 5,\n",
    "              'l2_leaf_reg': 10,\n",
    "              # 'bootstrap_type': 'Bernoulli',\n",
    "              'colsample_bylevel': 0.8,\n",
    "              'bagging_temperature': 0.2,\n",
    "              #'metric_period': 500,\n",
    "              'od_type': 'Iter',\n",
    "              'od_wait': 100,\n",
    "              'random_seed': 11,\n",
    "              'allow_writing_files': False}\n",
    "oof_cat_stack = train_model(train_stack,y,params = cat_params,model_type = 'cat')"
   ]
  },
  {
   "cell_type": "markdown",
   "metadata": {},
   "source": [
    "##### randomforest作为第二层融合模型"
   ]
  },
  {
   "cell_type": "code",
   "execution_count": null,
   "metadata": {},
   "outputs": [],
   "source": [
    "rfrmodel = RandomForestRegressor(\n",
    "    n_estimators = 20, \n",
    "    min_samples_leaf = 4, \n",
    "    max_features = 0.3, \n",
    "    n_jobs = -1,\n",
    "    oob_score = True, \n",
    "    random_state = 42\n",
    ")\n",
    "\n",
    "oof_rfr_stack = train_model(train_stack,y,model_type = 'rfr',params = None,model = rfrmodel)"
   ]
  },
  {
   "cell_type": "markdown",
   "metadata": {},
   "source": [
    "##### xgboost作为第二层融合模型"
   ]
  },
  {
   "cell_type": "code",
   "execution_count": null,
   "metadata": {},
   "outputs": [],
   "source": [
    "xgb_params = {'eta': 0.01,\n",
    "              'objective': 'reg:linear',\n",
    "              'max_depth': 7,\n",
    "              'subsample': 0.8,\n",
    "              'colsample_bytree': 0.8,\n",
    "              'eval_metric': 'rmse',\n",
    "              'seed': 11,\n",
    "              'silent': True}\n",
    "oof_xgb_stack = train_model(train_stack,  y, params=xgb_params, model_type='xgb', plot_feature_importance=False)"
   ]
  },
  {
   "cell_type": "markdown",
   "metadata": {},
   "source": [
    "##### svr 作为第二层融合模型"
   ]
  },
  {
   "cell_type": "code",
   "execution_count": null,
   "metadata": {},
   "outputs": [],
   "source": [
    "param_grid = {\n",
    "    \"kernel\": (\"linear\", 'rbf'), \n",
    "    \"C\": np.logspace(-3, 3, 7), \n",
    "    \"gamma\": np.logspace(-3, 3, 7)}\n",
    "\n",
    "svr = GridSearchCV(SVR(), param_grid=param_grid,n_jobs = -1,scoring='neg_mean_squared_error')\n",
    "svr = SVR()\n",
    "oof_svr_stack = train_model(train_stack, y, params=None,model_type='svr',model = svr)"
   ]
  },
  {
   "cell_type": "markdown",
   "metadata": {},
   "source": [
    "##### 岭回归做第二层融合模型"
   ]
  },
  {
   "cell_type": "code",
   "execution_count": null,
   "metadata": {},
   "outputs": [],
   "source": [
    "model = linear_model.RidgeCV(alphas=(0.01, 0.1, 1.0, 10.0, 100.0), scoring='neg_mean_squared_error', cv=folds)\n",
    "oof_rcv_stack  = train_model(train_stack.values, y, params=None, model_type='sklearn', model=model)"
   ]
  },
  {
   "cell_type": "markdown",
   "metadata": {},
   "source": [
    "#### 留下xgb和svr"
   ]
  },
  {
   "cell_type": "code",
   "execution_count": null,
   "metadata": {},
   "outputs": [],
   "source": [
    "#构建第二层训练矩阵\n",
    "train_stack = np.vstack([oof_xgb,oof_svr]).transpose()\n",
    "train_stack = pd.DataFrame(train_stack, columns=['xgb', 'svr'])"
   ]
  },
  {
   "cell_type": "markdown",
   "metadata": {},
   "source": [
    "##### lgb作为第二层融合模型"
   ]
  },
  {
   "cell_type": "code",
   "execution_count": null,
   "metadata": {},
   "outputs": [],
   "source": [
    "params = {'num_leaves': 30,\n",
    "         'min_data_in_leaf': 20,\n",
    "         'objective': 'regression',\n",
    "         'max_depth': 9,\n",
    "         'learning_rate': 0.01,\n",
    "         \"boosting\": \"gbdt\",\n",
    "         \"feature_fraction\": 0.9,\n",
    "         \"bagging_freq\": 1,\n",
    "         \"bagging_fraction\": 0.9,\n",
    "         \"bagging_seed\": 11,\n",
    "         \"metric\": 'rmse',\n",
    "         \"lambda_l1\": 0.2,\n",
    "         \"verbosity\": -1}\n",
    "oof_lgb_stack,  _ = train_model(train_stack, y, params=params, model_type='lgb', plot_feature_importance=True)"
   ]
  },
  {
   "cell_type": "code",
   "execution_count": null,
   "metadata": {},
   "outputs": [],
   "source": [
    "#lgb 作为meta\n",
    "params = {'num_leaves': 8,\n",
    "         'min_data_in_leaf': 20,\n",
    "         'objective': 'regression',\n",
    "         'max_depth': 3,\n",
    "         'learning_rate': 0.01,\n",
    "         \"boosting\": \"gbdt\",\n",
    "         \"bagging_seed\": 11,\n",
    "         \"metric\": 'rmse',\n",
    "         \"lambda_l1\": 0.2,\n",
    "         \"verbosity\": -1}\n",
    "oof_lgb_stack,  _ = train_model(train_stack, y, params=params, model_type='lgb', plot_feature_importance=True)"
   ]
  },
  {
   "cell_type": "markdown",
   "metadata": {},
   "source": [
    "##### catboost作为第二层融合模型"
   ]
  },
  {
   "cell_type": "code",
   "execution_count": null,
   "metadata": {},
   "outputs": [],
   "source": [
    "cat_params = {'learning_rate': 0.002,\n",
    "              'depth': 5,\n",
    "              'l2_leaf_reg': 10,\n",
    "              # 'bootstrap_type': 'Bernoulli',\n",
    "              'colsample_bylevel': 0.8,\n",
    "              'bagging_temperature': 0.2,\n",
    "              #'metric_period': 500,\n",
    "              'od_type': 'Iter',\n",
    "              'od_wait': 100,\n",
    "              'random_seed': 11,\n",
    "              'allow_writing_files': False}\n",
    "oof_cat_stack = train_model(train_stack,y,params = cat_params,model_type = 'cat')"
   ]
  },
  {
   "cell_type": "markdown",
   "metadata": {},
   "source": [
    "##### randomforest作为第二层融合模型"
   ]
  },
  {
   "cell_type": "code",
   "execution_count": null,
   "metadata": {},
   "outputs": [],
   "source": [
    "rfrmodel = RandomForestRegressor(\n",
    "    n_estimators = 20, \n",
    "    min_samples_leaf = 4, \n",
    "    max_features = 0.3, \n",
    "    n_jobs = -1,\n",
    "    oob_score = True, \n",
    "    random_state = 42\n",
    ")\n",
    "\n",
    "oof_rfr_stack = train_model(train_stack,y,model_type = 'rfr',params = None,model = rfrmodel)"
   ]
  },
  {
   "cell_type": "markdown",
   "metadata": {},
   "source": [
    "##### xgboost作为第二层融合模型"
   ]
  },
  {
   "cell_type": "code",
   "execution_count": null,
   "metadata": {},
   "outputs": [],
   "source": [
    "xgb_params = {'eta': 0.01,\n",
    "              'objective': 'reg:linear',\n",
    "              'max_depth': 7,\n",
    "              'subsample': 0.8,\n",
    "              'colsample_bytree': 0.8,\n",
    "              'eval_metric': 'rmse',\n",
    "              'seed': 11,\n",
    "              'silent': True}\n",
    "oof_xgb_stack = train_model(train_stack,  y, params=xgb_params, model_type='xgb', plot_feature_importance=False)"
   ]
  },
  {
   "cell_type": "markdown",
   "metadata": {},
   "source": [
    "##### svr 作为第二层融合模型"
   ]
  },
  {
   "cell_type": "code",
   "execution_count": null,
   "metadata": {},
   "outputs": [],
   "source": [
    "param_grid = {\n",
    "    \"kernel\": (\"linear\", 'rbf'), \n",
    "    \"C\": np.logspace(-3, 3, 7), \n",
    "    \"gamma\": np.logspace(-3, 3, 7)}\n",
    "\n",
    "svr = GridSearchCV(SVR(), param_grid=param_grid,n_jobs = -1,scoring='neg_mean_squared_error')\n",
    "svr = SVR()\n",
    "oof_svr_stack = train_model(train_stack, y, params=None,model_type='svr',model = svr)"
   ]
  },
  {
   "cell_type": "markdown",
   "metadata": {},
   "source": [
    "##### 岭回归做第二层融合模型"
   ]
  },
  {
   "cell_type": "code",
   "execution_count": null,
   "metadata": {},
   "outputs": [],
   "source": [
    "model = linear_model.RidgeCV(alphas=(0.01, 0.1, 1.0, 10.0, 100.0), scoring='neg_mean_squared_error', cv=folds)\n",
    "oof_rcv_stack  = train_model(train_stack.values, y, params=None, model_type='sklearn', model=model)"
   ]
  },
  {
   "cell_type": "markdown",
   "metadata": {},
   "source": [
    "#### 留下lgb和cat"
   ]
  },
  {
   "cell_type": "code",
   "execution_count": null,
   "metadata": {},
   "outputs": [],
   "source": [
    "#构建第二层训练矩阵\n",
    "train_stack = np.vstack([oof_lgb, oof_cat, oof_lgb_1, oof_lgb_2]).transpose()\n",
    "train_stack = pd.DataFrame(train_stack, columns=['lgb',  'cat', 'lgb_1', 'lgb_2'])"
   ]
  },
  {
   "cell_type": "markdown",
   "metadata": {},
   "source": [
    "##### lgb作为第二层融合模型"
   ]
  },
  {
   "cell_type": "code",
   "execution_count": null,
   "metadata": {},
   "outputs": [],
   "source": [
    "params = {'num_leaves': 30,\n",
    "         'min_data_in_leaf': 20,\n",
    "         'objective': 'regression',\n",
    "         'max_depth': 9,\n",
    "         'learning_rate': 0.01,\n",
    "         \"boosting\": \"gbdt\",\n",
    "         \"feature_fraction\": 0.9,\n",
    "         \"bagging_freq\": 1,\n",
    "         \"bagging_fraction\": 0.9,\n",
    "         \"bagging_seed\": 11,\n",
    "         \"metric\": 'rmse',\n",
    "         \"lambda_l1\": 0.2,\n",
    "         \"verbosity\": -1}\n",
    "oof_lgb_stack,  _ = train_model(train_stack, y, params=params, model_type='lgb', plot_feature_importance=True)"
   ]
  },
  {
   "cell_type": "code",
   "execution_count": null,
   "metadata": {},
   "outputs": [],
   "source": [
    "#lgb 作为meta\n",
    "params = {'num_leaves': 8,\n",
    "         'min_data_in_leaf': 20,\n",
    "         'objective': 'regression',\n",
    "         'max_depth': 3,\n",
    "         'learning_rate': 0.01,\n",
    "         \"boosting\": \"gbdt\",\n",
    "         \"bagging_seed\": 11,\n",
    "         \"metric\": 'rmse',\n",
    "         \"lambda_l1\": 0.2,\n",
    "         \"verbosity\": -1}\n",
    "oof_lgb_stack,  _ = train_model(train_stack, y, params=params, model_type='lgb', plot_feature_importance=True)"
   ]
  },
  {
   "cell_type": "markdown",
   "metadata": {},
   "source": [
    "##### catboost作为第二层融合模型"
   ]
  },
  {
   "cell_type": "code",
   "execution_count": null,
   "metadata": {},
   "outputs": [],
   "source": [
    "cat_params = {'learning_rate': 0.002,\n",
    "              'depth': 5,\n",
    "              'l2_leaf_reg': 10,\n",
    "              # 'bootstrap_type': 'Bernoulli',\n",
    "              'colsample_bylevel': 0.8,\n",
    "              'bagging_temperature': 0.2,\n",
    "              #'metric_period': 500,\n",
    "              'od_type': 'Iter',\n",
    "              'od_wait': 100,\n",
    "              'random_seed': 11,\n",
    "              'allow_writing_files': False}\n",
    "oof_cat_stack = train_model(train_stack,y,params = cat_params,model_type = 'cat')"
   ]
  },
  {
   "cell_type": "markdown",
   "metadata": {},
   "source": [
    "##### randomforest作为第二层融合模型"
   ]
  },
  {
   "cell_type": "code",
   "execution_count": null,
   "metadata": {},
   "outputs": [],
   "source": [
    "rfrmodel = RandomForestRegressor(\n",
    "    n_estimators = 20, \n",
    "    min_samples_leaf = 4, \n",
    "    max_features = 0.3, \n",
    "    n_jobs = -1,\n",
    "    oob_score = True, \n",
    "    random_state = 42\n",
    ")\n",
    "\n",
    "oof_rfr_stack = train_model(train_stack,y,model_type = 'rfr',params = None,model = rfrmodel)"
   ]
  },
  {
   "cell_type": "markdown",
   "metadata": {},
   "source": [
    "##### xgboost作为第二层融合模型"
   ]
  },
  {
   "cell_type": "code",
   "execution_count": null,
   "metadata": {},
   "outputs": [],
   "source": [
    "xgb_params = {'eta': 0.01,\n",
    "              'objective': 'reg:linear',\n",
    "              'max_depth': 7,\n",
    "              'subsample': 0.8,\n",
    "              'colsample_bytree': 0.8,\n",
    "              'eval_metric': 'rmse',\n",
    "              'seed': 11,\n",
    "              'silent': True}\n",
    "oof_xgb_stack = train_model(train_stack,  y, params=xgb_params, model_type='xgb', plot_feature_importance=False)"
   ]
  },
  {
   "cell_type": "markdown",
   "metadata": {},
   "source": [
    "##### svr 作为第二层融合模型"
   ]
  },
  {
   "cell_type": "code",
   "execution_count": null,
   "metadata": {},
   "outputs": [],
   "source": [
    "param_grid = {\n",
    "    \"kernel\": (\"linear\", 'rbf'), \n",
    "    \"C\": np.logspace(-3, 3, 7), \n",
    "    \"gamma\": np.logspace(-3, 3, 7)}\n",
    "\n",
    "svr = GridSearchCV(SVR(), param_grid=param_grid,n_jobs = -1,scoring='neg_mean_squared_error')\n",
    "svr = SVR()\n",
    "oof_svr_stack = train_model(train_stack, y, params=None,model_type='svr',model = svr)"
   ]
  },
  {
   "cell_type": "markdown",
   "metadata": {},
   "source": [
    "##### 岭回归做第二层融合模型"
   ]
  },
  {
   "cell_type": "code",
   "execution_count": null,
   "metadata": {},
   "outputs": [],
   "source": [
    "model = linear_model.RidgeCV(alphas=(0.01, 0.1, 1.0, 10.0, 100.0), scoring='neg_mean_squared_error', cv=folds)\n",
    "oof_rcv_stack  = train_model(train_stack.values, y, params=None, model_type='sklearn', model=model)"
   ]
  },
  {
   "cell_type": "markdown",
   "metadata": {},
   "source": [
    "#### 留下lgb和rfr"
   ]
  },
  {
   "cell_type": "code",
   "execution_count": null,
   "metadata": {},
   "outputs": [],
   "source": [
    "#构建第二层训练矩阵\n",
    "train_stack = np.vstack([oof_lgb,  oof_lgb_1, oof_lgb_2,oof_rfr]).transpose()\n",
    "train_stack = pd.DataFrame(train_stack, columns=['lgb',  'lgb_1', 'lgb_2','rfr'])"
   ]
  },
  {
   "cell_type": "markdown",
   "metadata": {},
   "source": [
    "##### lgb作为第二层融合模型"
   ]
  },
  {
   "cell_type": "code",
   "execution_count": null,
   "metadata": {},
   "outputs": [],
   "source": [
    "params = {'num_leaves': 30,\n",
    "         'min_data_in_leaf': 20,\n",
    "         'objective': 'regression',\n",
    "         'max_depth': 9,\n",
    "         'learning_rate': 0.01,\n",
    "         \"boosting\": \"gbdt\",\n",
    "         \"feature_fraction\": 0.9,\n",
    "         \"bagging_freq\": 1,\n",
    "         \"bagging_fraction\": 0.9,\n",
    "         \"bagging_seed\": 11,\n",
    "         \"metric\": 'rmse',\n",
    "         \"lambda_l1\": 0.2,\n",
    "         \"verbosity\": -1}\n",
    "oof_lgb_stack,  _ = train_model(train_stack, y, params=params, model_type='lgb', plot_feature_importance=True)"
   ]
  },
  {
   "cell_type": "code",
   "execution_count": null,
   "metadata": {},
   "outputs": [],
   "source": [
    "#lgb 作为meta\n",
    "params = {'num_leaves': 8,\n",
    "         'min_data_in_leaf': 20,\n",
    "         'objective': 'regression',\n",
    "         'max_depth': 3,\n",
    "         'learning_rate': 0.01,\n",
    "         \"boosting\": \"gbdt\",\n",
    "         \"bagging_seed\": 11,\n",
    "         \"metric\": 'rmse',\n",
    "         \"lambda_l1\": 0.2,\n",
    "         \"verbosity\": -1}\n",
    "oof_lgb_stack,  _ = train_model(train_stack, y, params=params, model_type='lgb', plot_feature_importance=True)"
   ]
  },
  {
   "cell_type": "markdown",
   "metadata": {},
   "source": [
    "##### catboost作为第二层融合模型"
   ]
  },
  {
   "cell_type": "code",
   "execution_count": null,
   "metadata": {},
   "outputs": [],
   "source": [
    "cat_params = {'learning_rate': 0.002,\n",
    "              'depth': 5,\n",
    "              'l2_leaf_reg': 10,\n",
    "              # 'bootstrap_type': 'Bernoulli',\n",
    "              'colsample_bylevel': 0.8,\n",
    "              'bagging_temperature': 0.2,\n",
    "              #'metric_period': 500,\n",
    "              'od_type': 'Iter',\n",
    "              'od_wait': 100,\n",
    "              'random_seed': 11,\n",
    "              'allow_writing_files': False}\n",
    "oof_cat_stack = train_model(train_stack,y,params = cat_params,model_type = 'cat')"
   ]
  },
  {
   "cell_type": "markdown",
   "metadata": {},
   "source": [
    "##### randomforest作为第二层融合模型"
   ]
  },
  {
   "cell_type": "code",
   "execution_count": null,
   "metadata": {},
   "outputs": [],
   "source": [
    "rfrmodel = RandomForestRegressor(\n",
    "    n_estimators = 20, \n",
    "    min_samples_leaf = 4, \n",
    "    max_features = 0.3, \n",
    "    n_jobs = -1,\n",
    "    oob_score = True, \n",
    "    random_state = 42\n",
    ")\n",
    "\n",
    "oof_rfr_stack = train_model(train_stack,y,model_type = 'rfr',params = None,model = rfrmodel)"
   ]
  },
  {
   "cell_type": "markdown",
   "metadata": {},
   "source": [
    "##### xgboost作为第二层融合模型"
   ]
  },
  {
   "cell_type": "code",
   "execution_count": null,
   "metadata": {},
   "outputs": [],
   "source": [
    "xgb_params = {'eta': 0.01,\n",
    "              'objective': 'reg:linear',\n",
    "              'max_depth': 7,\n",
    "              'subsample': 0.8,\n",
    "              'colsample_bytree': 0.8,\n",
    "              'eval_metric': 'rmse',\n",
    "              'seed': 11,\n",
    "              'silent': True}\n",
    "oof_xgb_stack = train_model(train_stack,  y, params=xgb_params, model_type='xgb', plot_feature_importance=False)"
   ]
  },
  {
   "cell_type": "markdown",
   "metadata": {},
   "source": [
    "##### svr 作为第二层融合模型"
   ]
  },
  {
   "cell_type": "code",
   "execution_count": null,
   "metadata": {},
   "outputs": [],
   "source": [
    "param_grid = {\n",
    "    \"kernel\": (\"linear\", 'rbf'), \n",
    "    \"C\": np.logspace(-3, 3, 7), \n",
    "    \"gamma\": np.logspace(-3, 3, 7)}\n",
    "\n",
    "svr = GridSearchCV(SVR(), param_grid=param_grid,n_jobs = -1,scoring='neg_mean_squared_error')\n",
    "svr = SVR()\n",
    "oof_svr_stack = train_model(train_stack, y, params=None,model_type='svr',model = svr)"
   ]
  },
  {
   "cell_type": "markdown",
   "metadata": {},
   "source": [
    "##### 岭回归做第二层融合模型"
   ]
  },
  {
   "cell_type": "code",
   "execution_count": null,
   "metadata": {},
   "outputs": [],
   "source": [
    "model = linear_model.RidgeCV(alphas=(0.01, 0.1, 1.0, 10.0, 100.0), scoring='neg_mean_squared_error', cv=folds)\n",
    "oof_rcv_stack  = train_model(train_stack.values, y, params=None, model_type='sklearn', model=model)"
   ]
  },
  {
   "cell_type": "markdown",
   "metadata": {},
   "source": [
    "#### 留下lgb和svr"
   ]
  },
  {
   "cell_type": "code",
   "execution_count": null,
   "metadata": {},
   "outputs": [],
   "source": [
    "#构建第二层训练矩阵\n",
    "train_stack = np.vstack([oof_lgb,  oof_lgb_1, oof_lgb_2,oof_svr]).transpose()\n",
    "train_stack = pd.DataFrame(train_stack, columns=['lgb',  'lgb_1', 'lgb_2','svr'])"
   ]
  },
  {
   "cell_type": "markdown",
   "metadata": {},
   "source": [
    "##### lgb作为第二层融合模型"
   ]
  },
  {
   "cell_type": "code",
   "execution_count": null,
   "metadata": {},
   "outputs": [],
   "source": [
    "params = {'num_leaves': 30,\n",
    "         'min_data_in_leaf': 20,\n",
    "         'objective': 'regression',\n",
    "         'max_depth': 9,\n",
    "         'learning_rate': 0.01,\n",
    "         \"boosting\": \"gbdt\",\n",
    "         \"feature_fraction\": 0.9,\n",
    "         \"bagging_freq\": 1,\n",
    "         \"bagging_fraction\": 0.9,\n",
    "         \"bagging_seed\": 11,\n",
    "         \"metric\": 'rmse',\n",
    "         \"lambda_l1\": 0.2,\n",
    "         \"verbosity\": -1}\n",
    "oof_lgb_stack,  _ = train_model(train_stack, y, params=params, model_type='lgb', plot_feature_importance=True)"
   ]
  },
  {
   "cell_type": "code",
   "execution_count": null,
   "metadata": {},
   "outputs": [],
   "source": [
    "#lgb 作为meta\n",
    "params = {'num_leaves': 8,\n",
    "         'min_data_in_leaf': 20,\n",
    "         'objective': 'regression',\n",
    "         'max_depth': 3,\n",
    "         'learning_rate': 0.01,\n",
    "         \"boosting\": \"gbdt\",\n",
    "         \"bagging_seed\": 11,\n",
    "         \"metric\": 'rmse',\n",
    "         \"lambda_l1\": 0.2,\n",
    "         \"verbosity\": -1}\n",
    "oof_lgb_stack,  _ = train_model(train_stack, y, params=params, model_type='lgb', plot_feature_importance=True)"
   ]
  },
  {
   "cell_type": "markdown",
   "metadata": {},
   "source": [
    "##### catboost作为第二层融合模型"
   ]
  },
  {
   "cell_type": "code",
   "execution_count": null,
   "metadata": {},
   "outputs": [],
   "source": [
    "cat_params = {'learning_rate': 0.002,\n",
    "              'depth': 5,\n",
    "              'l2_leaf_reg': 10,\n",
    "              # 'bootstrap_type': 'Bernoulli',\n",
    "              'colsample_bylevel': 0.8,\n",
    "              'bagging_temperature': 0.2,\n",
    "              #'metric_period': 500,\n",
    "              'od_type': 'Iter',\n",
    "              'od_wait': 100,\n",
    "              'random_seed': 11,\n",
    "              'allow_writing_files': False}\n",
    "oof_cat_stack = train_model(train_stack,y,params = cat_params,model_type = 'cat')"
   ]
  },
  {
   "cell_type": "markdown",
   "metadata": {},
   "source": [
    "##### randomforest作为第二层融合模型"
   ]
  },
  {
   "cell_type": "code",
   "execution_count": null,
   "metadata": {},
   "outputs": [],
   "source": [
    "rfrmodel = RandomForestRegressor(\n",
    "    n_estimators = 20, \n",
    "    min_samples_leaf = 4, \n",
    "    max_features = 0.3, \n",
    "    n_jobs = -1,\n",
    "    oob_score = True, \n",
    "    random_state = 42\n",
    ")\n",
    "\n",
    "oof_rfr_stack = train_model(train_stack,y,model_type = 'rfr',params = None,model = rfrmodel)"
   ]
  },
  {
   "cell_type": "markdown",
   "metadata": {},
   "source": [
    "##### xgboost作为第二层融合模型"
   ]
  },
  {
   "cell_type": "code",
   "execution_count": null,
   "metadata": {},
   "outputs": [],
   "source": [
    "xgb_params = {'eta': 0.01,\n",
    "              'objective': 'reg:linear',\n",
    "              'max_depth': 7,\n",
    "              'subsample': 0.8,\n",
    "              'colsample_bytree': 0.8,\n",
    "              'eval_metric': 'rmse',\n",
    "              'seed': 11,\n",
    "              'silent': True}\n",
    "oof_xgb_stack = train_model(train_stack,  y, params=xgb_params, model_type='xgb', plot_feature_importance=False)"
   ]
  },
  {
   "cell_type": "markdown",
   "metadata": {},
   "source": [
    "##### svr 作为第二层融合模型"
   ]
  },
  {
   "cell_type": "code",
   "execution_count": null,
   "metadata": {},
   "outputs": [],
   "source": [
    "param_grid = {\n",
    "    \"kernel\": (\"linear\", 'rbf'), \n",
    "    \"C\": np.logspace(-3, 3, 7), \n",
    "    \"gamma\": np.logspace(-3, 3, 7)}\n",
    "\n",
    "svr = GridSearchCV(SVR(), param_grid=param_grid,n_jobs = -1,scoring='neg_mean_squared_error')\n",
    "svr = SVR()\n",
    "oof_svr_stack = train_model(train_stack, y, params=None,model_type='svr',model = svr)"
   ]
  },
  {
   "cell_type": "markdown",
   "metadata": {},
   "source": [
    "##### 岭回归做第二层融合模型"
   ]
  },
  {
   "cell_type": "code",
   "execution_count": null,
   "metadata": {},
   "outputs": [],
   "source": [
    "model = linear_model.RidgeCV(alphas=(0.01, 0.1, 1.0, 10.0, 100.0), scoring='neg_mean_squared_error', cv=folds)\n",
    "oof_rcv_stack  = train_model(train_stack.values, y, params=None, model_type='sklearn', model=model)"
   ]
  },
  {
   "cell_type": "markdown",
   "metadata": {},
   "source": [
    "#### 留下lgb和xgb"
   ]
  },
  {
   "cell_type": "code",
   "execution_count": null,
   "metadata": {},
   "outputs": [],
   "source": [
    "#构建第二层训练矩阵\n",
    "train_stack = np.vstack([oof_lgb,  oof_lgb_1, oof_lgb_2,oof_xgb]).transpose()\n",
    "train_stack = pd.DataFrame(train_stack, columns=['lgb',  'lgb_1', 'lgb_2','xgb'])"
   ]
  },
  {
   "cell_type": "markdown",
   "metadata": {},
   "source": [
    "##### lgb作为第二层融合模型"
   ]
  },
  {
   "cell_type": "code",
   "execution_count": null,
   "metadata": {},
   "outputs": [],
   "source": [
    "params = {'num_leaves': 30,\n",
    "         'min_data_in_leaf': 20,\n",
    "         'objective': 'regression',\n",
    "         'max_depth': 9,\n",
    "         'learning_rate': 0.01,\n",
    "         \"boosting\": \"gbdt\",\n",
    "         \"feature_fraction\": 0.9,\n",
    "         \"bagging_freq\": 1,\n",
    "         \"bagging_fraction\": 0.9,\n",
    "         \"bagging_seed\": 11,\n",
    "         \"metric\": 'rmse',\n",
    "         \"lambda_l1\": 0.2,\n",
    "         \"verbosity\": -1}\n",
    "oof_lgb_stack,  _ = train_model(train_stack, y, params=params, model_type='lgb', plot_feature_importance=True)"
   ]
  },
  {
   "cell_type": "code",
   "execution_count": null,
   "metadata": {},
   "outputs": [],
   "source": [
    "#lgb 作为meta\n",
    "params = {'num_leaves': 8,\n",
    "         'min_data_in_leaf': 20,\n",
    "         'objective': 'regression',\n",
    "         'max_depth': 3,\n",
    "         'learning_rate': 0.01,\n",
    "         \"boosting\": \"gbdt\",\n",
    "         \"bagging_seed\": 11,\n",
    "         \"metric\": 'rmse',\n",
    "         \"lambda_l1\": 0.2,\n",
    "         \"verbosity\": -1}\n",
    "oof_lgb_stack,  _ = train_model(train_stack, y, params=params, model_type='lgb', plot_feature_importance=True)"
   ]
  },
  {
   "cell_type": "markdown",
   "metadata": {},
   "source": [
    "##### catboost作为第二层融合模型"
   ]
  },
  {
   "cell_type": "code",
   "execution_count": null,
   "metadata": {},
   "outputs": [],
   "source": [
    "cat_params = {'learning_rate': 0.002,\n",
    "              'depth': 5,\n",
    "              'l2_leaf_reg': 10,\n",
    "              # 'bootstrap_type': 'Bernoulli',\n",
    "              'colsample_bylevel': 0.8,\n",
    "              'bagging_temperature': 0.2,\n",
    "              #'metric_period': 500,\n",
    "              'od_type': 'Iter',\n",
    "              'od_wait': 100,\n",
    "              'random_seed': 11,\n",
    "              'allow_writing_files': False}\n",
    "oof_cat_stack = train_model(train_stack,y,params = cat_params,model_type = 'cat')"
   ]
  },
  {
   "cell_type": "markdown",
   "metadata": {},
   "source": [
    "##### randomforest作为第二层融合模型"
   ]
  },
  {
   "cell_type": "code",
   "execution_count": null,
   "metadata": {},
   "outputs": [],
   "source": [
    "rfrmodel = RandomForestRegressor(\n",
    "    n_estimators = 20, \n",
    "    min_samples_leaf = 4, \n",
    "    max_features = 0.3, \n",
    "    n_jobs = -1,\n",
    "    oob_score = True, \n",
    "    random_state = 42\n",
    ")\n",
    "\n",
    "oof_rfr_stack = train_model(train_stack,y,model_type = 'rfr',params = None,model = rfrmodel)"
   ]
  },
  {
   "cell_type": "markdown",
   "metadata": {},
   "source": [
    "##### xgboost作为第二层融合模型"
   ]
  },
  {
   "cell_type": "code",
   "execution_count": null,
   "metadata": {},
   "outputs": [],
   "source": [
    "xgb_params = {'eta': 0.01,\n",
    "              'objective': 'reg:linear',\n",
    "              'max_depth': 7,\n",
    "              'subsample': 0.8,\n",
    "              'colsample_bytree': 0.8,\n",
    "              'eval_metric': 'rmse',\n",
    "              'seed': 11,\n",
    "              'silent': True}\n",
    "oof_xgb_stack = train_model(train_stack,  y, params=xgb_params, model_type='xgb', plot_feature_importance=False)"
   ]
  },
  {
   "cell_type": "markdown",
   "metadata": {},
   "source": [
    "##### svr 作为第二层融合模型"
   ]
  },
  {
   "cell_type": "code",
   "execution_count": null,
   "metadata": {},
   "outputs": [],
   "source": [
    "param_grid = {\n",
    "    \"kernel\": (\"linear\", 'rbf'), \n",
    "    \"C\": np.logspace(-3, 3, 7), \n",
    "    \"gamma\": np.logspace(-3, 3, 7)}\n",
    "\n",
    "svr = GridSearchCV(SVR(), param_grid=param_grid,n_jobs = -1,scoring='neg_mean_squared_error')\n",
    "svr = SVR()\n",
    "oof_svr_stack = train_model(train_stack, y, params=None,model_type='svr',model = svr)"
   ]
  },
  {
   "cell_type": "markdown",
   "metadata": {},
   "source": [
    "##### 岭回归做第二层融合模型"
   ]
  },
  {
   "cell_type": "code",
   "execution_count": null,
   "metadata": {},
   "outputs": [],
   "source": [
    "model = linear_model.RidgeCV(alphas=(0.01, 0.1, 1.0, 10.0, 100.0), scoring='neg_mean_squared_error', cv=folds)\n",
    "oof_rcv_stack  = train_model(train_stack.values, y, params=None, model_type='sklearn', model=model)"
   ]
  },
  {
   "cell_type": "markdown",
   "metadata": {},
   "source": [
    "#### 只留下cat"
   ]
  },
  {
   "cell_type": "code",
   "execution_count": null,
   "metadata": {},
   "outputs": [],
   "source": [
    "#构建第二层训练矩阵\n",
    "train_stack = np.vstack([oof_cat]).transpose()\n",
    "train_stack = pd.DataFrame(train_stack, columns=['cat'])"
   ]
  },
  {
   "cell_type": "markdown",
   "metadata": {},
   "source": [
    "##### lgb作为第二层融合模型"
   ]
  },
  {
   "cell_type": "code",
   "execution_count": null,
   "metadata": {},
   "outputs": [],
   "source": [
    "params = {'num_leaves': 30,\n",
    "         'min_data_in_leaf': 20,\n",
    "         'objective': 'regression',\n",
    "         'max_depth': 9,\n",
    "         'learning_rate': 0.01,\n",
    "         \"boosting\": \"gbdt\",\n",
    "         \"feature_fraction\": 0.9,\n",
    "         \"bagging_freq\": 1,\n",
    "         \"bagging_fraction\": 0.9,\n",
    "         \"bagging_seed\": 11,\n",
    "         \"metric\": 'rmse',\n",
    "         \"lambda_l1\": 0.2,\n",
    "         \"verbosity\": -1}\n",
    "oof_lgb_stack,  _ = train_model(train_stack, y, params=params, model_type='lgb', plot_feature_importance=True)"
   ]
  },
  {
   "cell_type": "code",
   "execution_count": null,
   "metadata": {},
   "outputs": [],
   "source": [
    "#lgb 作为meta\n",
    "params = {'num_leaves': 8,\n",
    "         'min_data_in_leaf': 20,\n",
    "         'objective': 'regression',\n",
    "         'max_depth': 3,\n",
    "         'learning_rate': 0.01,\n",
    "         \"boosting\": \"gbdt\",\n",
    "         \"bagging_seed\": 11,\n",
    "         \"metric\": 'rmse',\n",
    "         \"lambda_l1\": 0.2,\n",
    "         \"verbosity\": -1}\n",
    "oof_lgb_stack,  _ = train_model(train_stack, y, params=params, model_type='lgb', plot_feature_importance=True)"
   ]
  },
  {
   "cell_type": "markdown",
   "metadata": {},
   "source": [
    "##### catboost作为第二层融合模型"
   ]
  },
  {
   "cell_type": "code",
   "execution_count": null,
   "metadata": {},
   "outputs": [],
   "source": [
    "cat_params = {'learning_rate': 0.002,\n",
    "              'depth': 5,\n",
    "              'l2_leaf_reg': 10,\n",
    "              # 'bootstrap_type': 'Bernoulli',\n",
    "              'colsample_bylevel': 0.8,\n",
    "              'bagging_temperature': 0.2,\n",
    "              #'metric_period': 500,\n",
    "              'od_type': 'Iter',\n",
    "              'od_wait': 100,\n",
    "              'random_seed': 11,\n",
    "              'allow_writing_files': False}\n",
    "oof_cat_stack = train_model(train_stack,y,params = cat_params,model_type = 'cat')"
   ]
  },
  {
   "cell_type": "markdown",
   "metadata": {},
   "source": [
    "##### randomforest作为第二层融合模型"
   ]
  },
  {
   "cell_type": "code",
   "execution_count": null,
   "metadata": {},
   "outputs": [],
   "source": [
    "rfrmodel = RandomForestRegressor(\n",
    "    n_estimators = 20, \n",
    "    min_samples_leaf = 4, \n",
    "    max_features = 0.3, \n",
    "    n_jobs = -1,\n",
    "    oob_score = True, \n",
    "    random_state = 42\n",
    ")\n",
    "\n",
    "oof_rfr_stack = train_model(train_stack,y,model_type = 'rfr',params = None,model = rfrmodel)"
   ]
  },
  {
   "cell_type": "markdown",
   "metadata": {},
   "source": [
    "##### xgboost作为第二层融合模型"
   ]
  },
  {
   "cell_type": "code",
   "execution_count": null,
   "metadata": {},
   "outputs": [],
   "source": [
    "xgb_params = {'eta': 0.01,\n",
    "              'objective': 'reg:linear',\n",
    "              'max_depth': 7,\n",
    "              'subsample': 0.8,\n",
    "              'colsample_bytree': 0.8,\n",
    "              'eval_metric': 'rmse',\n",
    "              'seed': 11,\n",
    "              'silent': True}\n",
    "oof_xgb_stack = train_model(train_stack,  y, params=xgb_params, model_type='xgb', plot_feature_importance=False)"
   ]
  },
  {
   "cell_type": "markdown",
   "metadata": {},
   "source": [
    "##### svr 作为第二层融合模型"
   ]
  },
  {
   "cell_type": "code",
   "execution_count": null,
   "metadata": {},
   "outputs": [],
   "source": [
    "param_grid = {\n",
    "    \"kernel\": (\"linear\", 'rbf'), \n",
    "    \"C\": np.logspace(-3, 3, 7), \n",
    "    \"gamma\": np.logspace(-3, 3, 7)}\n",
    "\n",
    "svr = GridSearchCV(SVR(), param_grid=param_grid,n_jobs = -1,scoring='neg_mean_squared_error')\n",
    "svr = SVR()\n",
    "oof_svr_stack = train_model(train_stack, y, params=None,model_type='svr',model = svr)"
   ]
  },
  {
   "cell_type": "markdown",
   "metadata": {},
   "source": [
    "##### 岭回归做第二层融合模型"
   ]
  },
  {
   "cell_type": "code",
   "execution_count": null,
   "metadata": {},
   "outputs": [],
   "source": [
    "model = linear_model.RidgeCV(alphas=(0.01, 0.1, 1.0, 10.0, 100.0), scoring='neg_mean_squared_error', cv=folds)\n",
    "oof_rcv_stack  = train_model(train_stack.values, y, params=None, model_type='sklearn', model=model)"
   ]
  },
  {
   "cell_type": "markdown",
   "metadata": {},
   "source": [
    "#### 只留下rfr"
   ]
  },
  {
   "cell_type": "code",
   "execution_count": null,
   "metadata": {},
   "outputs": [],
   "source": [
    "#构建第二层训练矩阵\n",
    "train_stack = np.vstack([oof_rfr]).transpose()\n",
    "train_stack = pd.DataFrame(train_stack, columns=['rfr'])"
   ]
  },
  {
   "cell_type": "markdown",
   "metadata": {},
   "source": [
    "##### lgb作为第二层融合模型"
   ]
  },
  {
   "cell_type": "code",
   "execution_count": null,
   "metadata": {},
   "outputs": [],
   "source": [
    "params = {'num_leaves': 30,\n",
    "         'min_data_in_leaf': 20,\n",
    "         'objective': 'regression',\n",
    "         'max_depth': 9,\n",
    "         'learning_rate': 0.01,\n",
    "         \"boosting\": \"gbdt\",\n",
    "         \"feature_fraction\": 0.9,\n",
    "         \"bagging_freq\": 1,\n",
    "         \"bagging_fraction\": 0.9,\n",
    "         \"bagging_seed\": 11,\n",
    "         \"metric\": 'rmse',\n",
    "         \"lambda_l1\": 0.2,\n",
    "         \"verbosity\": -1}\n",
    "oof_lgb_stack,  _ = train_model(train_stack, y, params=params, model_type='lgb', plot_feature_importance=True)"
   ]
  },
  {
   "cell_type": "code",
   "execution_count": null,
   "metadata": {},
   "outputs": [],
   "source": [
    "#lgb 作为meta\n",
    "params = {'num_leaves': 8,\n",
    "         'min_data_in_leaf': 20,\n",
    "         'objective': 'regression',\n",
    "         'max_depth': 3,\n",
    "         'learning_rate': 0.01,\n",
    "         \"boosting\": \"gbdt\",\n",
    "         \"bagging_seed\": 11,\n",
    "         \"metric\": 'rmse',\n",
    "         \"lambda_l1\": 0.2,\n",
    "         \"verbosity\": -1}\n",
    "oof_lgb_stack,  _ = train_model(train_stack, y, params=params, model_type='lgb', plot_feature_importance=True)"
   ]
  },
  {
   "cell_type": "markdown",
   "metadata": {},
   "source": [
    "##### catboost作为第二层融合模型"
   ]
  },
  {
   "cell_type": "code",
   "execution_count": null,
   "metadata": {},
   "outputs": [],
   "source": [
    "cat_params = {'learning_rate': 0.002,\n",
    "              'depth': 5,\n",
    "              'l2_leaf_reg': 10,\n",
    "              # 'bootstrap_type': 'Bernoulli',\n",
    "              'colsample_bylevel': 0.8,\n",
    "              'bagging_temperature': 0.2,\n",
    "              #'metric_period': 500,\n",
    "              'od_type': 'Iter',\n",
    "              'od_wait': 100,\n",
    "              'random_seed': 11,\n",
    "              'allow_writing_files': False}\n",
    "oof_cat_stack = train_model(train_stack,y,params = cat_params,model_type = 'cat')"
   ]
  },
  {
   "cell_type": "markdown",
   "metadata": {},
   "source": [
    "##### randomforest作为第二层融合模型"
   ]
  },
  {
   "cell_type": "code",
   "execution_count": null,
   "metadata": {},
   "outputs": [],
   "source": [
    "rfrmodel = RandomForestRegressor(\n",
    "    n_estimators = 20, \n",
    "    min_samples_leaf = 4, \n",
    "    max_features = 0.3, \n",
    "    n_jobs = -1,\n",
    "    oob_score = True, \n",
    "    random_state = 42\n",
    ")\n",
    "\n",
    "oof_rfr_stack = train_model(train_stack,y,model_type = 'rfr',params = None,model = rfrmodel)"
   ]
  },
  {
   "cell_type": "markdown",
   "metadata": {},
   "source": [
    "##### xgboost作为第二层融合模型"
   ]
  },
  {
   "cell_type": "code",
   "execution_count": null,
   "metadata": {},
   "outputs": [],
   "source": [
    "xgb_params = {'eta': 0.01,\n",
    "              'objective': 'reg:linear',\n",
    "              'max_depth': 7,\n",
    "              'subsample': 0.8,\n",
    "              'colsample_bytree': 0.8,\n",
    "              'eval_metric': 'rmse',\n",
    "              'seed': 11,\n",
    "              'silent': True}\n",
    "oof_xgb_stack = train_model(train_stack,  y, params=xgb_params, model_type='xgb', plot_feature_importance=False)"
   ]
  },
  {
   "cell_type": "markdown",
   "metadata": {},
   "source": [
    "##### svr 作为第二层融合模型"
   ]
  },
  {
   "cell_type": "code",
   "execution_count": null,
   "metadata": {},
   "outputs": [],
   "source": [
    "param_grid = {\n",
    "    \"kernel\": (\"linear\", 'rbf'), \n",
    "    \"C\": np.logspace(-3, 3, 7), \n",
    "    \"gamma\": np.logspace(-3, 3, 7)}\n",
    "\n",
    "svr = GridSearchCV(SVR(), param_grid=param_grid,n_jobs = -1,scoring='neg_mean_squared_error')\n",
    "svr = SVR()\n",
    "oof_svr_stack = train_model(train_stack, y, params=None,model_type='svr',model = svr)"
   ]
  },
  {
   "cell_type": "markdown",
   "metadata": {},
   "source": [
    "##### 岭回归做第二层融合模型"
   ]
  },
  {
   "cell_type": "code",
   "execution_count": null,
   "metadata": {},
   "outputs": [],
   "source": [
    "model = linear_model.RidgeCV(alphas=(0.01, 0.1, 1.0, 10.0, 100.0), scoring='neg_mean_squared_error', cv=folds)\n",
    "oof_rcv_stack  = train_model(train_stack.values, y, params=None, model_type='sklearn', model=model)"
   ]
  },
  {
   "cell_type": "markdown",
   "metadata": {},
   "source": [
    "#### 只留下svr"
   ]
  },
  {
   "cell_type": "code",
   "execution_count": null,
   "metadata": {},
   "outputs": [],
   "source": [
    "#构建第二层训练矩阵\n",
    "train_stack = np.vstack([oof_svr]).transpose()\n",
    "train_stack = pd.DataFrame(train_stack, columns=['svr'])"
   ]
  },
  {
   "cell_type": "markdown",
   "metadata": {},
   "source": [
    "##### lgb作为第二层融合模型"
   ]
  },
  {
   "cell_type": "code",
   "execution_count": null,
   "metadata": {},
   "outputs": [],
   "source": [
    "params = {'num_leaves': 30,\n",
    "         'min_data_in_leaf': 20,\n",
    "         'objective': 'regression',\n",
    "         'max_depth': 9,\n",
    "         'learning_rate': 0.01,\n",
    "         \"boosting\": \"gbdt\",\n",
    "         \"feature_fraction\": 0.9,\n",
    "         \"bagging_freq\": 1,\n",
    "         \"bagging_fraction\": 0.9,\n",
    "         \"bagging_seed\": 11,\n",
    "         \"metric\": 'rmse',\n",
    "         \"lambda_l1\": 0.2,\n",
    "         \"verbosity\": -1}\n",
    "oof_lgb_stack,  _ = train_model(train_stack, y, params=params, model_type='lgb', plot_feature_importance=True)"
   ]
  },
  {
   "cell_type": "code",
   "execution_count": null,
   "metadata": {},
   "outputs": [],
   "source": [
    "#lgb 作为meta\n",
    "params = {'num_leaves': 8,\n",
    "         'min_data_in_leaf': 20,\n",
    "         'objective': 'regression',\n",
    "         'max_depth': 3,\n",
    "         'learning_rate': 0.01,\n",
    "         \"boosting\": \"gbdt\",\n",
    "         \"bagging_seed\": 11,\n",
    "         \"metric\": 'rmse',\n",
    "         \"lambda_l1\": 0.2,\n",
    "         \"verbosity\": -1}\n",
    "oof_lgb_stack,  _ = train_model(train_stack, y, params=params, model_type='lgb', plot_feature_importance=True)"
   ]
  },
  {
   "cell_type": "markdown",
   "metadata": {},
   "source": [
    "##### catboost作为第二层融合模型"
   ]
  },
  {
   "cell_type": "code",
   "execution_count": null,
   "metadata": {},
   "outputs": [],
   "source": [
    "cat_params = {'learning_rate': 0.002,\n",
    "              'depth': 5,\n",
    "              'l2_leaf_reg': 10,\n",
    "              # 'bootstrap_type': 'Bernoulli',\n",
    "              'colsample_bylevel': 0.8,\n",
    "              'bagging_temperature': 0.2,\n",
    "              #'metric_period': 500,\n",
    "              'od_type': 'Iter',\n",
    "              'od_wait': 100,\n",
    "              'random_seed': 11,\n",
    "              'allow_writing_files': False}\n",
    "oof_cat_stack = train_model(train_stack,y,params = cat_params,model_type = 'cat')"
   ]
  },
  {
   "cell_type": "markdown",
   "metadata": {},
   "source": [
    "##### randomforest作为第二层融合模型"
   ]
  },
  {
   "cell_type": "code",
   "execution_count": null,
   "metadata": {},
   "outputs": [],
   "source": [
    "rfrmodel = RandomForestRegressor(\n",
    "    n_estimators = 20, \n",
    "    min_samples_leaf = 4, \n",
    "    max_features = 0.3, \n",
    "    n_jobs = -1,\n",
    "    oob_score = True, \n",
    "    random_state = 42\n",
    ")\n",
    "\n",
    "oof_rfr_stack = train_model(train_stack,y,model_type = 'rfr',params = None,model = rfrmodel)"
   ]
  },
  {
   "cell_type": "markdown",
   "metadata": {},
   "source": [
    "##### xgboost作为第二层融合模型"
   ]
  },
  {
   "cell_type": "code",
   "execution_count": null,
   "metadata": {},
   "outputs": [],
   "source": [
    "xgb_params = {'eta': 0.01,\n",
    "              'objective': 'reg:linear',\n",
    "              'max_depth': 7,\n",
    "              'subsample': 0.8,\n",
    "              'colsample_bytree': 0.8,\n",
    "              'eval_metric': 'rmse',\n",
    "              'seed': 11,\n",
    "              'silent': True}\n",
    "oof_xgb_stack = train_model(train_stack,  y, params=xgb_params, model_type='xgb', plot_feature_importance=False)"
   ]
  },
  {
   "cell_type": "markdown",
   "metadata": {},
   "source": [
    "##### svr 作为第二层融合模型"
   ]
  },
  {
   "cell_type": "code",
   "execution_count": null,
   "metadata": {},
   "outputs": [],
   "source": [
    "param_grid = {\n",
    "    \"kernel\": (\"linear\", 'rbf'), \n",
    "    \"C\": np.logspace(-3, 3, 7), \n",
    "    \"gamma\": np.logspace(-3, 3, 7)}\n",
    "\n",
    "svr = GridSearchCV(SVR(), param_grid=param_grid,n_jobs = -1,scoring='neg_mean_squared_error')\n",
    "svr = SVR()\n",
    "oof_svr_stack = train_model(train_stack, y, params=None,model_type='svr',model = svr)"
   ]
  },
  {
   "cell_type": "markdown",
   "metadata": {},
   "source": [
    "##### 岭回归做第二层融合模型"
   ]
  },
  {
   "cell_type": "code",
   "execution_count": null,
   "metadata": {},
   "outputs": [],
   "source": [
    "model = linear_model.RidgeCV(alphas=(0.01, 0.1, 1.0, 10.0, 100.0), scoring='neg_mean_squared_error', cv=folds)\n",
    "oof_rcv_stack  = train_model(train_stack.values, y, params=None, model_type='sklearn', model=model)"
   ]
  },
  {
   "cell_type": "markdown",
   "metadata": {},
   "source": [
    "#### 只留下xgb"
   ]
  },
  {
   "cell_type": "code",
   "execution_count": null,
   "metadata": {},
   "outputs": [],
   "source": [
    "#构建第二层训练矩阵\n",
    "train_stack = np.vstack([oof_xgb]).transpose()\n",
    "train_stack = pd.DataFrame(train_stack, columns=['xgb'])"
   ]
  },
  {
   "cell_type": "markdown",
   "metadata": {},
   "source": [
    "##### lgb作为第二层融合模型"
   ]
  },
  {
   "cell_type": "code",
   "execution_count": null,
   "metadata": {},
   "outputs": [],
   "source": [
    "params = {'num_leaves': 30,\n",
    "         'min_data_in_leaf': 20,\n",
    "         'objective': 'regression',\n",
    "         'max_depth': 9,\n",
    "         'learning_rate': 0.01,\n",
    "         \"boosting\": \"gbdt\",\n",
    "         \"feature_fraction\": 0.9,\n",
    "         \"bagging_freq\": 1,\n",
    "         \"bagging_fraction\": 0.9,\n",
    "         \"bagging_seed\": 11,\n",
    "         \"metric\": 'rmse',\n",
    "         \"lambda_l1\": 0.2,\n",
    "         \"verbosity\": -1}\n",
    "oof_lgb_stack,  _ = train_model(train_stack, y, params=params, model_type='lgb', plot_feature_importance=True)"
   ]
  },
  {
   "cell_type": "code",
   "execution_count": null,
   "metadata": {},
   "outputs": [],
   "source": [
    "#lgb 作为meta\n",
    "params = {'num_leaves': 8,\n",
    "         'min_data_in_leaf': 20,\n",
    "         'objective': 'regression',\n",
    "         'max_depth': 3,\n",
    "         'learning_rate': 0.01,\n",
    "         \"boosting\": \"gbdt\",\n",
    "         \"bagging_seed\": 11,\n",
    "         \"metric\": 'rmse',\n",
    "         \"lambda_l1\": 0.2,\n",
    "         \"verbosity\": -1}\n",
    "oof_lgb_stack,  _ = train_model(train_stack, y, params=params, model_type='lgb', plot_feature_importance=True)"
   ]
  },
  {
   "cell_type": "markdown",
   "metadata": {},
   "source": [
    "##### catboost作为第二层融合模型"
   ]
  },
  {
   "cell_type": "code",
   "execution_count": null,
   "metadata": {},
   "outputs": [],
   "source": [
    "cat_params = {'learning_rate': 0.002,\n",
    "              'depth': 5,\n",
    "              'l2_leaf_reg': 10,\n",
    "              # 'bootstrap_type': 'Bernoulli',\n",
    "              'colsample_bylevel': 0.8,\n",
    "              'bagging_temperature': 0.2,\n",
    "              #'metric_period': 500,\n",
    "              'od_type': 'Iter',\n",
    "              'od_wait': 100,\n",
    "              'random_seed': 11,\n",
    "              'allow_writing_files': False}\n",
    "oof_cat_stack = train_model(train_stack,y,params = cat_params,model_type = 'cat')"
   ]
  },
  {
   "cell_type": "markdown",
   "metadata": {},
   "source": [
    "##### randomforest作为第二层融合模型"
   ]
  },
  {
   "cell_type": "code",
   "execution_count": null,
   "metadata": {},
   "outputs": [],
   "source": [
    "rfrmodel = RandomForestRegressor(\n",
    "    n_estimators = 20, \n",
    "    min_samples_leaf = 4, \n",
    "    max_features = 0.3, \n",
    "    n_jobs = -1,\n",
    "    oob_score = True, \n",
    "    random_state = 42\n",
    ")\n",
    "\n",
    "oof_rfr_stack = train_model(train_stack,y,model_type = 'rfr',params = None,model = rfrmodel)"
   ]
  },
  {
   "cell_type": "markdown",
   "metadata": {},
   "source": [
    "##### xgboost作为第二层融合模型"
   ]
  },
  {
   "cell_type": "code",
   "execution_count": null,
   "metadata": {},
   "outputs": [],
   "source": [
    "xgb_params = {'eta': 0.01,\n",
    "              'objective': 'reg:linear',\n",
    "              'max_depth': 7,\n",
    "              'subsample': 0.8,\n",
    "              'colsample_bytree': 0.8,\n",
    "              'eval_metric': 'rmse',\n",
    "              'seed': 11,\n",
    "              'silent': True}\n",
    "oof_xgb_stack = train_model(train_stack,  y, params=xgb_params, model_type='xgb', plot_feature_importance=False)"
   ]
  },
  {
   "cell_type": "markdown",
   "metadata": {},
   "source": [
    "##### svr 作为第二层融合模型"
   ]
  },
  {
   "cell_type": "code",
   "execution_count": null,
   "metadata": {},
   "outputs": [],
   "source": [
    "param_grid = {\n",
    "    \"kernel\": (\"linear\", 'rbf'), \n",
    "    \"C\": np.logspace(-3, 3, 7), \n",
    "    \"gamma\": np.logspace(-3, 3, 7)}\n",
    "\n",
    "svr = GridSearchCV(SVR(), param_grid=param_grid,n_jobs = -1,scoring='neg_mean_squared_error')\n",
    "svr = SVR()\n",
    "oof_svr_stack = train_model(train_stack, y, params=None,model_type='svr',model = svr)"
   ]
  },
  {
   "cell_type": "markdown",
   "metadata": {},
   "source": [
    "##### 岭回归做第二层融合模型"
   ]
  },
  {
   "cell_type": "code",
   "execution_count": null,
   "metadata": {},
   "outputs": [],
   "source": [
    "model = linear_model.RidgeCV(alphas=(0.01, 0.1, 1.0, 10.0, 100.0), scoring='neg_mean_squared_error', cv=folds)\n",
    "oof_rcv_stack  = train_model(train_stack.values, y, params=None, model_type='sklearn', model=model)"
   ]
  },
  {
   "cell_type": "markdown",
   "metadata": {},
   "source": [
    "#### 只留下lgb"
   ]
  },
  {
   "cell_type": "code",
   "execution_count": null,
   "metadata": {},
   "outputs": [],
   "source": [
    "#构建第二层训练矩阵\n",
    "train_stack = np.vstack([oof_lgb,  oof_lgb_1, oof_lgb_2]).transpose()\n",
    "train_stack = pd.DataFrame(train_stack, columns=['lgb',  'lgb_1', 'lgb_2'])"
   ]
  },
  {
   "cell_type": "markdown",
   "metadata": {},
   "source": [
    "##### lgb作为第二层融合模型"
   ]
  },
  {
   "cell_type": "code",
   "execution_count": null,
   "metadata": {},
   "outputs": [],
   "source": [
    "params = {'num_leaves': 30,\n",
    "         'min_data_in_leaf': 20,\n",
    "         'objective': 'regression',\n",
    "         'max_depth': 9,\n",
    "         'learning_rate': 0.01,\n",
    "         \"boosting\": \"gbdt\",\n",
    "         \"feature_fraction\": 0.9,\n",
    "         \"bagging_freq\": 1,\n",
    "         \"bagging_fraction\": 0.9,\n",
    "         \"bagging_seed\": 11,\n",
    "         \"metric\": 'rmse',\n",
    "         \"lambda_l1\": 0.2,\n",
    "         \"verbosity\": -1}\n",
    "oof_lgb_stack,  _ = train_model(train_stack, y, params=params, model_type='lgb', plot_feature_importance=True)"
   ]
  },
  {
   "cell_type": "code",
   "execution_count": null,
   "metadata": {},
   "outputs": [],
   "source": [
    "#lgb 作为meta\n",
    "params = {'num_leaves': 8,\n",
    "         'min_data_in_leaf': 20,\n",
    "         'objective': 'regression',\n",
    "         'max_depth': 3,\n",
    "         'learning_rate': 0.01,\n",
    "         \"boosting\": \"gbdt\",\n",
    "         \"bagging_seed\": 11,\n",
    "         \"metric\": 'rmse',\n",
    "         \"lambda_l1\": 0.2,\n",
    "         \"verbosity\": -1}\n",
    "oof_lgb_stack,  _ = train_model(train_stack, y, params=params, model_type='lgb', plot_feature_importance=True)"
   ]
  },
  {
   "cell_type": "markdown",
   "metadata": {},
   "source": [
    "##### catboost作为第二层融合模型"
   ]
  },
  {
   "cell_type": "code",
   "execution_count": null,
   "metadata": {},
   "outputs": [],
   "source": [
    "cat_params = {'learning_rate': 0.002,\n",
    "              'depth': 5,\n",
    "              'l2_leaf_reg': 10,\n",
    "              # 'bootstrap_type': 'Bernoulli',\n",
    "              'colsample_bylevel': 0.8,\n",
    "              'bagging_temperature': 0.2,\n",
    "              #'metric_period': 500,\n",
    "              'od_type': 'Iter',\n",
    "              'od_wait': 100,\n",
    "              'random_seed': 11,\n",
    "              'allow_writing_files': False}\n",
    "oof_cat_stack = train_model(train_stack,y,params = cat_params,model_type = 'cat')"
   ]
  },
  {
   "cell_type": "markdown",
   "metadata": {},
   "source": [
    "##### randomforest作为第二层融合模型"
   ]
  },
  {
   "cell_type": "code",
   "execution_count": null,
   "metadata": {},
   "outputs": [],
   "source": [
    "rfrmodel = RandomForestRegressor(\n",
    "    n_estimators = 20, \n",
    "    min_samples_leaf = 4, \n",
    "    max_features = 0.3, \n",
    "    n_jobs = -1,\n",
    "    oob_score = True, \n",
    "    random_state = 42\n",
    ")\n",
    "\n",
    "oof_rfr_stack = train_model(train_stack,y,model_type = 'rfr',params = None,model = rfrmodel)"
   ]
  },
  {
   "cell_type": "markdown",
   "metadata": {},
   "source": [
    "##### xgboost作为第二层融合模型"
   ]
  },
  {
   "cell_type": "code",
   "execution_count": null,
   "metadata": {},
   "outputs": [],
   "source": [
    "xgb_params = {'eta': 0.01,\n",
    "              'objective': 'reg:linear',\n",
    "              'max_depth': 7,\n",
    "              'subsample': 0.8,\n",
    "              'colsample_bytree': 0.8,\n",
    "              'eval_metric': 'rmse',\n",
    "              'seed': 11,\n",
    "              'silent': True}\n",
    "oof_xgb_stack = train_model(train_stack,  y, params=xgb_params, model_type='xgb', plot_feature_importance=False)"
   ]
  },
  {
   "cell_type": "markdown",
   "metadata": {},
   "source": [
    "##### svr 作为第二层融合模型"
   ]
  },
  {
   "cell_type": "code",
   "execution_count": null,
   "metadata": {},
   "outputs": [],
   "source": [
    "param_grid = {\n",
    "    \"kernel\": (\"linear\", 'rbf'), \n",
    "    \"C\": np.logspace(-3, 3, 7), \n",
    "    \"gamma\": np.logspace(-3, 3, 7)}\n",
    "\n",
    "svr = GridSearchCV(SVR(), param_grid=param_grid,n_jobs = -1,scoring='neg_mean_squared_error')\n",
    "svr = SVR()\n",
    "oof_svr_stack = train_model(train_stack, y, params=None,model_type='svr',model = svr)"
   ]
  },
  {
   "cell_type": "markdown",
   "metadata": {},
   "source": [
    "##### 岭回归做第二层融合模型"
   ]
  },
  {
   "cell_type": "code",
   "execution_count": null,
   "metadata": {},
   "outputs": [],
   "source": [
    "model = linear_model.RidgeCV(alphas=(0.01, 0.1, 1.0, 10.0, 100.0), scoring='neg_mean_squared_error', cv=folds)\n",
    "oof_rcv_stack  = train_model(train_stack.values, y, params=None, model_type='sklearn', model=model)"
   ]
  }
 ],
 "metadata": {
  "kernelspec": {
   "display_name": "'Python Interactive'",
   "language": "python",
   "name": "1489615e-dd0f-462a-a6ba-8cb01f0272cb"
  },
  "language_info": {
   "codemirror_mode": {
    "name": "ipython",
    "version": 3
   },
   "file_extension": ".py",
   "mimetype": "text/x-python",
   "name": "python",
   "nbconvert_exporter": "python",
   "pygments_lexer": "ipython3",
   "version": "3.7.5"
  }
 },
 "nbformat": 4,
 "nbformat_minor": 2
}
